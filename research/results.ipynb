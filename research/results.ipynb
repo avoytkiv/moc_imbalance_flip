{
 "cells": [
  {
   "cell_type": "markdown",
   "metadata": {},
   "source": [
    "## Table of contents:\n",
    "* [Libraries, functions, constants](#first-bullet)\n",
    "* [Peak at data](#second-bullet)\n",
    "* [Commissions](#third-bullet)\n",
    "    * [Plot](#third-bullet-plot)\n",
    "    * [Sharpe](#third-bullet-sharpe)\n",
    "* [Price and position size analysis](#fourth-bullet)\n",
    "    * [Bins](#fourth-bullet-bins)\n",
    "    * [Plot](#fourth-bullet-plot)\n",
    "    * [Sharpe](#fourth-bullet-sharpe)\n",
    "* [Imbalance delta analysis](#fifth-bullet)\n",
    "    * [Bins](#fifth-bullet-bins)\n",
    "    * [Plot](#fifth-bullet-plot)\n",
    "    * [Sharpe](#fifth-bullet-sharpe)\n",
    "* [Close status analysis](#sixth-bullet)\n",
    "    * [Plot](#sixth-bullet-plot)\n",
    "    * [Sharpe](#sixth-bullet-sharpe)\n",
    "* [MAE/MFE](#seventh-bullet)\n",
    "    * [Plot](#seventh-bullet-plot)\n",
    "    * [Stop loss](#seventh-bullet-sl)\n",
    "* [MOC print imapct ](#eigth-bullet)\n",
    "* [Seasonality analysis](#nineth-bullet)\n",
    "    * [Bins](#nineth-bullet-bins)\n",
    "    * [Plot](#nineth-bullet-plot)\n",
    "    * [Sharpe](#nineth-bullet-sharpe)\n",
    "* [Finally](#tenth-bullet)\n",
    "    * [Ratios](#tenth-bullet-ratios)\n",
    "    * [Plot](#tenth-bullet-plot)"
   ]
  },
  {
   "cell_type": "markdown",
   "metadata": {},
   "source": [
    "## Libraries, functions, constants <a class=\"anchor\" id=\"first-bullet\"></a> "
   ]
  },
  {
   "cell_type": "code",
   "execution_count": 2,
   "metadata": {},
   "outputs": [],
   "source": [
    "import pandas as pd\n",
    "import numpy as np\n",
    "import matplotlib.pyplot as plt\n",
    "import os\n",
    "from sklearn.linear_model import LinearRegression\n",
    "\n",
    "%matplotlib inline\n",
    "plt.rcParams['figure.figsize'] = [6, 3]"
   ]
  },
  {
   "cell_type": "code",
   "execution_count": 3,
   "metadata": {},
   "outputs": [],
   "source": [
    "def plot_scatter(stat, ax, xcolumn, ycolumn):    \n",
    "    ax.scatter(stat[xcolumn].values, stat[ycolumn].values)\n",
    "    ax.plot(stat[xcolumn], linear_regression(stat, xcolumn, ycolumn), color='red')\n",
    "\n",
    "    ax.set_xlabel(xcolumn, fontsize=12)\n",
    "    ax.set_ylabel(ycolumn, fontsize=12)\n",
    "    \n",
    "    ax.hlines(0, stat[xcolumn].min(), stat[xcolumn].max(), linestyles='dashed', alpha=0.3)"
   ]
  },
  {
   "cell_type": "code",
   "execution_count": 4,
   "metadata": {},
   "outputs": [],
   "source": [
    "def linear_regression(data, x_name, y_name):\n",
    "    X = data.loc[:, x_name].values.reshape(-1, 1)  # values converts it into a numpy array\n",
    "    Y = data.loc[:, y_name].values.reshape(-1, 1)  # -1 means that calculate the dimension of rows, but have 1 column\n",
    "    linear_regressor = LinearRegression().fit(X, Y)  # create object for the class\n",
    "    print(f'r_sqr value: {linear_regressor.score(X, Y)}')\n",
    "    return linear_regressor.predict(X)"
   ]
  },
  {
   "cell_type": "code",
   "execution_count": 5,
   "metadata": {},
   "outputs": [],
   "source": [
    "path = '/Users/berg/Projects/Atto/moc_imbalance_flip/data/positions'"
   ]
  },
  {
   "cell_type": "code",
   "execution_count": 83,
   "metadata": {},
   "outputs": [
    {
     "data": {
      "text/html": [
       "<div>\n",
       "<style scoped>\n",
       "    .dataframe tbody tr th:only-of-type {\n",
       "        vertical-align: middle;\n",
       "    }\n",
       "\n",
       "    .dataframe tbody tr th {\n",
       "        vertical-align: top;\n",
       "    }\n",
       "\n",
       "    .dataframe thead th {\n",
       "        text-align: right;\n",
       "    }\n",
       "</style>\n",
       "<table border=\"1\" class=\"dataframe\">\n",
       "  <thead>\n",
       "    <tr style=\"text-align: right;\">\n",
       "      <th></th>\n",
       "      <th>date</th>\n",
       "      <th>symbol</th>\n",
       "      <th>volume</th>\n",
       "      <th>start</th>\n",
       "      <th>stop</th>\n",
       "      <th>initial_imb</th>\n",
       "      <th>paired_imb</th>\n",
       "      <th>direction</th>\n",
       "      <th>open_price</th>\n",
       "      <th>spread_at_open</th>\n",
       "      <th>...</th>\n",
       "      <th>position_size</th>\n",
       "      <th>position_size_bp</th>\n",
       "      <th>reverse_count</th>\n",
       "      <th>imbBeforeReversePct</th>\n",
       "      <th>imbAfterReversePct</th>\n",
       "      <th>deltaImbPct</th>\n",
       "      <th>delta_move</th>\n",
       "      <th>delta_move_pct</th>\n",
       "      <th>position_pnl_bp</th>\n",
       "      <th>position_pnl</th>\n",
       "    </tr>\n",
       "  </thead>\n",
       "  <tbody>\n",
       "    <tr>\n",
       "      <th>0</th>\n",
       "      <td>2020-02-03</td>\n",
       "      <td>ABBV</td>\n",
       "      <td>7916750</td>\n",
       "      <td>2020-02-03 15:55:00</td>\n",
       "      <td>2020-02-03 15:56:00</td>\n",
       "      <td>-295275</td>\n",
       "      <td>777818</td>\n",
       "      <td>Long</td>\n",
       "      <td>82.22</td>\n",
       "      <td>0.01</td>\n",
       "      <td>...</td>\n",
       "      <td>500</td>\n",
       "      <td>500.000000</td>\n",
       "      <td>1</td>\n",
       "      <td>-3.729750</td>\n",
       "      <td>0.119582</td>\n",
       "      <td>3.849332</td>\n",
       "      <td>0.05</td>\n",
       "      <td>0.060812</td>\n",
       "      <td>25.000000</td>\n",
       "      <td>25.00</td>\n",
       "    </tr>\n",
       "    <tr>\n",
       "      <th>1</th>\n",
       "      <td>2020-02-03</td>\n",
       "      <td>ABEV</td>\n",
       "      <td>15315378</td>\n",
       "      <td>2020-02-03 15:59:36</td>\n",
       "      <td>2020-02-03 16:00:00</td>\n",
       "      <td>131846</td>\n",
       "      <td>270056</td>\n",
       "      <td>Short</td>\n",
       "      <td>4.12</td>\n",
       "      <td>0.01</td>\n",
       "      <td>...</td>\n",
       "      <td>407533</td>\n",
       "      <td>12135.922330</td>\n",
       "      <td>1</td>\n",
       "      <td>0.860873</td>\n",
       "      <td>-0.729620</td>\n",
       "      <td>-1.590493</td>\n",
       "      <td>-0.01</td>\n",
       "      <td>-0.242718</td>\n",
       "      <td>-121.359223</td>\n",
       "      <td>-4075.33</td>\n",
       "    </tr>\n",
       "    <tr>\n",
       "      <th>2</th>\n",
       "      <td>2020-02-03</td>\n",
       "      <td>ACM</td>\n",
       "      <td>1262740</td>\n",
       "      <td>2020-02-03 15:55:00</td>\n",
       "      <td>2020-02-03 15:56:00</td>\n",
       "      <td>-6736</td>\n",
       "      <td>380765</td>\n",
       "      <td>Long</td>\n",
       "      <td>47.64</td>\n",
       "      <td>0.02</td>\n",
       "      <td>...</td>\n",
       "      <td>803</td>\n",
       "      <td>803.000000</td>\n",
       "      <td>1</td>\n",
       "      <td>-0.533443</td>\n",
       "      <td>0.990940</td>\n",
       "      <td>1.524383</td>\n",
       "      <td>0.01</td>\n",
       "      <td>0.020991</td>\n",
       "      <td>8.030000</td>\n",
       "      <td>8.03</td>\n",
       "    </tr>\n",
       "    <tr>\n",
       "      <th>3</th>\n",
       "      <td>2020-02-03</td>\n",
       "      <td>ACN</td>\n",
       "      <td>1880650</td>\n",
       "      <td>2020-02-03 15:55:00</td>\n",
       "      <td>2020-02-03 15:56:00</td>\n",
       "      <td>-62724</td>\n",
       "      <td>330947</td>\n",
       "      <td>Long</td>\n",
       "      <td>207.69</td>\n",
       "      <td>0.03</td>\n",
       "      <td>...</td>\n",
       "      <td>340</td>\n",
       "      <td>240.743416</td>\n",
       "      <td>1</td>\n",
       "      <td>-3.335230</td>\n",
       "      <td>1.766145</td>\n",
       "      <td>5.101375</td>\n",
       "      <td>-0.02</td>\n",
       "      <td>-0.009630</td>\n",
       "      <td>-4.814868</td>\n",
       "      <td>-6.80</td>\n",
       "    </tr>\n",
       "    <tr>\n",
       "      <th>4</th>\n",
       "      <td>2020-02-03</td>\n",
       "      <td>ADM</td>\n",
       "      <td>2913957</td>\n",
       "      <td>2020-02-03 15:59:07</td>\n",
       "      <td>2020-02-03 16:00:00</td>\n",
       "      <td>-33015</td>\n",
       "      <td>423259</td>\n",
       "      <td>Long</td>\n",
       "      <td>44.98</td>\n",
       "      <td>0.01</td>\n",
       "      <td>...</td>\n",
       "      <td>3599</td>\n",
       "      <td>1111.605158</td>\n",
       "      <td>1</td>\n",
       "      <td>-1.132995</td>\n",
       "      <td>0.061257</td>\n",
       "      <td>1.194252</td>\n",
       "      <td>-0.02</td>\n",
       "      <td>-0.044464</td>\n",
       "      <td>-22.232103</td>\n",
       "      <td>-71.98</td>\n",
       "    </tr>\n",
       "  </tbody>\n",
       "</table>\n",
       "<p>5 rows × 28 columns</p>\n",
       "</div>"
      ],
      "text/plain": [
       "         date symbol    volume                start                 stop  \\\n",
       "0  2020-02-03   ABBV   7916750  2020-02-03 15:55:00  2020-02-03 15:56:00   \n",
       "1  2020-02-03   ABEV  15315378  2020-02-03 15:59:36  2020-02-03 16:00:00   \n",
       "2  2020-02-03    ACM   1262740  2020-02-03 15:55:00  2020-02-03 15:56:00   \n",
       "3  2020-02-03    ACN   1880650  2020-02-03 15:55:00  2020-02-03 15:56:00   \n",
       "4  2020-02-03    ADM   2913957  2020-02-03 15:59:07  2020-02-03 16:00:00   \n",
       "\n",
       "   initial_imb  paired_imb direction  open_price  spread_at_open  ...  \\\n",
       "0      -295275      777818      Long       82.22            0.01  ...   \n",
       "1       131846      270056     Short        4.12            0.01  ...   \n",
       "2        -6736      380765      Long       47.64            0.02  ...   \n",
       "3       -62724      330947      Long      207.69            0.03  ...   \n",
       "4       -33015      423259      Long       44.98            0.01  ...   \n",
       "\n",
       "   position_size  position_size_bp reverse_count  imbBeforeReversePct  \\\n",
       "0            500        500.000000             1            -3.729750   \n",
       "1         407533      12135.922330             1             0.860873   \n",
       "2            803        803.000000             1            -0.533443   \n",
       "3            340        240.743416             1            -3.335230   \n",
       "4           3599       1111.605158             1            -1.132995   \n",
       "\n",
       "  imbAfterReversePct  deltaImbPct delta_move  delta_move_pct  position_pnl_bp  \\\n",
       "0           0.119582     3.849332       0.05        0.060812        25.000000   \n",
       "1          -0.729620    -1.590493      -0.01       -0.242718      -121.359223   \n",
       "2           0.990940     1.524383       0.01        0.020991         8.030000   \n",
       "3           1.766145     5.101375      -0.02       -0.009630        -4.814868   \n",
       "4           0.061257     1.194252      -0.02       -0.044464       -22.232103   \n",
       "\n",
       "   position_pnl  \n",
       "0         25.00  \n",
       "1      -4075.33  \n",
       "2          8.03  \n",
       "3         -6.80  \n",
       "4        -71.98  \n",
       "\n",
       "[5 rows x 28 columns]"
      ]
     },
     "execution_count": 83,
     "metadata": {},
     "output_type": "execute_result"
    }
   ],
   "source": [
    "cwd = os.getcwd()\n",
    "df = pd.read_csv(path + '/hold_60000_volume_2000000_spread_0.2_deltaimb_1_date_2020-11-18.csv', index_col=0)#, parse_dates=True)\n",
    "df.head()"
   ]
  },
  {
   "cell_type": "markdown",
   "metadata": {},
   "source": [
    "## Peak at data <a class=\"anchor\" id=\"second-bullet\"></a> "
   ]
  },
  {
   "cell_type": "code",
   "execution_count": 84,
   "metadata": {},
   "outputs": [
    {
     "data": {
      "text/html": [
       "<div>\n",
       "<style scoped>\n",
       "    .dataframe tbody tr th:only-of-type {\n",
       "        vertical-align: middle;\n",
       "    }\n",
       "\n",
       "    .dataframe tbody tr th {\n",
       "        vertical-align: top;\n",
       "    }\n",
       "\n",
       "    .dataframe thead th {\n",
       "        text-align: right;\n",
       "    }\n",
       "</style>\n",
       "<table border=\"1\" class=\"dataframe\">\n",
       "  <thead>\n",
       "    <tr style=\"text-align: right;\">\n",
       "      <th></th>\n",
       "      <th>volume</th>\n",
       "      <th>initial_imb</th>\n",
       "      <th>paired_imb</th>\n",
       "      <th>open_price</th>\n",
       "      <th>spread_at_open</th>\n",
       "      <th>close_price</th>\n",
       "      <th>moc_close_price</th>\n",
       "      <th>spread_at_close</th>\n",
       "      <th>max_pnl_price</th>\n",
       "      <th>min_pnl_price</th>\n",
       "      <th>position_size</th>\n",
       "      <th>position_size_bp</th>\n",
       "      <th>reverse_count</th>\n",
       "      <th>imbBeforeReversePct</th>\n",
       "      <th>imbAfterReversePct</th>\n",
       "      <th>deltaImbPct</th>\n",
       "      <th>delta_move</th>\n",
       "      <th>delta_move_pct</th>\n",
       "      <th>position_pnl_bp</th>\n",
       "      <th>position_pnl</th>\n",
       "    </tr>\n",
       "  </thead>\n",
       "  <tbody>\n",
       "    <tr>\n",
       "      <th>count</th>\n",
       "      <td>1.827200e+04</td>\n",
       "      <td>1.827200e+04</td>\n",
       "      <td>1.827200e+04</td>\n",
       "      <td>18272.000000</td>\n",
       "      <td>18272.000000</td>\n",
       "      <td>18272.000000</td>\n",
       "      <td>7012.000000</td>\n",
       "      <td>18272.000000</td>\n",
       "      <td>18272.000000</td>\n",
       "      <td>18272.000000</td>\n",
       "      <td>1.827200e+04</td>\n",
       "      <td>18272.000000</td>\n",
       "      <td>18272.000000</td>\n",
       "      <td>1.827200e+04</td>\n",
       "      <td>1.827200e+04</td>\n",
       "      <td>1.827200e+04</td>\n",
       "      <td>18272.000000</td>\n",
       "      <td>18272.000000</td>\n",
       "      <td>18272.000000</td>\n",
       "      <td>18272.000000</td>\n",
       "    </tr>\n",
       "    <tr>\n",
       "      <th>mean</th>\n",
       "      <td>4.968126e+06</td>\n",
       "      <td>-1.755282e+03</td>\n",
       "      <td>6.481711e+05</td>\n",
       "      <td>51.878833</td>\n",
       "      <td>0.022011</td>\n",
       "      <td>51.877531</td>\n",
       "      <td>56.300354</td>\n",
       "      <td>0.012640</td>\n",
       "      <td>51.879858</td>\n",
       "      <td>51.876805</td>\n",
       "      <td>1.404481e+04</td>\n",
       "      <td>2563.840072</td>\n",
       "      <td>2.667032</td>\n",
       "      <td>NaN</td>\n",
       "      <td>NaN</td>\n",
       "      <td>NaN</td>\n",
       "      <td>0.004440</td>\n",
       "      <td>-0.034710</td>\n",
       "      <td>-12.817141</td>\n",
       "      <td>-97.500390</td>\n",
       "    </tr>\n",
       "    <tr>\n",
       "      <th>std</th>\n",
       "      <td>6.365875e+06</td>\n",
       "      <td>2.817047e+05</td>\n",
       "      <td>1.603483e+06</td>\n",
       "      <td>55.688884</td>\n",
       "      <td>0.027448</td>\n",
       "      <td>55.688939</td>\n",
       "      <td>59.569731</td>\n",
       "      <td>0.029991</td>\n",
       "      <td>55.692392</td>\n",
       "      <td>55.685884</td>\n",
       "      <td>5.844394e+04</td>\n",
       "      <td>6775.742064</td>\n",
       "      <td>4.291945</td>\n",
       "      <td>NaN</td>\n",
       "      <td>NaN</td>\n",
       "      <td>NaN</td>\n",
       "      <td>0.163193</td>\n",
       "      <td>0.365299</td>\n",
       "      <td>115.587907</td>\n",
       "      <td>794.709378</td>\n",
       "    </tr>\n",
       "    <tr>\n",
       "      <th>min</th>\n",
       "      <td>0.000000e+00</td>\n",
       "      <td>-8.983242e+06</td>\n",
       "      <td>0.000000e+00</td>\n",
       "      <td>0.120000</td>\n",
       "      <td>0.010000</td>\n",
       "      <td>0.000000</td>\n",
       "      <td>0.164000</td>\n",
       "      <td>-0.660000</td>\n",
       "      <td>0.120000</td>\n",
       "      <td>0.000000</td>\n",
       "      <td>1.000000e+00</td>\n",
       "      <td>1.000000</td>\n",
       "      <td>1.000000</td>\n",
       "      <td>-inf</td>\n",
       "      <td>-inf</td>\n",
       "      <td>-inf</td>\n",
       "      <td>-2.970000</td>\n",
       "      <td>-10.473684</td>\n",
       "      <td>-3975.535168</td>\n",
       "      <td>-32537.920000</td>\n",
       "    </tr>\n",
       "    <tr>\n",
       "      <th>25%</th>\n",
       "      <td>2.090950e+06</td>\n",
       "      <td>-3.065800e+04</td>\n",
       "      <td>1.557460e+05</td>\n",
       "      <td>14.790000</td>\n",
       "      <td>0.010000</td>\n",
       "      <td>14.805000</td>\n",
       "      <td>16.125000</td>\n",
       "      <td>0.000000</td>\n",
       "      <td>14.787500</td>\n",
       "      <td>14.797500</td>\n",
       "      <td>3.980000e+02</td>\n",
       "      <td>320.975916</td>\n",
       "      <td>1.000000</td>\n",
       "      <td>-9.718363e-01</td>\n",
       "      <td>-8.504148e-01</td>\n",
       "      <td>-1.814094e+00</td>\n",
       "      <td>-0.030000</td>\n",
       "      <td>-0.115473</td>\n",
       "      <td>-39.203922</td>\n",
       "      <td>-60.000000</td>\n",
       "    </tr>\n",
       "    <tr>\n",
       "      <th>50%</th>\n",
       "      <td>3.268440e+06</td>\n",
       "      <td>1.320000e+02</td>\n",
       "      <td>3.010480e+05</td>\n",
       "      <td>33.225000</td>\n",
       "      <td>0.010000</td>\n",
       "      <td>33.240000</td>\n",
       "      <td>36.350000</td>\n",
       "      <td>0.010000</td>\n",
       "      <td>33.245000</td>\n",
       "      <td>33.220000</td>\n",
       "      <td>1.300000e+03</td>\n",
       "      <td>946.163316</td>\n",
       "      <td>1.000000</td>\n",
       "      <td>4.515867e-03</td>\n",
       "      <td>-5.595767e-03</td>\n",
       "      <td>-1.004371e+00</td>\n",
       "      <td>-0.010000</td>\n",
       "      <td>-0.006349</td>\n",
       "      <td>-0.200000</td>\n",
       "      <td>-0.200000</td>\n",
       "    </tr>\n",
       "    <tr>\n",
       "      <th>75%</th>\n",
       "      <td>5.482336e+06</td>\n",
       "      <td>3.223550e+04</td>\n",
       "      <td>6.021305e+05</td>\n",
       "      <td>66.070000</td>\n",
       "      <td>0.020000</td>\n",
       "      <td>66.130000</td>\n",
       "      <td>71.660000</td>\n",
       "      <td>0.010000</td>\n",
       "      <td>66.092500</td>\n",
       "      <td>66.077500</td>\n",
       "      <td>6.036500e+03</td>\n",
       "      <td>2699.784017</td>\n",
       "      <td>2.000000</td>\n",
       "      <td>9.784223e-01</td>\n",
       "      <td>8.720110e-01</td>\n",
       "      <td>1.813511e+00</td>\n",
       "      <td>0.030000</td>\n",
       "      <td>0.075010</td>\n",
       "      <td>20.000000</td>\n",
       "      <td>24.050000</td>\n",
       "    </tr>\n",
       "    <tr>\n",
       "      <th>max</th>\n",
       "      <td>1.385543e+08</td>\n",
       "      <td>1.491420e+07</td>\n",
       "      <td>5.953006e+07</td>\n",
       "      <td>499.180000</td>\n",
       "      <td>0.200000</td>\n",
       "      <td>499.370000</td>\n",
       "      <td>424.480000</td>\n",
       "      <td>0.670000</td>\n",
       "      <td>498.920000</td>\n",
       "      <td>499.500000</td>\n",
       "      <td>1.363849e+06</td>\n",
       "      <td>294117.647059</td>\n",
       "      <td>55.000000</td>\n",
       "      <td>inf</td>\n",
       "      <td>inf</td>\n",
       "      <td>inf</td>\n",
       "      <td>4.280000</td>\n",
       "      <td>4.134995</td>\n",
       "      <td>1904.000000</td>\n",
       "      <td>16699.670000</td>\n",
       "    </tr>\n",
       "  </tbody>\n",
       "</table>\n",
       "</div>"
      ],
      "text/plain": [
       "             volume   initial_imb    paired_imb    open_price  spread_at_open  \\\n",
       "count  1.827200e+04  1.827200e+04  1.827200e+04  18272.000000    18272.000000   \n",
       "mean   4.968126e+06 -1.755282e+03  6.481711e+05     51.878833        0.022011   \n",
       "std    6.365875e+06  2.817047e+05  1.603483e+06     55.688884        0.027448   \n",
       "min    0.000000e+00 -8.983242e+06  0.000000e+00      0.120000        0.010000   \n",
       "25%    2.090950e+06 -3.065800e+04  1.557460e+05     14.790000        0.010000   \n",
       "50%    3.268440e+06  1.320000e+02  3.010480e+05     33.225000        0.010000   \n",
       "75%    5.482336e+06  3.223550e+04  6.021305e+05     66.070000        0.020000   \n",
       "max    1.385543e+08  1.491420e+07  5.953006e+07    499.180000        0.200000   \n",
       "\n",
       "        close_price  moc_close_price  spread_at_close  max_pnl_price  \\\n",
       "count  18272.000000      7012.000000     18272.000000   18272.000000   \n",
       "mean      51.877531        56.300354         0.012640      51.879858   \n",
       "std       55.688939        59.569731         0.029991      55.692392   \n",
       "min        0.000000         0.164000        -0.660000       0.120000   \n",
       "25%       14.805000        16.125000         0.000000      14.787500   \n",
       "50%       33.240000        36.350000         0.010000      33.245000   \n",
       "75%       66.130000        71.660000         0.010000      66.092500   \n",
       "max      499.370000       424.480000         0.670000     498.920000   \n",
       "\n",
       "       min_pnl_price  position_size  position_size_bp  reverse_count  \\\n",
       "count   18272.000000   1.827200e+04      18272.000000   18272.000000   \n",
       "mean       51.876805   1.404481e+04       2563.840072       2.667032   \n",
       "std        55.685884   5.844394e+04       6775.742064       4.291945   \n",
       "min         0.000000   1.000000e+00          1.000000       1.000000   \n",
       "25%        14.797500   3.980000e+02        320.975916       1.000000   \n",
       "50%        33.220000   1.300000e+03        946.163316       1.000000   \n",
       "75%        66.077500   6.036500e+03       2699.784017       2.000000   \n",
       "max       499.500000   1.363849e+06     294117.647059      55.000000   \n",
       "\n",
       "       imbBeforeReversePct  imbAfterReversePct   deltaImbPct    delta_move  \\\n",
       "count         1.827200e+04        1.827200e+04  1.827200e+04  18272.000000   \n",
       "mean                   NaN                 NaN           NaN      0.004440   \n",
       "std                    NaN                 NaN           NaN      0.163193   \n",
       "min                   -inf                -inf          -inf     -2.970000   \n",
       "25%          -9.718363e-01       -8.504148e-01 -1.814094e+00     -0.030000   \n",
       "50%           4.515867e-03       -5.595767e-03 -1.004371e+00     -0.010000   \n",
       "75%           9.784223e-01        8.720110e-01  1.813511e+00      0.030000   \n",
       "max                    inf                 inf           inf      4.280000   \n",
       "\n",
       "       delta_move_pct  position_pnl_bp  position_pnl  \n",
       "count    18272.000000     18272.000000  18272.000000  \n",
       "mean        -0.034710       -12.817141    -97.500390  \n",
       "std          0.365299       115.587907    794.709378  \n",
       "min        -10.473684     -3975.535168 -32537.920000  \n",
       "25%         -0.115473       -39.203922    -60.000000  \n",
       "50%         -0.006349        -0.200000     -0.200000  \n",
       "75%          0.075010        20.000000     24.050000  \n",
       "max          4.134995      1904.000000  16699.670000  "
      ]
     },
     "execution_count": 84,
     "metadata": {},
     "output_type": "execute_result"
    }
   ],
   "source": [
    "df.describe()"
   ]
  },
  {
   "cell_type": "markdown",
   "metadata": {},
   "source": [
    "Some zero values in column `volume` even though we have filtered on the query level over `DailyShares` - average volume more than 2 mln shares. Drop these rows."
   ]
  },
  {
   "cell_type": "code",
   "execution_count": 85,
   "metadata": {},
   "outputs": [
    {
     "data": {
      "text/html": [
       "<div>\n",
       "<style scoped>\n",
       "    .dataframe tbody tr th:only-of-type {\n",
       "        vertical-align: middle;\n",
       "    }\n",
       "\n",
       "    .dataframe tbody tr th {\n",
       "        vertical-align: top;\n",
       "    }\n",
       "\n",
       "    .dataframe thead th {\n",
       "        text-align: right;\n",
       "    }\n",
       "</style>\n",
       "<table border=\"1\" class=\"dataframe\">\n",
       "  <thead>\n",
       "    <tr style=\"text-align: right;\">\n",
       "      <th></th>\n",
       "      <th>volume</th>\n",
       "      <th>initial_imb</th>\n",
       "      <th>paired_imb</th>\n",
       "      <th>open_price</th>\n",
       "      <th>spread_at_open</th>\n",
       "      <th>close_price</th>\n",
       "      <th>moc_close_price</th>\n",
       "      <th>spread_at_close</th>\n",
       "      <th>max_pnl_price</th>\n",
       "      <th>min_pnl_price</th>\n",
       "      <th>position_size</th>\n",
       "      <th>position_size_bp</th>\n",
       "      <th>reverse_count</th>\n",
       "      <th>imbBeforeReversePct</th>\n",
       "      <th>imbAfterReversePct</th>\n",
       "      <th>deltaImbPct</th>\n",
       "      <th>delta_move</th>\n",
       "      <th>delta_move_pct</th>\n",
       "      <th>position_pnl_bp</th>\n",
       "      <th>position_pnl</th>\n",
       "    </tr>\n",
       "  </thead>\n",
       "  <tbody>\n",
       "    <tr>\n",
       "      <th>count</th>\n",
       "      <td>1.824500e+04</td>\n",
       "      <td>1.824500e+04</td>\n",
       "      <td>1.824500e+04</td>\n",
       "      <td>18245.000000</td>\n",
       "      <td>18245.000000</td>\n",
       "      <td>18245.000000</td>\n",
       "      <td>7006.000000</td>\n",
       "      <td>18245.000000</td>\n",
       "      <td>18245.000000</td>\n",
       "      <td>18245.000000</td>\n",
       "      <td>1.824500e+04</td>\n",
       "      <td>18245.000000</td>\n",
       "      <td>18245.000000</td>\n",
       "      <td>18245.000000</td>\n",
       "      <td>18245.000000</td>\n",
       "      <td>18245.000000</td>\n",
       "      <td>18245.000000</td>\n",
       "      <td>18245.000000</td>\n",
       "      <td>18245.000000</td>\n",
       "      <td>18245.000000</td>\n",
       "    </tr>\n",
       "    <tr>\n",
       "      <th>mean</th>\n",
       "      <td>4.975478e+06</td>\n",
       "      <td>-1.762015e+03</td>\n",
       "      <td>6.490609e+05</td>\n",
       "      <td>51.939796</td>\n",
       "      <td>0.022001</td>\n",
       "      <td>51.938499</td>\n",
       "      <td>56.342166</td>\n",
       "      <td>0.012626</td>\n",
       "      <td>51.940841</td>\n",
       "      <td>51.937788</td>\n",
       "      <td>1.405597e+04</td>\n",
       "      <td>2562.412139</td>\n",
       "      <td>2.669498</td>\n",
       "      <td>-0.116381</td>\n",
       "      <td>0.073429</td>\n",
       "      <td>0.189810</td>\n",
       "      <td>0.004498</td>\n",
       "      <td>-0.034134</td>\n",
       "      <td>-12.710461</td>\n",
       "      <td>-97.394881</td>\n",
       "    </tr>\n",
       "    <tr>\n",
       "      <th>std</th>\n",
       "      <td>6.367712e+06</td>\n",
       "      <td>2.819022e+05</td>\n",
       "      <td>1.604497e+06</td>\n",
       "      <td>55.704669</td>\n",
       "      <td>0.027426</td>\n",
       "      <td>55.704723</td>\n",
       "      <td>59.577610</td>\n",
       "      <td>0.029981</td>\n",
       "      <td>55.708174</td>\n",
       "      <td>55.701656</td>\n",
       "      <td>5.848345e+04</td>\n",
       "      <td>6778.720825</td>\n",
       "      <td>4.294640</td>\n",
       "      <td>7.507931</td>\n",
       "      <td>4.395134</td>\n",
       "      <td>9.853599</td>\n",
       "      <td>0.163290</td>\n",
       "      <td>0.364296</td>\n",
       "      <td>115.522438</td>\n",
       "      <td>795.091757</td>\n",
       "    </tr>\n",
       "    <tr>\n",
       "      <th>min</th>\n",
       "      <td>1.125830e+05</td>\n",
       "      <td>-8.983242e+06</td>\n",
       "      <td>0.000000e+00</td>\n",
       "      <td>0.120000</td>\n",
       "      <td>0.010000</td>\n",
       "      <td>0.000000</td>\n",
       "      <td>0.164000</td>\n",
       "      <td>-0.660000</td>\n",
       "      <td>0.120000</td>\n",
       "      <td>0.000000</td>\n",
       "      <td>1.000000e+00</td>\n",
       "      <td>1.000000</td>\n",
       "      <td>1.000000</td>\n",
       "      <td>-826.165919</td>\n",
       "      <td>-53.923850</td>\n",
       "      <td>-108.393915</td>\n",
       "      <td>-2.970000</td>\n",
       "      <td>-10.473684</td>\n",
       "      <td>-3975.535168</td>\n",
       "      <td>-32537.920000</td>\n",
       "    </tr>\n",
       "    <tr>\n",
       "      <th>25%</th>\n",
       "      <td>2.097903e+06</td>\n",
       "      <td>-3.072100e+04</td>\n",
       "      <td>1.561170e+05</td>\n",
       "      <td>14.860000</td>\n",
       "      <td>0.010000</td>\n",
       "      <td>14.850000</td>\n",
       "      <td>16.142500</td>\n",
       "      <td>0.000000</td>\n",
       "      <td>14.850000</td>\n",
       "      <td>14.850000</td>\n",
       "      <td>3.980000e+02</td>\n",
       "      <td>320.430659</td>\n",
       "      <td>1.000000</td>\n",
       "      <td>-0.970532</td>\n",
       "      <td>-0.849995</td>\n",
       "      <td>-1.813283</td>\n",
       "      <td>-0.030000</td>\n",
       "      <td>-0.115119</td>\n",
       "      <td>-39.154268</td>\n",
       "      <td>-60.000000</td>\n",
       "    </tr>\n",
       "    <tr>\n",
       "      <th>50%</th>\n",
       "      <td>3.271776e+06</td>\n",
       "      <td>1.370000e+02</td>\n",
       "      <td>3.017940e+05</td>\n",
       "      <td>33.280000</td>\n",
       "      <td>0.010000</td>\n",
       "      <td>33.290000</td>\n",
       "      <td>36.430000</td>\n",
       "      <td>0.010000</td>\n",
       "      <td>33.310000</td>\n",
       "      <td>33.280000</td>\n",
       "      <td>1.300000e+03</td>\n",
       "      <td>945.358291</td>\n",
       "      <td>1.000000</td>\n",
       "      <td>0.005271</td>\n",
       "      <td>-0.006272</td>\n",
       "      <td>-1.004750</td>\n",
       "      <td>-0.010000</td>\n",
       "      <td>-0.005244</td>\n",
       "      <td>-0.100000</td>\n",
       "      <td>-0.100000</td>\n",
       "    </tr>\n",
       "    <tr>\n",
       "      <th>75%</th>\n",
       "      <td>5.484913e+06</td>\n",
       "      <td>3.226100e+04</td>\n",
       "      <td>6.025520e+05</td>\n",
       "      <td>66.220000</td>\n",
       "      <td>0.020000</td>\n",
       "      <td>66.200000</td>\n",
       "      <td>71.750000</td>\n",
       "      <td>0.010000</td>\n",
       "      <td>66.210000</td>\n",
       "      <td>66.240000</td>\n",
       "      <td>6.038000e+03</td>\n",
       "      <td>2696.871629</td>\n",
       "      <td>2.000000</td>\n",
       "      <td>0.978190</td>\n",
       "      <td>0.869601</td>\n",
       "      <td>1.811945</td>\n",
       "      <td>0.030000</td>\n",
       "      <td>0.075131</td>\n",
       "      <td>20.000000</td>\n",
       "      <td>24.160000</td>\n",
       "    </tr>\n",
       "    <tr>\n",
       "      <th>max</th>\n",
       "      <td>1.385543e+08</td>\n",
       "      <td>1.491420e+07</td>\n",
       "      <td>5.953006e+07</td>\n",
       "      <td>499.180000</td>\n",
       "      <td>0.200000</td>\n",
       "      <td>499.370000</td>\n",
       "      <td>424.480000</td>\n",
       "      <td>0.670000</td>\n",
       "      <td>498.920000</td>\n",
       "      <td>499.500000</td>\n",
       "      <td>1.363849e+06</td>\n",
       "      <td>294117.647059</td>\n",
       "      <td>55.000000</td>\n",
       "      <td>81.669285</td>\n",
       "      <td>381.543117</td>\n",
       "      <td>827.447462</td>\n",
       "      <td>4.280000</td>\n",
       "      <td>4.134995</td>\n",
       "      <td>1904.000000</td>\n",
       "      <td>16699.670000</td>\n",
       "    </tr>\n",
       "  </tbody>\n",
       "</table>\n",
       "</div>"
      ],
      "text/plain": [
       "             volume   initial_imb    paired_imb    open_price  spread_at_open  \\\n",
       "count  1.824500e+04  1.824500e+04  1.824500e+04  18245.000000    18245.000000   \n",
       "mean   4.975478e+06 -1.762015e+03  6.490609e+05     51.939796        0.022001   \n",
       "std    6.367712e+06  2.819022e+05  1.604497e+06     55.704669        0.027426   \n",
       "min    1.125830e+05 -8.983242e+06  0.000000e+00      0.120000        0.010000   \n",
       "25%    2.097903e+06 -3.072100e+04  1.561170e+05     14.860000        0.010000   \n",
       "50%    3.271776e+06  1.370000e+02  3.017940e+05     33.280000        0.010000   \n",
       "75%    5.484913e+06  3.226100e+04  6.025520e+05     66.220000        0.020000   \n",
       "max    1.385543e+08  1.491420e+07  5.953006e+07    499.180000        0.200000   \n",
       "\n",
       "        close_price  moc_close_price  spread_at_close  max_pnl_price  \\\n",
       "count  18245.000000      7006.000000     18245.000000   18245.000000   \n",
       "mean      51.938499        56.342166         0.012626      51.940841   \n",
       "std       55.704723        59.577610         0.029981      55.708174   \n",
       "min        0.000000         0.164000        -0.660000       0.120000   \n",
       "25%       14.850000        16.142500         0.000000      14.850000   \n",
       "50%       33.290000        36.430000         0.010000      33.310000   \n",
       "75%       66.200000        71.750000         0.010000      66.210000   \n",
       "max      499.370000       424.480000         0.670000     498.920000   \n",
       "\n",
       "       min_pnl_price  position_size  position_size_bp  reverse_count  \\\n",
       "count   18245.000000   1.824500e+04      18245.000000   18245.000000   \n",
       "mean       51.937788   1.405597e+04       2562.412139       2.669498   \n",
       "std        55.701656   5.848345e+04       6778.720825       4.294640   \n",
       "min         0.000000   1.000000e+00          1.000000       1.000000   \n",
       "25%        14.850000   3.980000e+02        320.430659       1.000000   \n",
       "50%        33.280000   1.300000e+03        945.358291       1.000000   \n",
       "75%        66.240000   6.038000e+03       2696.871629       2.000000   \n",
       "max       499.500000   1.363849e+06     294117.647059      55.000000   \n",
       "\n",
       "       imbBeforeReversePct  imbAfterReversePct   deltaImbPct    delta_move  \\\n",
       "count         18245.000000        18245.000000  18245.000000  18245.000000   \n",
       "mean             -0.116381            0.073429      0.189810      0.004498   \n",
       "std               7.507931            4.395134      9.853599      0.163290   \n",
       "min            -826.165919          -53.923850   -108.393915     -2.970000   \n",
       "25%              -0.970532           -0.849995     -1.813283     -0.030000   \n",
       "50%               0.005271           -0.006272     -1.004750     -0.010000   \n",
       "75%               0.978190            0.869601      1.811945      0.030000   \n",
       "max              81.669285          381.543117    827.447462      4.280000   \n",
       "\n",
       "       delta_move_pct  position_pnl_bp  position_pnl  \n",
       "count    18245.000000     18245.000000  18245.000000  \n",
       "mean        -0.034134       -12.710461    -97.394881  \n",
       "std          0.364296       115.522438    795.091757  \n",
       "min        -10.473684     -3975.535168 -32537.920000  \n",
       "25%         -0.115119       -39.154268    -60.000000  \n",
       "50%         -0.005244        -0.100000     -0.100000  \n",
       "75%          0.075131        20.000000     24.160000  \n",
       "max          4.134995      1904.000000  16699.670000  "
      ]
     },
     "execution_count": 85,
     "metadata": {},
     "output_type": "execute_result"
    }
   ],
   "source": [
    "df = df[df['volume']>0]\n",
    "df.describe()"
   ]
  },
  {
   "cell_type": "code",
   "execution_count": 86,
   "metadata": {},
   "outputs": [
    {
     "data": {
      "text/plain": [
       "array([[<AxesSubplot:title={'center':'volume'}>,\n",
       "        <AxesSubplot:title={'center':'deltaImbPct'}>,\n",
       "        <AxesSubplot:title={'center':'spread_at_open'}>],\n",
       "       [<AxesSubplot:title={'center':'position_size_bp'}>,\n",
       "        <AxesSubplot:title={'center':'delta_move'}>,\n",
       "        <AxesSubplot:title={'center':'position_pnl_bp'}>]], dtype=object)"
      ]
     },
     "execution_count": 86,
     "metadata": {},
     "output_type": "execute_result"
    },
    {
     "data": {
      "image/png": "[encoded data removed]",
      "text/plain": [
       "<Figure size 720x432 with 6 Axes>"
      ]
     },
     "metadata": {
      "needs_background": "light"
     },
     "output_type": "display_data"
    }
   ],
   "source": [
    "df.hist(column=['volume', 'deltaImbPct', 'spread_at_open', 'position_size_bp', 'delta_move', 'position_pnl_bp'], layout=(2,3), figsize=(10,6))"
   ]
  },
  {
   "cell_type": "markdown",
   "metadata": {},
   "source": [
    "Now min `volume` is more than 100k. It is still far below our threshold at 2 mln. But let's leave it as it is until we can prove some reliable relationship between pnl and volume. \n",
    "\n",
    "At least there is `spread_at_open` column which is complementary and far more important and it distributes as expected with max spread at 20 cents. Let's check other important columns. \n",
    "\n",
    "The cheapest stock `open_price` was at 12 cents and the most expensive at 499 dollars. \n",
    "\n",
    "`deltaImbPct` has some tails but 25 and 75 percentiles are okay.\n",
    "\n",
    "`deltaMove` which is a proxy of our pnl looks good, from -2.97 to 4.28 dollars. \n",
    "\n",
    "`position_size_bp` and `position_size` are subjects for deeper investigation. Max values are equal to 1.3 mln and 300k shares respectively seems a \"little bit\" risky and may skew our `position_pnl_bp` and `position_pnl` significantly. Before we dive deeper into this analysis, it is worth mentioning how I calculate these columns:\n",
    "`position_size` is simply Bid/Aks size depending on direction of a position.\n",
    "`position_size_bp` is *min* value among two: `position_size` or bp (buying power, default 50k) divided by `open_price`. In this case price is proxy for volatility. The assumption is the more expensive stock the higher is volatility. It is true for most cases. But even with this limitation, it seems like we get some outliers that may skew the results as we can see that *mean* `delta_move` is positive and `pnl`s are highly negative. Meaning that **sizing is highly important!**"
   ]
  },
  {
   "cell_type": "code",
   "execution_count": 87,
   "metadata": {},
   "outputs": [],
   "source": [
    "# Add absolute columns  \n",
    "df[['abs_deltaImbPct', 'abs_imbBeforeReversePct', 'abs_imbAfterReversePct', 'abs_position_pnl_bp', 'abs_delta_move']] = df[['deltaImbPct', 'imbBeforeReversePct', 'imbAfterReversePct', 'position_pnl_bp', 'delta_move']].apply(lambda column: abs(column), axis=0)"
   ]
  },
  {
   "cell_type": "markdown",
   "metadata": {},
   "source": [
    "## Commissions <a class=\"anchor\" id=\"third-bullet\"></a> "
   ]
  },
  {
   "cell_type": "markdown",
   "metadata": {},
   "source": [
    "Fees = Comm + EcnFee + Sec + Clr + TicketFee\n",
    "\n",
    "Comm = Shares * 0.0004\n",
    "\n",
    "Ecn Remove = Shares * 0.00375\n",
    "\n",
    "Ecn MOC = Shares * 0.001\n",
    "\n",
    "SEC = Notional short * 0.0000221\n",
    "\n",
    "Clr = 0.00032 * Shares\n",
    "\n",
    "Ticket = 0.4$ for side (each symbol)."
   ]
  },
  {
   "cell_type": "code",
   "execution_count": 88,
   "metadata": {},
   "outputs": [],
   "source": [
    "# Commissions\n",
    "df['Comm'] = df['position_size_bp'] * 0.0004\n",
    "df['Ecn Remove entry'] = df['position_size_bp'] * 0.00375\n",
    "df['Ecn Remove exit'] = np.where(df['close_status'] == 'market', df['position_size_bp'] * 0.00375, df['position_size_bp'] * 0.001)\n",
    "df['Ecn Fee'] = df['Ecn Remove entry'] + df['Ecn Remove exit']\n",
    "df['Sec'] = np.where(df['direction'] == 'Short', df['position_size_bp'] * 0.0000221, 0.0)\n",
    "df['Clr'] = df['position_size_bp'] * 0.00032\n",
    "df['Ticket'] = 0.8\n",
    "df['Fees'] = df['Comm'] + df['Ecn Fee'] + df['Sec'] + df['Clr'] + df['Ticket']\n",
    "# Net Pnl\n",
    "df['position_pnl_bp_net'] = df['position_pnl_bp'] - df['Fees']"
   ]
  },
  {
   "cell_type": "markdown",
   "metadata": {},
   "source": [
    "First glance at results."
   ]
  },
  {
   "cell_type": "markdown",
   "metadata": {},
   "source": [
    "### Plot <a class=\"anchor\" id=\"third-bullet-plot\"></a> "
   ]
  },
  {
   "cell_type": "code",
   "execution_count": 89,
   "metadata": {},
   "outputs": [
    {
     "data": {
      "text/plain": [
       "<AxesSubplot:>"
      ]
     },
     "execution_count": 89,
     "metadata": {},
     "output_type": "execute_result"
    },
    {
     "data": {
      "image/png": "[encoded data removed]",
      "text/plain": [
       "<Figure size 432x216 with 1 Axes>"
      ]
     },
     "metadata": {
      "needs_background": "light"
     },
     "output_type": "display_data"
    }
   ],
   "source": [
    "fig, ax = plt.subplots(1,1)\n",
    "df['position_pnl_bp'].cumsum().plot(ax=ax)\n",
    "df['position_pnl_bp_net'].cumsum().plot(ax=ax)"
   ]
  },
  {
   "cell_type": "markdown",
   "metadata": {},
   "source": [
    "### Sharpe <a class=\"anchor\" id=\"third-bullet-sharpe\"></a> "
   ]
  },
  {
   "cell_type": "code",
   "execution_count": 90,
   "metadata": {},
   "outputs": [
    {
     "name": "stdout",
     "output_type": "stream",
     "text": [
      "Sharpe with no filters is \n",
      "-0.2160198924247614\n"
     ]
    }
   ],
   "source": [
    "sharpe = df['position_pnl_bp_net'].mean() / df['position_pnl_bp_net'].std()\n",
    "print('Sharpe with no filters is \\n{}'.format(sharpe))"
   ]
  },
  {
   "cell_type": "markdown",
   "metadata": {},
   "source": [
    "## Worst case scenario"
   ]
  },
  {
   "cell_type": "code",
   "execution_count": 92,
   "metadata": {},
   "outputs": [],
   "source": [
    "k = 4\n",
    "\n",
    "for i in range(1, k):\n",
    "    df['spread_at_open_%d' % i] = df['spread_at_open'] * i\n",
    "    df['delta_move_%d' % i] = df['delta_move'] - df['spread_at_open_%d' % i]\n",
    "    df['position_pnl_bp_net_%d' % i] = df['delta_move_%d' % i] * df['position_size_bp']"
   ]
  },
  {
   "cell_type": "markdown",
   "metadata": {},
   "source": [
    "## Price and position size analysis <a class=\"anchor\" id=\"fourth-bullet\"></a> "
   ]
  },
  {
   "cell_type": "markdown",
   "metadata": {},
   "source": [
    "Let's check relation between `position_size_bp` and `position_pnl_bp`. What I expect to see is obviously with the rise of size there is the rise of absolute pnl"
   ]
  },
  {
   "cell_type": "code",
   "execution_count": 93,
   "metadata": {},
   "outputs": [
    {
     "name": "stdout",
     "output_type": "stream",
     "text": [
      "r_sqr value: 0.3511742604267387\n",
      "r_sqr value: 0.24838027935335294\n"
     ]
    },
    {
     "data": {
      "image/png": "[encoded data removed]",
      "text/plain": [
       "<Figure size 360x576 with 2 Axes>"
      ]
     },
     "metadata": {
      "needs_background": "light"
     },
     "output_type": "display_data"
    }
   ],
   "source": [
    "fig, (ax1, ax2) = plt.subplots(2, 1, sharex=True, figsize=(5,8))\n",
    "plot_scatter(df, ax1, 'position_size_bp', 'abs_position_pnl_bp')\n",
    "plot_scatter(df, ax2, 'position_size_bp', 'position_pnl_bp')"
   ]
  },
  {
   "cell_type": "markdown",
   "metadata": {},
   "source": [
    "Wow! From the first scatter plot we realize that there is a relationship between size and pnl. But what is more interesting is that we get a bunch of losses where the `position_size_bp` is more than 50k. This may be due to such *phenomenon as we trade cheap stocks around let's say 1 dollar price and we lose 1 or a few cents which lead to huge losses.* "
   ]
  },
  {
   "cell_type": "markdown",
   "metadata": {},
   "source": [
    "### Bins <a class=\"anchor\" id=\"fourth-bullet-bins\"></a> "
   ]
  },
  {
   "cell_type": "markdown",
   "metadata": {},
   "source": [
    "What I will do next is to confirm the hypothesis above. I want to find out if cheaper price leads to more negative pnl and vice versa. In other words, I want to see more clearly how the average pnl changes with the size. For that, I will use binning - define the arbitrary number of quantiles and let pandas figure out how to divide up the data. "
   ]
  },
  {
   "cell_type": "code",
   "execution_count": 94,
   "metadata": {},
   "outputs": [
    {
     "data": {
      "text/html": [
       "<div>\n",
       "<style scoped>\n",
       "    .dataframe tbody tr th:only-of-type {\n",
       "        vertical-align: middle;\n",
       "    }\n",
       "\n",
       "    .dataframe tbody tr th {\n",
       "        vertical-align: top;\n",
       "    }\n",
       "\n",
       "    .dataframe thead th {\n",
       "        text-align: right;\n",
       "    }\n",
       "</style>\n",
       "<table border=\"1\" class=\"dataframe\">\n",
       "  <thead>\n",
       "    <tr style=\"text-align: right;\">\n",
       "      <th></th>\n",
       "      <th>count</th>\n",
       "      <th>avg_pnl</th>\n",
       "      <th>sum_pnl</th>\n",
       "      <th>min_size</th>\n",
       "      <th>max_size</th>\n",
       "      <th>quantile10_size</th>\n",
       "      <th>quantile90_size</th>\n",
       "      <th>avg_size</th>\n",
       "      <th>min_price</th>\n",
       "      <th>max_price</th>\n",
       "      <th>quantile10_price</th>\n",
       "      <th>quantile90_price</th>\n",
       "      <th>avg_price</th>\n",
       "    </tr>\n",
       "    <tr>\n",
       "      <th>size_group</th>\n",
       "      <th></th>\n",
       "      <th></th>\n",
       "      <th></th>\n",
       "      <th></th>\n",
       "      <th></th>\n",
       "      <th></th>\n",
       "      <th></th>\n",
       "      <th></th>\n",
       "      <th></th>\n",
       "      <th></th>\n",
       "      <th></th>\n",
       "      <th></th>\n",
       "      <th></th>\n",
       "    </tr>\n",
       "  </thead>\n",
       "  <tbody>\n",
       "    <tr>\n",
       "      <th>1</th>\n",
       "      <td>1836</td>\n",
       "      <td>2.849410</td>\n",
       "      <td>5231.516410</td>\n",
       "      <td>1.000000</td>\n",
       "      <td>150.000000</td>\n",
       "      <td>32.000000</td>\n",
       "      <td>121.000000</td>\n",
       "      <td>93.156293</td>\n",
       "      <td>0.46</td>\n",
       "      <td>499.18</td>\n",
       "      <td>33.425</td>\n",
       "      <td>214.990</td>\n",
       "      <td>112.622331</td>\n",
       "    </tr>\n",
       "    <tr>\n",
       "      <th>2</th>\n",
       "      <td>1813</td>\n",
       "      <td>4.899770</td>\n",
       "      <td>8883.283411</td>\n",
       "      <td>151.000000</td>\n",
       "      <td>273.044998</td>\n",
       "      <td>181.018761</td>\n",
       "      <td>248.000000</td>\n",
       "      <td>207.441631</td>\n",
       "      <td>0.25</td>\n",
       "      <td>327.02</td>\n",
       "      <td>33.914</td>\n",
       "      <td>227.380</td>\n",
       "      <td>117.919950</td>\n",
       "    </tr>\n",
       "    <tr>\n",
       "      <th>3</th>\n",
       "      <td>1833</td>\n",
       "      <td>2.408549</td>\n",
       "      <td>4414.870529</td>\n",
       "      <td>273.403325</td>\n",
       "      <td>402.000000</td>\n",
       "      <td>300.000000</td>\n",
       "      <td>400.000000</td>\n",
       "      <td>336.876953</td>\n",
       "      <td>0.17</td>\n",
       "      <td>182.88</td>\n",
       "      <td>26.078</td>\n",
       "      <td>154.706</td>\n",
       "      <td>82.797791</td>\n",
       "    </tr>\n",
       "    <tr>\n",
       "      <th>4</th>\n",
       "      <td>1816</td>\n",
       "      <td>1.610821</td>\n",
       "      <td>2925.251361</td>\n",
       "      <td>402.187902</td>\n",
       "      <td>629.643622</td>\n",
       "      <td>424.000000</td>\n",
       "      <td>601.000000</td>\n",
       "      <td>518.754637</td>\n",
       "      <td>0.17</td>\n",
       "      <td>124.32</td>\n",
       "      <td>21.600</td>\n",
       "      <td>104.040</td>\n",
       "      <td>63.947368</td>\n",
       "    </tr>\n",
       "    <tr>\n",
       "      <th>5</th>\n",
       "      <td>1826</td>\n",
       "      <td>1.720284</td>\n",
       "      <td>3141.238734</td>\n",
       "      <td>629.722922</td>\n",
       "      <td>945.358291</td>\n",
       "      <td>660.676544</td>\n",
       "      <td>903.179191</td>\n",
       "      <td>783.007922</td>\n",
       "      <td>0.28</td>\n",
       "      <td>79.40</td>\n",
       "      <td>19.800</td>\n",
       "      <td>71.465</td>\n",
       "      <td>47.912700</td>\n",
       "    </tr>\n",
       "    <tr>\n",
       "      <th>6</th>\n",
       "      <td>1847</td>\n",
       "      <td>-0.243757</td>\n",
       "      <td>-450.219398</td>\n",
       "      <td>946.073794</td>\n",
       "      <td>1400.000000</td>\n",
       "      <td>991.906084</td>\n",
       "      <td>1359.882513</td>\n",
       "      <td>1177.455615</td>\n",
       "      <td>0.49</td>\n",
       "      <td>52.85</td>\n",
       "      <td>17.882</td>\n",
       "      <td>48.662</td>\n",
       "      <td>35.388966</td>\n",
       "    </tr>\n",
       "    <tr>\n",
       "      <th>7</th>\n",
       "      <td>1800</td>\n",
       "      <td>-4.735213</td>\n",
       "      <td>-8523.383010</td>\n",
       "      <td>1400.168020</td>\n",
       "      <td>2146.844139</td>\n",
       "      <td>1454.300524</td>\n",
       "      <td>2061.855670</td>\n",
       "      <td>1742.983661</td>\n",
       "      <td>0.29</td>\n",
       "      <td>35.71</td>\n",
       "      <td>15.009</td>\n",
       "      <td>33.821</td>\n",
       "      <td>25.666978</td>\n",
       "    </tr>\n",
       "    <tr>\n",
       "      <th>8</th>\n",
       "      <td>1825</td>\n",
       "      <td>-8.970720</td>\n",
       "      <td>-16371.564818</td>\n",
       "      <td>2148.000000</td>\n",
       "      <td>3409.000000</td>\n",
       "      <td>2247.191011</td>\n",
       "      <td>3229.184496</td>\n",
       "      <td>2717.166388</td>\n",
       "      <td>0.34</td>\n",
       "      <td>23.27</td>\n",
       "      <td>11.512</td>\n",
       "      <td>21.896</td>\n",
       "      <td>17.199315</td>\n",
       "    </tr>\n",
       "    <tr>\n",
       "      <th>9</th>\n",
       "      <td>1824</td>\n",
       "      <td>-24.641359</td>\n",
       "      <td>-44945.838354</td>\n",
       "      <td>3410.641201</td>\n",
       "      <td>5688.282139</td>\n",
       "      <td>3572.194425</td>\n",
       "      <td>5307.855626</td>\n",
       "      <td>4430.249308</td>\n",
       "      <td>0.41</td>\n",
       "      <td>14.66</td>\n",
       "      <td>8.613</td>\n",
       "      <td>13.787</td>\n",
       "      <td>10.831113</td>\n",
       "    </tr>\n",
       "    <tr>\n",
       "      <th>10</th>\n",
       "      <td>1825</td>\n",
       "      <td>-102.031512</td>\n",
       "      <td>-186207.509250</td>\n",
       "      <td>5694.760820</td>\n",
       "      <td>294117.647059</td>\n",
       "      <td>6168.272671</td>\n",
       "      <td>22583.669642</td>\n",
       "      <td>13623.573698</td>\n",
       "      <td>0.12</td>\n",
       "      <td>8.78</td>\n",
       "      <td>1.950</td>\n",
       "      <td>7.950</td>\n",
       "      <td>4.922778</td>\n",
       "    </tr>\n",
       "  </tbody>\n",
       "</table>\n",
       "</div>"
      ],
      "text/plain": [
       "            count     avg_pnl        sum_pnl     min_size       max_size  \\\n",
       "size_group                                                                 \n",
       "1            1836    2.849410    5231.516410     1.000000     150.000000   \n",
       "2            1813    4.899770    8883.283411   151.000000     273.044998   \n",
       "3            1833    2.408549    4414.870529   273.403325     402.000000   \n",
       "4            1816    1.610821    2925.251361   402.187902     629.643622   \n",
       "5            1826    1.720284    3141.238734   629.722922     945.358291   \n",
       "6            1847   -0.243757    -450.219398   946.073794    1400.000000   \n",
       "7            1800   -4.735213   -8523.383010  1400.168020    2146.844139   \n",
       "8            1825   -8.970720  -16371.564818  2148.000000    3409.000000   \n",
       "9            1824  -24.641359  -44945.838354  3410.641201    5688.282139   \n",
       "10           1825 -102.031512 -186207.509250  5694.760820  294117.647059   \n",
       "\n",
       "            quantile10_size  quantile90_size      avg_size  min_price  \\\n",
       "size_group                                                              \n",
       "1                 32.000000       121.000000     93.156293       0.46   \n",
       "2                181.018761       248.000000    207.441631       0.25   \n",
       "3                300.000000       400.000000    336.876953       0.17   \n",
       "4                424.000000       601.000000    518.754637       0.17   \n",
       "5                660.676544       903.179191    783.007922       0.28   \n",
       "6                991.906084      1359.882513   1177.455615       0.49   \n",
       "7               1454.300524      2061.855670   1742.983661       0.29   \n",
       "8               2247.191011      3229.184496   2717.166388       0.34   \n",
       "9               3572.194425      5307.855626   4430.249308       0.41   \n",
       "10              6168.272671     22583.669642  13623.573698       0.12   \n",
       "\n",
       "            max_price  quantile10_price  quantile90_price   avg_price  \n",
       "size_group                                                             \n",
       "1              499.18            33.425           214.990  112.622331  \n",
       "2              327.02            33.914           227.380  117.919950  \n",
       "3              182.88            26.078           154.706   82.797791  \n",
       "4              124.32            21.600           104.040   63.947368  \n",
       "5               79.40            19.800            71.465   47.912700  \n",
       "6               52.85            17.882            48.662   35.388966  \n",
       "7               35.71            15.009            33.821   25.666978  \n",
       "8               23.27            11.512            21.896   17.199315  \n",
       "9               14.66             8.613            13.787   10.831113  \n",
       "10               8.78             1.950             7.950    4.922778  "
      ]
     },
     "execution_count": 94,
     "metadata": {},
     "output_type": "execute_result"
    }
   ],
   "source": [
    "# Pnl and size bins\n",
    "size_groups = 10\n",
    "df['size_group'] = pd.qcut(df['position_size_bp'], size_groups, labels=list(range(1, size_groups+1)))\n",
    "df_size_group = pd.DataFrame()\n",
    "df_size_group['count'] = df.groupby('size_group')['position_pnl_bp'].count()\n",
    "df_size_group['avg_pnl'] = df.groupby('size_group')['position_pnl_bp'].mean()\n",
    "df_size_group['sum_pnl'] = df.groupby('size_group')['position_pnl_bp'].sum()\n",
    "df_size_group['min_size'] = df.groupby('size_group')['position_size_bp'].min()\n",
    "df_size_group['max_size'] = df.groupby('size_group')['position_size_bp'].max()\n",
    "df_size_group['quantile10_size'] = df.groupby('size_group')['position_size_bp'].quantile(0.1)\n",
    "df_size_group['quantile90_size'] = df.groupby('size_group')['position_size_bp'].quantile(0.9)\n",
    "df_size_group['avg_size'] = df.groupby('size_group')['position_size_bp'].mean()\n",
    "df_size_group['min_price'] = df.groupby('size_group')['open_price'].min()\n",
    "df_size_group['max_price'] = df.groupby('size_group')['open_price'].max()\n",
    "df_size_group['quantile10_price'] = df.groupby('size_group')['open_price'].quantile(0.1)\n",
    "df_size_group['quantile90_price'] = df.groupby('size_group')['open_price'].quantile(0.9)\n",
    "df_size_group['avg_price'] = df.groupby('size_group')['open_price'].mean()\n",
    "df_size_group"
   ]
  },
  {
   "cell_type": "code",
   "execution_count": 95,
   "metadata": {},
   "outputs": [
    {
     "data": {
      "text/plain": [
       "<matplotlib.collections.LineCollection at 0x13474ea00>"
      ]
     },
     "execution_count": 95,
     "metadata": {},
     "output_type": "execute_result"
    },
    {
     "data": {
      "image/png": "[encoded data removed]",
      "text/plain": [
       "<Figure size 360x288 with 1 Axes>"
      ]
     },
     "metadata": {
      "needs_background": "light"
     },
     "output_type": "display_data"
    }
   ],
   "source": [
    "fig, (ax1) = plt.subplots(1, 1, figsize=(5,4))\n",
    "df_size_group['avg_pnl'].plot.bar(ax=ax1)\n",
    "ax1.hlines(0, 0, 10, linestyles='dashed', alpha=0.3)"
   ]
  },
  {
   "cell_type": "markdown",
   "metadata": {},
   "source": [
    "There is an equal number of observations/positions in each bin. And that the higher size in cheaper stocks leads to highly negative results. So, let's define our threshold. The first 5 groups are positive on pnl. I will take 90% percentile of size as my upper threshold for volume and 10% percentile of price as my bottom threshold for price.\n",
    "If we round these numbers we will get: **max_volume = 900** shares and **min_price = 20 dollars**."
   ]
  },
  {
   "cell_type": "code",
   "execution_count": 96,
   "metadata": {},
   "outputs": [],
   "source": [
    "# Filter\n",
    "max_volume = 900 \n",
    "min_price = 20 \n",
    "df_filter_vp = df[(df['position_size_bp'] <= max_volume) & (df['open_price'] >= min_price)].copy()"
   ]
  },
  {
   "cell_type": "markdown",
   "metadata": {},
   "source": [
    "### Plot <a class=\"anchor\" id=\"fourth-bullet-plot\"></a> "
   ]
  },
  {
   "cell_type": "code",
   "execution_count": 97,
   "metadata": {},
   "outputs": [
    {
     "data": {
      "text/plain": [
       "<AxesSubplot:>"
      ]
     },
     "execution_count": 97,
     "metadata": {},
     "output_type": "execute_result"
    },
    {
     "data": {
      "image/png": "[encoded data removed]",
      "text/plain": [
       "<Figure size 432x216 with 1 Axes>"
      ]
     },
     "metadata": {
      "needs_background": "light"
     },
     "output_type": "display_data"
    }
   ],
   "source": [
    "fig, ax = plt.subplots(1,1)\n",
    "df_filter_vp['position_pnl_bp'].cumsum().plot(ax=ax)\n",
    "df_filter_vp['position_pnl_bp_net'].cumsum().plot(ax=ax)"
   ]
  },
  {
   "cell_type": "markdown",
   "metadata": {},
   "source": [
    "### Sharpe <a class=\"anchor\" id=\"fourth-bullet-sharpe\"></a> "
   ]
  },
  {
   "cell_type": "code",
   "execution_count": 98,
   "metadata": {},
   "outputs": [
    {
     "name": "stdout",
     "output_type": "stream",
     "text": [
      "Sharpe with next filters: max position size 900 shares, min price $20 is \n",
      "-0.003661818625342739\n"
     ]
    }
   ],
   "source": [
    "sharpe_vp = df_filter_vp['position_pnl_bp_net'].mean() / df_filter_vp['position_pnl_bp_net'].std()\n",
    "print('Sharpe with next filters: max position size {} shares, min price ${} is \\n{}'.format(max_volume, min_price, sharpe_vp))"
   ]
  },
  {
   "cell_type": "markdown",
   "metadata": {},
   "source": [
    "## Imbalance delta analysis <a class=\"anchor\" id=\"fifth-bullet\"></a> "
   ]
  },
  {
   "cell_type": "markdown",
   "metadata": {},
   "source": [
    "Let's apply same analysis to see if `abs_deltaImbPct`"
   ]
  },
  {
   "cell_type": "markdown",
   "metadata": {},
   "source": [
    "### Bins <a class=\"anchor\" id=\"fifth-bullet-bins\"></a> "
   ]
  },
  {
   "cell_type": "code",
   "execution_count": 99,
   "metadata": {},
   "outputs": [
    {
     "data": {
      "text/html": [
       "<div>\n",
       "<style scoped>\n",
       "    .dataframe tbody tr th:only-of-type {\n",
       "        vertical-align: middle;\n",
       "    }\n",
       "\n",
       "    .dataframe tbody tr th {\n",
       "        vertical-align: top;\n",
       "    }\n",
       "\n",
       "    .dataframe thead th {\n",
       "        text-align: right;\n",
       "    }\n",
       "</style>\n",
       "<table border=\"1\" class=\"dataframe\">\n",
       "  <thead>\n",
       "    <tr style=\"text-align: right;\">\n",
       "      <th></th>\n",
       "      <th>count</th>\n",
       "      <th>avg_pnl</th>\n",
       "      <th>sum_pnl</th>\n",
       "      <th>min_size</th>\n",
       "      <th>max_size</th>\n",
       "      <th>quantile10_size</th>\n",
       "      <th>quantile90_size</th>\n",
       "    </tr>\n",
       "    <tr>\n",
       "      <th>imb_group</th>\n",
       "      <th></th>\n",
       "      <th></th>\n",
       "      <th></th>\n",
       "      <th></th>\n",
       "      <th></th>\n",
       "      <th></th>\n",
       "      <th></th>\n",
       "    </tr>\n",
       "  </thead>\n",
       "  <tbody>\n",
       "    <tr>\n",
       "      <th>1</th>\n",
       "      <td>1013</td>\n",
       "      <td>-3.511153</td>\n",
       "      <td>-3556.798394</td>\n",
       "      <td>1.000117</td>\n",
       "      <td>1.120132</td>\n",
       "      <td>1.011200</td>\n",
       "      <td>1.106296</td>\n",
       "    </tr>\n",
       "    <tr>\n",
       "      <th>2</th>\n",
       "      <td>1051</td>\n",
       "      <td>-1.009982</td>\n",
       "      <td>-1061.490835</td>\n",
       "      <td>1.120141</td>\n",
       "      <td>1.285394</td>\n",
       "      <td>1.132556</td>\n",
       "      <td>1.264776</td>\n",
       "    </tr>\n",
       "    <tr>\n",
       "      <th>3</th>\n",
       "      <td>1061</td>\n",
       "      <td>2.299233</td>\n",
       "      <td>2439.486064</td>\n",
       "      <td>1.285527</td>\n",
       "      <td>1.504693</td>\n",
       "      <td>1.306118</td>\n",
       "      <td>1.478695</td>\n",
       "    </tr>\n",
       "    <tr>\n",
       "      <th>4</th>\n",
       "      <td>1074</td>\n",
       "      <td>-0.404618</td>\n",
       "      <td>-434.560143</td>\n",
       "      <td>1.504736</td>\n",
       "      <td>1.812449</td>\n",
       "      <td>1.531954</td>\n",
       "      <td>1.775368</td>\n",
       "    </tr>\n",
       "    <tr>\n",
       "      <th>5</th>\n",
       "      <td>1017</td>\n",
       "      <td>1.565672</td>\n",
       "      <td>1592.288008</td>\n",
       "      <td>1.813165</td>\n",
       "      <td>2.283403</td>\n",
       "      <td>1.844145</td>\n",
       "      <td>2.232373</td>\n",
       "    </tr>\n",
       "    <tr>\n",
       "      <th>6</th>\n",
       "      <td>1072</td>\n",
       "      <td>1.964865</td>\n",
       "      <td>2106.334939</td>\n",
       "      <td>2.284114</td>\n",
       "      <td>3.064770</td>\n",
       "      <td>2.344119</td>\n",
       "      <td>2.947050</td>\n",
       "    </tr>\n",
       "    <tr>\n",
       "      <th>7</th>\n",
       "      <td>1049</td>\n",
       "      <td>9.369833</td>\n",
       "      <td>9828.954916</td>\n",
       "      <td>3.068791</td>\n",
       "      <td>4.912963</td>\n",
       "      <td>3.179064</td>\n",
       "      <td>4.641766</td>\n",
       "    </tr>\n",
       "    <tr>\n",
       "      <th>8</th>\n",
       "      <td>1006</td>\n",
       "      <td>15.469092</td>\n",
       "      <td>15561.906643</td>\n",
       "      <td>4.914437</td>\n",
       "      <td>155.659856</td>\n",
       "      <td>5.278106</td>\n",
       "      <td>17.625827</td>\n",
       "    </tr>\n",
       "  </tbody>\n",
       "</table>\n",
       "</div>"
      ],
      "text/plain": [
       "           count    avg_pnl       sum_pnl  min_size    max_size  \\\n",
       "imb_group                                                         \n",
       "1           1013  -3.511153  -3556.798394  1.000117    1.120132   \n",
       "2           1051  -1.009982  -1061.490835  1.120141    1.285394   \n",
       "3           1061   2.299233   2439.486064  1.285527    1.504693   \n",
       "4           1074  -0.404618   -434.560143  1.504736    1.812449   \n",
       "5           1017   1.565672   1592.288008  1.813165    2.283403   \n",
       "6           1072   1.964865   2106.334939  2.284114    3.064770   \n",
       "7           1049   9.369833   9828.954916  3.068791    4.912963   \n",
       "8           1006  15.469092  15561.906643  4.914437  155.659856   \n",
       "\n",
       "           quantile10_size  quantile90_size  \n",
       "imb_group                                    \n",
       "1                 1.011200         1.106296  \n",
       "2                 1.132556         1.264776  \n",
       "3                 1.306118         1.478695  \n",
       "4                 1.531954         1.775368  \n",
       "5                 1.844145         2.232373  \n",
       "6                 2.344119         2.947050  \n",
       "7                 3.179064         4.641766  \n",
       "8                 5.278106        17.625827  "
      ]
     },
     "execution_count": 99,
     "metadata": {},
     "output_type": "execute_result"
    }
   ],
   "source": [
    "# Pnl and size bins\n",
    "imb_groups = 8\n",
    "df_filter_vp['imb_group'] = pd.qcut(df['abs_deltaImbPct'], imb_groups, labels=list(range(1, imb_groups+1)))\n",
    "df_imb_group = pd.DataFrame()\n",
    "df_imb_group['count'] = df_filter_vp.groupby('imb_group')['position_pnl_bp'].count()\n",
    "df_imb_group['avg_pnl'] = df_filter_vp.groupby('imb_group')['position_pnl_bp'].mean()\n",
    "df_imb_group['sum_pnl'] = df_filter_vp.groupby('imb_group')['position_pnl_bp'].sum()\n",
    "df_imb_group['min_size'] = df_filter_vp.groupby('imb_group')['abs_deltaImbPct'].min()\n",
    "df_imb_group['max_size'] = df_filter_vp.groupby('imb_group')['abs_deltaImbPct'].max()\n",
    "df_imb_group['quantile10_size'] = df_filter_vp.groupby('imb_group')['abs_deltaImbPct'].quantile(0.1)\n",
    "df_imb_group['quantile90_size'] = df_filter_vp.groupby('imb_group')['abs_deltaImbPct'].quantile(0.9)\n",
    "\n",
    "df_imb_group"
   ]
  },
  {
   "cell_type": "code",
   "execution_count": 100,
   "metadata": {},
   "outputs": [
    {
     "data": {
      "text/plain": [
       "<matplotlib.collections.LineCollection at 0x134df5dc0>"
      ]
     },
     "execution_count": 100,
     "metadata": {},
     "output_type": "execute_result"
    },
    {
     "data": {
      "image/png": "[encoded data removed]",
      "text/plain": [
       "<Figure size 360x288 with 1 Axes>"
      ]
     },
     "metadata": {
      "needs_background": "light"
     },
     "output_type": "display_data"
    }
   ],
   "source": [
    "# Plot\n",
    "fig, (ax1) = plt.subplots(1, 1, figsize=(5,4))\n",
    "df_imb_group['avg_pnl'].plot.bar(ax=ax1)\n",
    "ax1.hlines(0, 0, 8, linestyles='dashed', alpha=0.3)"
   ]
  },
  {
   "cell_type": "markdown",
   "metadata": {},
   "source": [
    "Awesome! Another clear confirmation of our hypothesis. With more significant reversal we get better and better pnl. From group 5 the pnl becomes consistently positive. From group 7 it becomes much better. So, we can take both into consideration. The last one can be more conservative one. Let's define our thresholds for `abs_deltaImbPct`: **min_deltaImbPct = 1.8** and **min_deltaImbPct_conservative = 3**"
   ]
  },
  {
   "cell_type": "code",
   "execution_count": 101,
   "metadata": {},
   "outputs": [],
   "source": [
    "# Filter\n",
    "min_deltaImbPct = 1.8\n",
    "min_deltaImbPct_conservative = 3\n",
    "df_filter_vpi = df_filter_vp[df_filter_vp['abs_deltaImbPct'] > min_deltaImbPct].copy()\n",
    "df_filter_vpi_conservative = df_filter_vp[df_filter_vp['abs_deltaImbPct'] > min_deltaImbPct_conservative].copy()"
   ]
  },
  {
   "cell_type": "markdown",
   "metadata": {},
   "source": [
    "### Plot <a class=\"anchor\" id=\"fifth-bullet-plot\"></a> "
   ]
  },
  {
   "cell_type": "code",
   "execution_count": 102,
   "metadata": {},
   "outputs": [
    {
     "data": {
      "text/plain": [
       "<AxesSubplot:>"
      ]
     },
     "execution_count": 102,
     "metadata": {},
     "output_type": "execute_result"
    },
    {
     "data": {
      "image/png": "[encoded data removed]",
      "text/plain": [
       "<Figure size 720x288 with 2 Axes>"
      ]
     },
     "metadata": {
      "needs_background": "light"
     },
     "output_type": "display_data"
    }
   ],
   "source": [
    "fig, (ax1, ax2) = plt.subplots(1,2, figsize=(10,4))\n",
    "df_filter_vpi['position_pnl_bp'].cumsum().plot(ax=ax1)\n",
    "df_filter_vpi['position_pnl_bp_net'].cumsum().plot(ax=ax1)\n",
    "df_filter_vpi_conservative['position_pnl_bp'].cumsum().plot(ax=ax2)\n",
    "df_filter_vpi_conservative['position_pnl_bp_net'].cumsum().plot(ax=ax2)"
   ]
  },
  {
   "cell_type": "markdown",
   "metadata": {},
   "source": [
    "### Sharpe <a class=\"anchor\" id=\"fifth-bullet-sharpe\"></a> "
   ]
  },
  {
   "cell_type": "code",
   "execution_count": 103,
   "metadata": {},
   "outputs": [
    {
     "name": "stdout",
     "output_type": "stream",
     "text": [
      "Sharpe with next filters: max position size 900 shares, min price $20, min delta imbalance pct 1.8% is \n",
      "0.05055202197478289\n",
      "Sharpe with next filters: max position size 900 shares, min price $20, min delta imbalance pct 3% is \n",
      "0.10586260204783368\n"
     ]
    }
   ],
   "source": [
    "sharpe_vpi = df_filter_vpi['position_pnl_bp_net'].mean() / df_filter_vpi['position_pnl_bp_net'].std()\n",
    "sharpe_vpi_conservative = df_filter_vpi_conservative['position_pnl_bp_net'].mean() / df_filter_vpi_conservative['position_pnl_bp_net'].std()\n",
    "print('Sharpe with next filters: max position size {} shares, min price ${}, min delta imbalance pct {}% is \\n{}'.format(max_volume, min_price, min_deltaImbPct, sharpe_vpi))\n",
    "print('Sharpe with next filters: max position size {} shares, min price ${}, min delta imbalance pct {}% is \\n{}'.format(max_volume, min_price, min_deltaImbPct_conservative, sharpe_vpi_conservative))"
   ]
  },
  {
   "cell_type": "markdown",
   "metadata": {},
   "source": [
    "## Close status analysis <a class=\"anchor\" id=\"sixth-bullet\"></a> "
   ]
  },
  {
   "cell_type": "markdown",
   "metadata": {},
   "source": [
    "There are two types of close statuses: moc and market. Moc is used when the position is entered later then 59th minute. As holding period is 1 min it means that there is no enough time to close on market. With moc order we don't pay spread. Consequently, we expect better avg pnl.   "
   ]
  },
  {
   "cell_type": "code",
   "execution_count": 104,
   "metadata": {},
   "outputs": [
    {
     "data": {
      "text/html": [
       "<div>\n",
       "<style scoped>\n",
       "    .dataframe tbody tr th:only-of-type {\n",
       "        vertical-align: middle;\n",
       "    }\n",
       "\n",
       "    .dataframe tbody tr th {\n",
       "        vertical-align: top;\n",
       "    }\n",
       "\n",
       "    .dataframe thead th {\n",
       "        text-align: right;\n",
       "    }\n",
       "</style>\n",
       "<table border=\"1\" class=\"dataframe\">\n",
       "  <thead>\n",
       "    <tr style=\"text-align: right;\">\n",
       "      <th></th>\n",
       "      <th>sum_pnl</th>\n",
       "      <th>avg_pnl</th>\n",
       "      <th>count</th>\n",
       "    </tr>\n",
       "    <tr>\n",
       "      <th>close_status</th>\n",
       "      <th></th>\n",
       "      <th></th>\n",
       "      <th></th>\n",
       "    </tr>\n",
       "  </thead>\n",
       "  <tbody>\n",
       "    <tr>\n",
       "      <th>market</th>\n",
       "      <td>-2640.792222</td>\n",
       "      <td>-0.990545</td>\n",
       "      <td>2666</td>\n",
       "    </tr>\n",
       "    <tr>\n",
       "      <th>moc</th>\n",
       "      <td>32081.292112</td>\n",
       "      <td>21.147852</td>\n",
       "      <td>1517</td>\n",
       "    </tr>\n",
       "  </tbody>\n",
       "</table>\n",
       "</div>"
      ],
      "text/plain": [
       "                   sum_pnl    avg_pnl  count\n",
       "close_status                                \n",
       "market        -2640.792222  -0.990545   2666\n",
       "moc           32081.292112  21.147852   1517"
      ]
     },
     "execution_count": 104,
     "metadata": {},
     "output_type": "execute_result"
    }
   ],
   "source": [
    "df_close_status_group = pd.DataFrame() \n",
    "df_close_status_group['sum_pnl'] = df_filter_vpi.groupby('close_status')['position_pnl_bp'].sum()\n",
    "df_close_status_group['avg_pnl'] = df_filter_vpi.groupby('close_status')['position_pnl_bp'].mean()\n",
    "df_close_status_group['count'] = df_filter_vpi.groupby('close_status')['position_pnl_bp'].count()\n",
    "df_close_status_group"
   ]
  },
  {
   "cell_type": "markdown",
   "metadata": {},
   "source": [
    "As expected, trades after 15:59 are much more profitable. The same moment, trades \"on market\" are negative on average. Also, it is worht mentioning that number of trades with moc status are twice less than on market. It is important point when we take into consideration commissions."
   ]
  },
  {
   "cell_type": "code",
   "execution_count": 105,
   "metadata": {},
   "outputs": [],
   "source": [
    "# Filter\n",
    "close_status = 'moc'\n",
    "df_filter_vpis = df_filter_vpi[df_filter_vpi['close_status']==close_status].copy()\n",
    "df_filter_vpis_conservative = df_filter_vpi_conservative[df_filter_vpi_conservative['close_status']==close_status].copy()"
   ]
  },
  {
   "cell_type": "markdown",
   "metadata": {},
   "source": [
    "### Plot <a class=\"anchor\" id=\"sixth-bullet-plot\"></a> "
   ]
  },
  {
   "cell_type": "code",
   "execution_count": 106,
   "metadata": {},
   "outputs": [
    {
     "data": {
      "text/plain": [
       "<AxesSubplot:>"
      ]
     },
     "execution_count": 106,
     "metadata": {},
     "output_type": "execute_result"
    },
    {
     "data": {
      "image/png": "[encoded data removed]",
      "text/plain": [
       "<Figure size 720x288 with 2 Axes>"
      ]
     },
     "metadata": {
      "needs_background": "light"
     },
     "output_type": "display_data"
    }
   ],
   "source": [
    "fig, (ax1, ax2) = plt.subplots(1, 2, figsize=(10,4))\n",
    "df_filter_vpis['position_pnl_bp'].cumsum().plot(ax=ax1)\n",
    "df_filter_vpis['position_pnl_bp_net'].cumsum().plot(ax=ax1)\n",
    "# df_filter_vpis_conservative['position_pnl_bp'].cumsum().plot(ax=ax2)\n",
    "df_filter_vpis_conservative[['position_pnl_bp_net', 'position_pnl_bp_net_1', 'position_pnl_bp_net_2', 'position_pnl_bp_net_3']].cumsum().plot(ax=ax2)"
   ]
  },
  {
   "cell_type": "markdown",
   "metadata": {},
   "source": [
    "### Sharpe <a class=\"anchor\" id=\"sixth-bullet-sharpe\"></a> "
   ]
  },
  {
   "cell_type": "code",
   "execution_count": 48,
   "metadata": {},
   "outputs": [
    {
     "name": "stdout",
     "output_type": "stream",
     "text": [
      "Sharpe with next filters: max position size 900 shares, min price $20, min delta imbalance pct 1.8%, close status moc is \n",
      "0.22201943178865058\n",
      "Sharpe with next filters: max position size 900 shares, min price $20, min delta imbalance pct 3%, close status moc is \n",
      "0.26822519621852564\n"
     ]
    }
   ],
   "source": [
    "sharpe_vpis = df_filter_vpis['position_pnl_bp_net'].mean() / df_filter_vpis['position_pnl_bp_net'].std()\n",
    "sharpe_vpis_conservative = df_filter_vpis_conservative['position_pnl_bp_net'].mean() / df_filter_vpis_conservative['position_pnl_bp_net'].std()\n",
    "print('Sharpe with next filters: max position size {} shares, min price ${}, min delta imbalance pct {}%, close status {} is \\n{}'.format(max_volume, min_price, min_deltaImbPct, close_status, sharpe_vpis))\n",
    "print('Sharpe with next filters: max position size {} shares, min price ${}, min delta imbalance pct {}%, close status {} is \\n{}'.format(max_volume, min_price, min_deltaImbPct_conservative, close_status, sharpe_vpis_conservative))"
   ]
  },
  {
   "cell_type": "markdown",
   "metadata": {},
   "source": [
    "## MAE/MFE <a class=\"anchor\" id=\"seventh-bullet\"></a> "
   ]
  },
  {
   "cell_type": "markdown",
   "metadata": {},
   "source": [
    "*Maximum Adverse Excursion (MAE)* - the MAE is the largest experienced loss during a trade; it measures how far price went against you.\n",
    "\n",
    "*Maximum Favorable Excursion (MFE)* - the MFE is the opposite of the MAE and it measures the largest observed profit during a trade.\n",
    "\n",
    "It is useful to understand the MAE and MFE of trades in order to inform the setting of stop and take profit levels. In reality, I find these metrics to be more useful from an academic perspective rather than a practical one, as often the placement of stops and take profit levels is dependent on volatility, and thus examination of MAE and MFE without considering volatility is of limited use. Still, visualizing these metrics can quickly alert you as to whether there is something drastically wrong with your strategy’s exit conditions. \n",
    "\n",
    "Timing columns:`start`, `stop`, `max_pnl_time`, `min_pnl_time`\n",
    "\n",
    "Price column: `open_price`, `close_price`, `max_pnl_price`, `min_pnl_price`"
   ]
  },
  {
   "cell_type": "code",
   "execution_count": 49,
   "metadata": {},
   "outputs": [],
   "source": [
    "# MAE\n",
    "df_filter_vpi.loc[df_filter_vpi['direction'] == 'Long', 'delta_move_mae'] = df_filter_vpi['min_pnl_price'] - df_filter_vpi['open_price'] \n",
    "df_filter_vpi.loc[df_filter_vpi['direction'] == 'Short', 'delta_move_mae'] = df_filter_vpi['open_price'] - df_filter_vpi['min_pnl_price']\n",
    "# MFE\n",
    "df_filter_vpi.loc[df_filter_vpi['direction'] == 'Long', 'delta_move_mfe'] = df_filter_vpi['max_pnl_price'] - df_filter_vpi['open_price'] \n",
    "df_filter_vpi.loc[df_filter_vpi['direction'] == 'Short', 'delta_move_mfe'] = df_filter_vpi['open_price'] - df_filter_vpi['max_pnl_price']"
   ]
  },
  {
   "cell_type": "markdown",
   "metadata": {},
   "source": [
    "### Plot <a class=\"anchor\" id=\"seventh-bullet-plot\"></a> "
   ]
  },
  {
   "cell_type": "code",
   "execution_count": 50,
   "metadata": {},
   "outputs": [
    {
     "data": {
      "text/plain": [
       "<matplotlib.collections.LineCollection at 0x133fd02e0>"
      ]
     },
     "execution_count": 50,
     "metadata": {},
     "output_type": "execute_result"
    },
    {
     "data": {
      "image/png": "[encoded data removed]",
      "text/plain": [
       "<Figure size 720x576 with 1 Axes>"
      ]
     },
     "metadata": {
      "needs_background": "light"
     },
     "output_type": "display_data"
    }
   ],
   "source": [
    "fig, ax = plt.subplots(1, 1, figsize=(10,8))\n",
    "xcolumn = 'delta_move_mae'\n",
    "ycolumn = 'delta_move'\n",
    "col = np.where(df_filter_vpi[ycolumn].values < 0,'r',np.where(df_filter_vpi[ycolumn].values > 0,'g','b'))\n",
    "ax.scatter(df_filter_vpi[xcolumn].values, df_filter_vpi[ycolumn].values, c=col)\n",
    "ax.set_xlabel(xcolumn, fontsize=12)\n",
    "ax.set_ylabel(ycolumn, fontsize=12)\n",
    "ax.hlines(0, df_filter_vpi[xcolumn].min(), df_filter_vpi[xcolumn].max(), linestyles='dashed', alpha=0.3)\n",
    "ax.vlines(0, df_filter_vpi[ycolumn].min(), df_filter_vpi[ycolumn].max(), linestyles='dashed', alpha=0.3)"
   ]
  },
  {
   "cell_type": "markdown",
   "metadata": {},
   "source": [
    "On the horizontal axis, we have the trade MAE in pct. On the vertical axis, we have the trade final profit in pct. Red dots denote losing trades; green dots denote winning trades. We can see that all the trades that lie above zero on the vertical axis are thus represented as green dots, and those lying below zero as red dots.  Notice that there is a diagonally downwards sloping invisible line that appears to act as a hard limit – there are no red dots below this line. Of course, dots that lie along this line represent trades whose MAE is equal to their final result – that is, they were closed at the worst possible time. \n",
    "\n",
    "...\n",
    "\n",
    "That means that we could make our stop loss slightly wider than this MAE and not stop out any winning trades at all, however, all the losing trades that lost more than X pct would be limited to losing only X pct (plus slippage). "
   ]
  },
  {
   "cell_type": "markdown",
   "metadata": {},
   "source": [
    "The same but in pnl measures. The assumption we make here is that our pnl already incorporates volatility. We could suggest stop loss on pnl as a function of bp (buying power). "
   ]
  },
  {
   "cell_type": "code",
   "execution_count": 51,
   "metadata": {},
   "outputs": [],
   "source": [
    "df_filter_vpi['position_pnl_bp_mae'] = df_filter_vpi['delta_move_mae'] * df_filter_vpi['position_size_bp']\n",
    "df_filter_vpi['position_pnl_bp_mfe'] = df_filter_vpi['delta_move_mfe'] * df_filter_vpi['position_size_bp']"
   ]
  },
  {
   "cell_type": "code",
   "execution_count": 52,
   "metadata": {},
   "outputs": [
    {
     "data": {
      "text/plain": [
       "<matplotlib.collections.LineCollection at 0x134020910>"
      ]
     },
     "execution_count": 52,
     "metadata": {},
     "output_type": "execute_result"
    },
    {
     "data": {
      "image/png": "[encoded data removed]",
      "text/plain": [
       "<Figure size 720x576 with 1 Axes>"
      ]
     },
     "metadata": {
      "needs_background": "light"
     },
     "output_type": "display_data"
    }
   ],
   "source": [
    "# Plot\n",
    "fig, ax = plt.subplots(1, 1, figsize=(10,8))\n",
    "xcolumn = 'position_pnl_bp_mae'\n",
    "ycolumn = 'position_pnl_bp'\n",
    "col = np.where(df_filter_vpi[ycolumn].values < 0,'r',np.where(df_filter_vpi[ycolumn].values > 0,'g','b'))\n",
    "ax.scatter(df_filter_vpi[xcolumn].values, df_filter_vpi[ycolumn].values, c=col)\n",
    "ax.set_xlabel(xcolumn, fontsize=12)\n",
    "ax.set_ylabel(ycolumn, fontsize=12)\n",
    "ax.hlines(0, df_filter_vpi[xcolumn].min(), df_filter_vpi[xcolumn].max(), linestyles='dashed', alpha=0.3)\n",
    "ax.vlines(0, df_filter_vpi[ycolumn].min(), df_filter_vpi[ycolumn].max(), linestyles='dashed', alpha=0.3)"
   ]
  },
  {
   "cell_type": "markdown",
   "metadata": {},
   "source": [
    "As we have seen on previous ananlysis of close status the **market trades** are negative on average. Let's focus on this part to see if we can make it better with the help of MAE/MFE analysis."
   ]
  },
  {
   "cell_type": "code",
   "execution_count": 53,
   "metadata": {},
   "outputs": [
    {
     "name": "stdout",
     "output_type": "stream",
     "text": [
      "Count: 2666\n",
      "Mean: -4.728062741430764\n",
      "Sum: -12605.015268654417\n",
      "Sharpe: -0.07365988791235807\n"
     ]
    }
   ],
   "source": [
    "df_filter_vpi_market = df_filter_vpi[df_filter_vpi['close_status']=='market'].copy()\n",
    "print('Count: {}\\nMean: {}\\nSum: {}\\nSharpe: {}'.format(df_filter_vpi_market['position_pnl_bp_net'].count(), df_filter_vpi_market['position_pnl_bp_net'].mean(), df_filter_vpi_market['position_pnl_bp_net'].sum(), df_filter_vpi_market['position_pnl_bp_net'].mean()/df_filter_vpi_market['position_pnl_bp_net'].std()))"
   ]
  },
  {
   "cell_type": "markdown",
   "metadata": {},
   "source": [
    "Plot MAE for this dataframe"
   ]
  },
  {
   "cell_type": "code",
   "execution_count": 54,
   "metadata": {},
   "outputs": [
    {
     "data": {
      "text/plain": [
       "<matplotlib.collections.LineCollection at 0x1340aa7f0>"
      ]
     },
     "execution_count": 54,
     "metadata": {},
     "output_type": "execute_result"
    },
    {
     "data": {
      "image/png": "[encoded data removed]",
      "text/plain": [
       "<Figure size 720x576 with 1 Axes>"
      ]
     },
     "metadata": {
      "needs_background": "light"
     },
     "output_type": "display_data"
    }
   ],
   "source": [
    "# Plot\n",
    "fig, ax = plt.subplots(1, 1, figsize=(10,8))\n",
    "xcolumn = 'position_pnl_bp_mae'\n",
    "ycolumn = 'position_pnl_bp'\n",
    "col = np.where(df_filter_vpi_market[ycolumn].values < 0,'r',np.where(df_filter_vpi_market[ycolumn].values > 0,'g','b'))\n",
    "ax.scatter(df_filter_vpi_market[xcolumn].values, df_filter_vpi_market[ycolumn].values, c=col)\n",
    "ax.set_xlabel(xcolumn, fontsize=12)\n",
    "ax.set_ylabel(ycolumn, fontsize=12)\n",
    "ax.hlines(0, df_filter_vpi_market[xcolumn].min(), df_filter_vpi_market[xcolumn].max(), linestyles='dashed', alpha=0.3)\n",
    "ax.vlines(0, df_filter_vpi_market[ycolumn].min(), df_filter_vpi_market[ycolumn].max(), linestyles='dashed', alpha=0.3)"
   ]
  },
  {
   "cell_type": "markdown",
   "metadata": {},
   "source": [
    "### Stop loss <a class=\"anchor\" id=\"seventh-bullet-sl\"></a> "
   ]
  },
  {
   "cell_type": "markdown",
   "metadata": {},
   "source": [
    "Definitely, we have some big losses. Let's imagine that we are going to implement *stop loss*. Green dot that lies the most to the left is trade with the biggest drawdown which is around -200 dollars. This will be our first stop loss.    "
   ]
  },
  {
   "cell_type": "code",
   "execution_count": 55,
   "metadata": {},
   "outputs": [],
   "source": [
    "stop_loss = -250\n",
    "colname = 'position_pnl_bp_stop{}'.format(stop_loss)\n",
    "df_filter_vpi_market[colname] = np.where(df_filter_vpi_market['position_pnl_bp_mae'] < stop_loss, stop_loss, df_filter_vpi_market['position_pnl_bp'])"
   ]
  },
  {
   "cell_type": "code",
   "execution_count": 56,
   "metadata": {},
   "outputs": [
    {
     "data": {
      "text/plain": [
       "<matplotlib.collections.LineCollection at 0x134142d00>"
      ]
     },
     "execution_count": 56,
     "metadata": {},
     "output_type": "execute_result"
    },
    {
     "data": {
      "image/png": "[encoded data removed]",
      "text/plain": [
       "<Figure size 720x576 with 1 Axes>"
      ]
     },
     "metadata": {
      "needs_background": "light"
     },
     "output_type": "display_data"
    }
   ],
   "source": [
    "# Plot\n",
    "fig, ax = plt.subplots(1, 1, figsize=(10,8))\n",
    "xcolumn = 'position_pnl_bp_mae'\n",
    "ycolumn = colname\n",
    "col = np.where(df_filter_vpi_market[ycolumn].values < 0,'r',np.where(df_filter_vpi_market[ycolumn].values > 0,'g','b'))\n",
    "ax.scatter(df_filter_vpi_market[xcolumn].values, df_filter_vpi_market[ycolumn].values, c=col)\n",
    "ax.set_xlabel(xcolumn, fontsize=12)\n",
    "ax.set_ylabel(ycolumn, fontsize=12)\n",
    "ax.hlines(0, df_filter_vpi_market[xcolumn].min(), df_filter_vpi_market[xcolumn].max(), linestyles='dashed', alpha=0.3)\n",
    "ax.vlines(0, df_filter_vpi_market[ycolumn].min(), df_filter_vpi_market[ycolumn].max(), linestyles='dashed', alpha=0.3)\n",
    "ax.vlines(stop_loss, df_filter_vpi_market[ycolumn].min(), df_filter_vpi_market[ycolumn].max(), linestyles='dashed', alpha=0.3)"
   ]
  },
  {
   "cell_type": "markdown",
   "metadata": {},
   "source": [
    "All our green dots remained green. We just limited losses to 250 dollars. Check sharpe"
   ]
  },
  {
   "cell_type": "code",
   "execution_count": 57,
   "metadata": {},
   "outputs": [
    {
     "name": "stdout",
     "output_type": "stream",
     "text": [
      "Count: 2666\n",
      "Mean: -0.1339653145300892\n",
      "Sum: -357.1515285372178\n",
      "Sharpe: -0.0023209304292363684\n"
     ]
    }
   ],
   "source": [
    "print('Count: {}\\nMean: {}\\nSum: {}\\nSharpe: {}'.format(df_filter_vpi_market[colname].count(), df_filter_vpi_market[colname].mean(), df_filter_vpi_market[colname].sum(), df_filter_vpi_market[colname].mean()/df_filter_vpi_market[colname].std()))"
   ]
  },
  {
   "cell_type": "markdown",
   "metadata": {},
   "source": [
    "Now we are at break even. Let's see what happens if we sacrifice some profitable trades in the sake of cutting more losses. New stop loss -120 dollars."
   ]
  },
  {
   "cell_type": "code",
   "execution_count": 58,
   "metadata": {},
   "outputs": [],
   "source": [
    "stop_loss = -100\n",
    "colname = 'position_pnl_bp_stop{}'.format(stop_loss)\n",
    "df_filter_vpi_market[colname] = np.where(df_filter_vpi_market['position_pnl_bp_mae'] < stop_loss, stop_loss, df_filter_vpi_market['position_pnl_bp'])"
   ]
  },
  {
   "cell_type": "code",
   "execution_count": 59,
   "metadata": {},
   "outputs": [
    {
     "data": {
      "text/plain": [
       "<matplotlib.collections.LineCollection at 0x1341a5eb0>"
      ]
     },
     "execution_count": 59,
     "metadata": {},
     "output_type": "execute_result"
    },
    {
     "data": {
      "image/png": "[encoded data removed]",
      "text/plain": [
       "<Figure size 720x576 with 1 Axes>"
      ]
     },
     "metadata": {
      "needs_background": "light"
     },
     "output_type": "display_data"
    }
   ],
   "source": [
    "# Plot\n",
    "fig, ax = plt.subplots(1, 1, figsize=(10,8))\n",
    "xcolumn = 'position_pnl_bp_mae'\n",
    "ycolumn = colname\n",
    "col = np.where(df_filter_vpi_market[ycolumn].values < 0,'r',np.where(df_filter_vpi_market[ycolumn].values > 0,'g','b'))\n",
    "ax.scatter(df_filter_vpi_market[xcolumn].values, df_filter_vpi_market[ycolumn].values, c=col)\n",
    "ax.set_xlabel(xcolumn, fontsize=12)\n",
    "ax.set_ylabel(ycolumn, fontsize=12)\n",
    "ax.hlines(0, df_filter_vpi_market[xcolumn].min(), df_filter_vpi_market[xcolumn].max(), linestyles='dashed', alpha=0.3)\n",
    "ax.vlines(0, df_filter_vpi_market[ycolumn].min(), df_filter_vpi_market[ycolumn].max(), linestyles='dashed', alpha=0.3)\n",
    "ax.vlines(stop_loss, df_filter_vpi_market[ycolumn].min(), df_filter_vpi_market[ycolumn].max(), linestyles='dashed', alpha=0.3)"
   ]
  },
  {
   "cell_type": "code",
   "execution_count": 60,
   "metadata": {},
   "outputs": [
    {
     "name": "stdout",
     "output_type": "stream",
     "text": [
      "Count: 2666\n",
      "Mean: 0.7222411762551294\n",
      "Sum: 1925.494975896175\n",
      "Sharpe: 0.01545414186322576\n"
     ]
    }
   ],
   "source": [
    "print('Count: {}\\nMean: {}\\nSum: {}\\nSharpe: {}'.format(df_filter_vpi_market[colname].count(), df_filter_vpi_market[colname].mean(), df_filter_vpi_market[colname].sum(), df_filter_vpi_market[colname].mean()/df_filter_vpi_market[colname].std()))"
   ]
  },
  {
   "cell_type": "markdown",
   "metadata": {},
   "source": [
    "Again, much better results. But for the moment I will leave it as it is because I don't want to overoptimize. After all, **risk management is important but it doesn't give us an edge**. \n",
    "\n",
    "At this stage of analysis I want to classify my trades according to ..."
   ]
  },
  {
   "cell_type": "code",
   "execution_count": 61,
   "metadata": {},
   "outputs": [],
   "source": [
    "df_filter_vpi_market['delta_time_max_min'] = (pd.to_datetime(df_filter_vpi_market['max_pnl_time']) - pd.to_datetime(df_filter_vpi_market['min_pnl_time'])).dt.total_seconds() \n",
    "df_filter_vpi_market['delta_time_max_open'] = (pd.to_datetime(df_filter_vpi_market['max_pnl_time']) - pd.to_datetime(df_filter_vpi_market['start'])).dt.total_seconds() \n",
    "df_filter_vpi_market['delta_time_min_open'] = (pd.to_datetime(df_filter_vpi_market['min_pnl_time']) - pd.to_datetime(df_filter_vpi_market['start'])).dt.total_seconds() \n",
    "df_filter_vpi_market['delta_time_close_open'] = (pd.to_datetime(df_filter_vpi_market['stop']) - pd.to_datetime(df_filter_vpi_market['start'])).dt.total_seconds() "
   ]
  },
  {
   "cell_type": "code",
   "execution_count": 62,
   "metadata": {},
   "outputs": [
    {
     "data": {
      "image/png": "[encoded data removed]",
      "text/plain": [
       "<Figure size 1440x432 with 2 Axes>"
      ]
     },
     "metadata": {
      "needs_background": "light"
     },
     "output_type": "display_data"
    }
   ],
   "source": [
    "df_filter_vpi_market[['delta_time_min_open', 'delta_time_max_open']].hist(layout=(1,2),bins=60, figsize=(20,6), sharey=True)\n",
    "plt.tight_layout()"
   ]
  },
  {
   "cell_type": "code",
   "execution_count": 63,
   "metadata": {},
   "outputs": [
    {
     "data": {
      "text/html": [
       "<div>\n",
       "<style scoped>\n",
       "    .dataframe tbody tr th:only-of-type {\n",
       "        vertical-align: middle;\n",
       "    }\n",
       "\n",
       "    .dataframe tbody tr th {\n",
       "        vertical-align: top;\n",
       "    }\n",
       "\n",
       "    .dataframe thead th {\n",
       "        text-align: right;\n",
       "    }\n",
       "</style>\n",
       "<table border=\"1\" class=\"dataframe\">\n",
       "  <thead>\n",
       "    <tr style=\"text-align: right;\">\n",
       "      <th></th>\n",
       "      <th>count_mae</th>\n",
       "      <th>mean_mae</th>\n",
       "      <th>sum_mae</th>\n",
       "      <th>count_mfe</th>\n",
       "      <th>mean_mfe</th>\n",
       "      <th>sum_mfe</th>\n",
       "    </tr>\n",
       "    <tr>\n",
       "      <th>delta_time_min_open_group</th>\n",
       "      <th></th>\n",
       "      <th></th>\n",
       "      <th></th>\n",
       "      <th></th>\n",
       "      <th></th>\n",
       "      <th></th>\n",
       "    </tr>\n",
       "  </thead>\n",
       "  <tbody>\n",
       "    <tr>\n",
       "      <th>1</th>\n",
       "      <td>1145</td>\n",
       "      <td>-12.835461</td>\n",
       "      <td>-14696.603162</td>\n",
       "      <td>707</td>\n",
       "      <td>2.302447</td>\n",
       "      <td>1627.830025</td>\n",
       "    </tr>\n",
       "    <tr>\n",
       "      <th>2</th>\n",
       "      <td>148</td>\n",
       "      <td>-27.184042</td>\n",
       "      <td>-4023.238150</td>\n",
       "      <td>216</td>\n",
       "      <td>12.474460</td>\n",
       "      <td>2694.483357</td>\n",
       "    </tr>\n",
       "    <tr>\n",
       "      <th>3</th>\n",
       "      <td>144</td>\n",
       "      <td>-30.228244</td>\n",
       "      <td>-4352.867196</td>\n",
       "      <td>158</td>\n",
       "      <td>17.890728</td>\n",
       "      <td>2826.735061</td>\n",
       "    </tr>\n",
       "    <tr>\n",
       "      <th>4</th>\n",
       "      <td>129</td>\n",
       "      <td>-29.319530</td>\n",
       "      <td>-3782.219422</td>\n",
       "      <td>145</td>\n",
       "      <td>25.580753</td>\n",
       "      <td>3709.209250</td>\n",
       "    </tr>\n",
       "    <tr>\n",
       "      <th>5</th>\n",
       "      <td>127</td>\n",
       "      <td>-34.408226</td>\n",
       "      <td>-4369.844695</td>\n",
       "      <td>117</td>\n",
       "      <td>29.650211</td>\n",
       "      <td>3469.074663</td>\n",
       "    </tr>\n",
       "    <tr>\n",
       "      <th>6</th>\n",
       "      <td>103</td>\n",
       "      <td>-35.436335</td>\n",
       "      <td>-3649.942554</td>\n",
       "      <td>143</td>\n",
       "      <td>26.465234</td>\n",
       "      <td>3784.528413</td>\n",
       "    </tr>\n",
       "    <tr>\n",
       "      <th>7</th>\n",
       "      <td>87</td>\n",
       "      <td>-40.513778</td>\n",
       "      <td>-3524.698725</td>\n",
       "      <td>142</td>\n",
       "      <td>33.756878</td>\n",
       "      <td>4793.476739</td>\n",
       "    </tr>\n",
       "    <tr>\n",
       "      <th>8</th>\n",
       "      <td>121</td>\n",
       "      <td>-38.252471</td>\n",
       "      <td>-4628.548943</td>\n",
       "      <td>144</td>\n",
       "      <td>28.923936</td>\n",
       "      <td>4165.046820</td>\n",
       "    </tr>\n",
       "    <tr>\n",
       "      <th>9</th>\n",
       "      <td>130</td>\n",
       "      <td>-47.928853</td>\n",
       "      <td>-6230.750877</td>\n",
       "      <td>150</td>\n",
       "      <td>36.068400</td>\n",
       "      <td>5410.260075</td>\n",
       "    </tr>\n",
       "    <tr>\n",
       "      <th>10</th>\n",
       "      <td>141</td>\n",
       "      <td>-56.335897</td>\n",
       "      <td>-7943.361427</td>\n",
       "      <td>181</td>\n",
       "      <td>33.074845</td>\n",
       "      <td>5986.546861</td>\n",
       "    </tr>\n",
       "    <tr>\n",
       "      <th>11</th>\n",
       "      <td>174</td>\n",
       "      <td>-49.187778</td>\n",
       "      <td>-8558.673418</td>\n",
       "      <td>183</td>\n",
       "      <td>42.977037</td>\n",
       "      <td>7864.797784</td>\n",
       "    </tr>\n",
       "    <tr>\n",
       "      <th>12</th>\n",
       "      <td>217</td>\n",
       "      <td>-65.649386</td>\n",
       "      <td>-14245.916842</td>\n",
       "      <td>380</td>\n",
       "      <td>46.823221</td>\n",
       "      <td>17792.824011</td>\n",
       "    </tr>\n",
       "  </tbody>\n",
       "</table>\n",
       "</div>"
      ],
      "text/plain": [
       "                           count_mae   mean_mae       sum_mae  count_mfe  \\\n",
       "delta_time_min_open_group                                                  \n",
       "1                               1145 -12.835461 -14696.603162        707   \n",
       "2                                148 -27.184042  -4023.238150        216   \n",
       "3                                144 -30.228244  -4352.867196        158   \n",
       "4                                129 -29.319530  -3782.219422        145   \n",
       "5                                127 -34.408226  -4369.844695        117   \n",
       "6                                103 -35.436335  -3649.942554        143   \n",
       "7                                 87 -40.513778  -3524.698725        142   \n",
       "8                                121 -38.252471  -4628.548943        144   \n",
       "9                                130 -47.928853  -6230.750877        150   \n",
       "10                               141 -56.335897  -7943.361427        181   \n",
       "11                               174 -49.187778  -8558.673418        183   \n",
       "12                               217 -65.649386 -14245.916842        380   \n",
       "\n",
       "                            mean_mfe       sum_mfe  \n",
       "delta_time_min_open_group                           \n",
       "1                           2.302447   1627.830025  \n",
       "2                          12.474460   2694.483357  \n",
       "3                          17.890728   2826.735061  \n",
       "4                          25.580753   3709.209250  \n",
       "5                          29.650211   3469.074663  \n",
       "6                          26.465234   3784.528413  \n",
       "7                          33.756878   4793.476739  \n",
       "8                          28.923936   4165.046820  \n",
       "9                          36.068400   5410.260075  \n",
       "10                         33.074845   5986.546861  \n",
       "11                         42.977037   7864.797784  \n",
       "12                         46.823221  17792.824011  "
      ]
     },
     "execution_count": 63,
     "metadata": {},
     "output_type": "execute_result"
    }
   ],
   "source": [
    "df_filter_vpi_market['delta_time_min_open_group'] = pd.cut(df_filter_vpi_market['delta_time_min_open'], 12, labels=list(range(1, 13)))\n",
    "df_filter_vpi_market['delta_time_max_open_group'] = pd.cut(df_filter_vpi_market['delta_time_max_open'], 12, labels=list(range(1, 13)))\n",
    "\n",
    "df_delta_time_group = pd.DataFrame()\n",
    "df_delta_time_group['count_mae'] = df_filter_vpi_market.groupby('delta_time_min_open_group')['position_pnl_bp_mae'].count()\n",
    "df_delta_time_group['mean_mae'] = df_filter_vpi_market.groupby('delta_time_min_open_group')['position_pnl_bp_mae'].mean()\n",
    "df_delta_time_group['sum_mae'] = df_filter_vpi_market.groupby('delta_time_min_open_group')['position_pnl_bp_mae'].sum()\n",
    "df_delta_time_group['count_mfe'] = df_filter_vpi_market.groupby('delta_time_max_open_group')['position_pnl_bp_mfe'].count()\n",
    "df_delta_time_group['mean_mfe'] = df_filter_vpi_market.groupby('delta_time_max_open_group')['position_pnl_bp_mfe'].mean()\n",
    "df_delta_time_group['sum_mfe'] = df_filter_vpi_market.groupby('delta_time_max_open_group')['position_pnl_bp_mfe'].sum()\n",
    "df_delta_time_group"
   ]
  },
  {
   "cell_type": "markdown",
   "metadata": {},
   "source": [
    "I see nothing that I can make better with this peace of analysis."
   ]
  },
  {
   "cell_type": "markdown",
   "metadata": {},
   "source": [
    "## MOC print imapct <a class=\"anchor\" id=\"eighth-bullet\"></a> "
   ]
  },
  {
   "cell_type": "markdown",
   "metadata": {},
   "source": [
    "First, let's calculate hypothetical pnl in case we wanted to close position just the moment before market close."
   ]
  },
  {
   "cell_type": "code",
   "execution_count": 64,
   "metadata": {},
   "outputs": [
    {
     "name": "stdout",
     "output_type": "stream",
     "text": [
      "Sum Pnl with moc: 32081.292111847306\n",
      "Sum Pnl no moc: 17831.16661929409\n",
      "Sum Pnl max: 65186.86915583599\n"
     ]
    }
   ],
   "source": [
    "df_filter_vpis['delta_move_no_moc'] = np.where(df_filter_vpis['direction']=='Long', df_filter_vpis['close_price'] - df_filter_vpis['open_price'], df_filter_vpis['open_price'] - df_filter_vpis['close_price'])\n",
    "df_filter_vpis['position_pnl_bp_no_moc'] = df_filter_vpis['delta_move_no_moc'] * df_filter_vpis['position_size_bp']\n",
    "df_filter_vpis.loc[df_filter_vpis['direction'] == 'Long', 'delta_move_mfe'] = df_filter_vpis['max_pnl_price'] - df_filter_vpis['open_price'] \n",
    "df_filter_vpis.loc[df_filter_vpis['direction'] == 'Short', 'delta_move_mfe'] = df_filter_vpis['open_price'] - df_filter_vpis['max_pnl_price']\n",
    "df_filter_vpis['position_pnl_bp_mfe'] = df_filter_vpis['delta_move_mfe'] * df_filter_vpis['position_size_bp']\n",
    "df_filter_vpis['delta_pnl'] = df_filter_vpis['position_pnl_bp'] - df_filter_vpis['position_pnl_bp_no_moc']\n",
    "print('Sum Pnl with moc: {}\\nSum Pnl no moc: {}\\nSum Pnl max: {}'.format(df_filter_vpis['position_pnl_bp'].sum(), df_filter_vpis['position_pnl_bp_no_moc'].sum(), df_filter_vpis['position_pnl_bp_mfe'].sum()))\n",
    "# print(df_filter_vpis.loc[df_filter_vpis['position_pnl_bp'] > df_filter_vpis['position_pnl_bp_mfe'],['imbBeforeReversePct', 'imbAfterReversePct']].abs().quantile(0.9))\n",
    "# print(df_filter_vpis.loc[df_filter_vpis['position_pnl_bp'] > df_filter_vpis['position_pnl_bp_no_moc'],['imbBeforeReversePct', 'imbAfterReversePct']].abs().quantile(0.9))\n",
    "# print(df_filter_vpis.loc[:,['imbBeforeReversePct', 'imbAfterReversePct']].abs().quantile(0.9))"
   ]
  },
  {
   "cell_type": "markdown",
   "metadata": {},
   "source": [
    "## Seasonality analysis <a class=\"anchor\" id=\"nineth-bullet\"></a> "
   ]
  },
  {
   "cell_type": "markdown",
   "metadata": {},
   "source": [
    "And as a lst part of analysis I want to do seasonality analysis. What I mean is usually on Friday the moc trading is more active due to final trading day of the week and some triple and quadruple witchings. I expect to see higher pnl on average on Fridays.  "
   ]
  },
  {
   "cell_type": "code",
   "execution_count": 65,
   "metadata": {},
   "outputs": [],
   "source": [
    "df_filter_vpis['timeindex'] = pd.to_datetime(df_filter_vpis['date'])\n",
    "df_filter_vpis['day_name'] = df_filter_vpis['timeindex'].map(lambda row: row.strftime(\"%A\"))\n",
    "\n",
    "df_filter_vpis_conservative['timeindex'] = pd.to_datetime(df_filter_vpis_conservative['date'])\n",
    "df_filter_vpis_conservative['day_name'] = df_filter_vpis_conservative['timeindex'].map(lambda row: row.strftime(\"%A\"))"
   ]
  },
  {
   "cell_type": "code",
   "execution_count": 66,
   "metadata": {},
   "outputs": [
    {
     "data": {
      "text/html": [
       "<div>\n",
       "<style scoped>\n",
       "    .dataframe tbody tr th:only-of-type {\n",
       "        vertical-align: middle;\n",
       "    }\n",
       "\n",
       "    .dataframe tbody tr th {\n",
       "        vertical-align: top;\n",
       "    }\n",
       "\n",
       "    .dataframe thead th {\n",
       "        text-align: right;\n",
       "    }\n",
       "</style>\n",
       "<table border=\"1\" class=\"dataframe\">\n",
       "  <thead>\n",
       "    <tr style=\"text-align: right;\">\n",
       "      <th></th>\n",
       "      <th>count</th>\n",
       "      <th>avg_pnl</th>\n",
       "      <th>sum_pnl</th>\n",
       "    </tr>\n",
       "    <tr>\n",
       "      <th>day_name</th>\n",
       "      <th></th>\n",
       "      <th></th>\n",
       "      <th></th>\n",
       "    </tr>\n",
       "  </thead>\n",
       "  <tbody>\n",
       "    <tr>\n",
       "      <th>Monday</th>\n",
       "      <td>364</td>\n",
       "      <td>17.653982</td>\n",
       "      <td>6426.049552</td>\n",
       "    </tr>\n",
       "    <tr>\n",
       "      <th>Tuesday</th>\n",
       "      <td>269</td>\n",
       "      <td>31.149712</td>\n",
       "      <td>8379.272443</td>\n",
       "    </tr>\n",
       "    <tr>\n",
       "      <th>Wednesday</th>\n",
       "      <td>244</td>\n",
       "      <td>16.187688</td>\n",
       "      <td>3949.795928</td>\n",
       "    </tr>\n",
       "    <tr>\n",
       "      <th>Thursday</th>\n",
       "      <td>264</td>\n",
       "      <td>13.570369</td>\n",
       "      <td>3582.577352</td>\n",
       "    </tr>\n",
       "    <tr>\n",
       "      <th>Friday</th>\n",
       "      <td>376</td>\n",
       "      <td>25.913821</td>\n",
       "      <td>9743.596838</td>\n",
       "    </tr>\n",
       "  </tbody>\n",
       "</table>\n",
       "</div>"
      ],
      "text/plain": [
       "           count    avg_pnl      sum_pnl\n",
       "day_name                                \n",
       "Monday       364  17.653982  6426.049552\n",
       "Tuesday      269  31.149712  8379.272443\n",
       "Wednesday    244  16.187688  3949.795928\n",
       "Thursday     264  13.570369  3582.577352\n",
       "Friday       376  25.913821  9743.596838"
      ]
     },
     "execution_count": 66,
     "metadata": {},
     "output_type": "execute_result"
    }
   ],
   "source": [
    "df_day_group = pd.DataFrame()\n",
    "day_names = ['Monday', 'Tuesday', 'Wednesday', 'Thursday', 'Friday']\n",
    "df_day_group['count'] = df_filter_vpis.groupby('day_name')['position_pnl_bp'].count().reindex(day_names)\n",
    "df_day_group['avg_pnl'] = df_filter_vpis.groupby('day_name')['position_pnl_bp'].mean().reindex(day_names)\n",
    "df_day_group['sum_pnl'] = df_filter_vpis.groupby('day_name')['position_pnl_bp'].sum().reindex(day_names)\n",
    "df_day_group"
   ]
  },
  {
   "cell_type": "markdown",
   "metadata": {},
   "source": [
    "### Bins <a class=\"anchor\" id=\"nineth-bullet-bins\"></a> "
   ]
  },
  {
   "cell_type": "code",
   "execution_count": 67,
   "metadata": {},
   "outputs": [
    {
     "data": {
      "image/png": "[encoded data removed]",
      "text/plain": [
       "<Figure size 360x288 with 1 Axes>"
      ]
     },
     "metadata": {
      "needs_background": "light"
     },
     "output_type": "display_data"
    }
   ],
   "source": [
    "fig, ax = plt.subplots(1, 1, figsize=(5,4))\n",
    "df_day_group['avg_pnl'].plot.bar(ax=ax)\n",
    "fig.tight_layout()"
   ]
  },
  {
   "cell_type": "markdown",
   "metadata": {},
   "source": [
    "And again we got the confirmation of hypothesis. Friday seems to be the most active due to number of trades and most profitable day by a wide margin."
   ]
  },
  {
   "cell_type": "code",
   "execution_count": 68,
   "metadata": {},
   "outputs": [],
   "source": [
    "# Filter\n",
    "day_filter = 'Friday'\n",
    "df_filter_vpisd = df_filter_vpis[df_filter_vpis['day_name']==day_filter].copy()\n",
    "df_filter_vpisd_conservative = df_filter_vpis_conservative[df_filter_vpis_conservative['day_name']==day_filter].copy()"
   ]
  },
  {
   "cell_type": "markdown",
   "metadata": {},
   "source": [
    "### Plot <a class=\"anchor\" id=\"nineth-bullet-plot\"></a> "
   ]
  },
  {
   "cell_type": "code",
   "execution_count": 107,
   "metadata": {},
   "outputs": [
    {
     "data": {
      "text/plain": [
       "<AxesSubplot:>"
      ]
     },
     "execution_count": 107,
     "metadata": {},
     "output_type": "execute_result"
    },
    {
     "data": {
      "image/png": "[encoded data removed]",
      "text/plain": [
       "<Figure size 720x288 with 2 Axes>"
      ]
     },
     "metadata": {
      "needs_background": "light"
     },
     "output_type": "display_data"
    }
   ],
   "source": [
    "# Plot\n",
    "fig, (ax1, ax2) = plt.subplots(1, 2, figsize=(10,4))\n",
    "df_filter_vpisd[['position_pnl_bp', 'position_pnl_bp_net']].cumsum().plot(ax=ax1)\n",
    "df_filter_vpisd_conservative[['position_pnl_bp', 'position_pnl_bp_net']].cumsum().plot(ax=ax2)"
   ]
  },
  {
   "cell_type": "markdown",
   "metadata": {},
   "source": [
    "### Sharpe <a class=\"anchor\" id=\"nineth-bullet-sharpe\"></a> "
   ]
  },
  {
   "cell_type": "code",
   "execution_count": 70,
   "metadata": {},
   "outputs": [
    {
     "name": "stdout",
     "output_type": "stream",
     "text": [
      "Sharpe with next filters: max position size 900 shares, min price $20, min delta imbalance pct 1.8%, close status moc, day Friday is \n",
      "0.2995093117858986\n",
      "Sharpe with next filters: max position size 900 shares, min price $20, min delta imbalance pct 3%, close status moc, day Friday is \n",
      "0.36592323782911823\n"
     ]
    }
   ],
   "source": [
    "sharpe_vpisd = df_filter_vpisd['position_pnl_bp_net'].mean()/df_filter_vpisd['position_pnl_bp_net'].std()\n",
    "sharpe_vpisd_conservative = df_filter_vpisd_conservative['position_pnl_bp_net'].mean()/df_filter_vpisd_conservative['position_pnl_bp_net'].std()\n",
    "print('Sharpe with next filters: max position size {} shares, min price ${}, min delta imbalance pct {}%, close status {}, day {} is \\n{}'.format(max_volume, min_price, min_deltaImbPct, close_status, day_filter, sharpe_vpisd))\n",
    "print('Sharpe with next filters: max position size {} shares, min price ${}, min delta imbalance pct {}%, close status {}, day {} is \\n{}'.format(max_volume, min_price, min_deltaImbPct_conservative, close_status, day_filter, sharpe_vpisd_conservative))"
   ]
  },
  {
   "cell_type": "markdown",
   "metadata": {},
   "source": [
    "And this is another significant improvement of sharpe."
   ]
  },
  {
   "cell_type": "markdown",
   "metadata": {},
   "source": [
    "## Finally <a class=\"anchor\" id=\"tenth-bullet\"></a> "
   ]
  },
  {
   "cell_type": "code",
   "execution_count": 71,
   "metadata": {},
   "outputs": [],
   "source": [
    "df_resample = pd.DataFrame()\n",
    "# Copy\n",
    "df_filter_vpis_copy = df_filter_vpis.copy()\n",
    "# Add columns\n",
    "df_filter_vpis_copy.loc[df_filter_vpis_copy['direction'] == 'Long', 'delta_move_mae'] = df_filter_vpis_copy['min_pnl_price'] - df_filter_vpis_copy['open_price'] \n",
    "df_filter_vpis_copy.loc[df_filter_vpis_copy['direction'] == 'Short', 'delta_move_mae'] = df_filter_vpis_copy['open_price'] - df_filter_vpis_copy['min_pnl_price']\n",
    "# Timeindex\n",
    "df_filter_vpis_copy.set_index('timeindex', inplace=True)\n",
    "# Pnl\n",
    "df_resample['GrossPnl'] = df_filter_vpis_copy['position_pnl_bp'].resample('B').sum()\n",
    "df_resample['NetPnl'] = df_filter_vpis_copy['position_pnl_bp_net'].resample('B').sum()\n",
    "df_resample['CumGrossPnl'] = df_resample['GrossPnl'].cumsum().fillna(0)\n",
    "df_resample['CumNetPnl'] = df_resample['NetPnl'].cumsum().fillna(0)\n",
    "# Volume\n",
    "df_resample['Volume'] = df_filter_vpis_copy['position_size_bp'].resample('B').sum()\n",
    "df_resample['Turnover'] = df_resample['Volume'] * 2\n",
    "# Hold\n",
    "df_filter_vpis_copy['delta_time_close_open'] = (pd.to_datetime(df_filter_vpis_copy['stop']) - pd.to_datetime(df_filter_vpis_copy['start'])).dt.total_seconds() \n",
    "df_resample['AvgHold'] = df_filter_vpis_copy['delta_time_close_open'].resample('B').mean()\n",
    "# Symbols\n",
    "TradedSymbols = len(df_filter_vpis_copy['symbol'].unique())\n",
    "# MAE\n",
    "df_filter_vpis_copy['position_pnl_bp_mae'] = df_filter_vpis_copy['delta_move_mae'] * df_filter_vpis_copy['position_size_bp']\n",
    "df_resample['MinMAE'] = df_filter_vpis_copy['position_pnl_bp_mae'].resample('B').min()\n",
    "# Filter zero volume days - no trading\n",
    "df_resample = df_resample[df_resample['Volume'] > 0]\n",
    "# Drawdown\n",
    "df_resample['RollMax'] = df_resample['CumNetPnl'].cummax()\n",
    "df_resample['Drawdown'] = df_resample['CumNetPnl'] - df_resample['RollMax'] #/ df_resample['RollMax']"
   ]
  },
  {
   "cell_type": "code",
   "execution_count": 72,
   "metadata": {},
   "outputs": [],
   "source": [
    "df_stats = pd.DataFrame()\n",
    "df_filter_vpis_copy.loc[df_filter_vpis_copy['position_pnl_bp']<0, 'WinLoss'] = 'Loss'\n",
    "df_filter_vpis_copy.loc[df_filter_vpis_copy['position_pnl_bp']>0, 'WinLoss'] = 'Win'\n",
    "df_filter_vpis_copy.loc[df_filter_vpis_copy['position_pnl_bp']==0, 'WinLoss'] = 'Flat'\n",
    "df_stats['count'] = df_filter_vpis_copy.groupby('WinLoss')['position_pnl_bp'].count()\n",
    "df_stats['avg'] = df_filter_vpis_copy.groupby('WinLoss')['position_pnl_bp'].mean()"
   ]
  },
  {
   "cell_type": "markdown",
   "metadata": {},
   "source": [
    "### Ratios <a class=\"anchor\" id=\"tenth-bullet-ratios\"></a> "
   ]
  },
  {
   "cell_type": "code",
   "execution_count": 75,
   "metadata": {},
   "outputs": [],
   "source": [
    "PnL = round(df_resample['NetPnl'].sum(), 0)\n",
    "PPS = round(df_resample['GrossPnl'].sum() / df_resample['Volume'].sum(), 5)\n",
    "Turnover = df_resample['Turnover'].sum()\n",
    "AvgWin = round(df_stats.loc['Win', 'avg'], 2)\n",
    "AvgLoss = round(df_stats.loc['Loss', 'avg'], 2)\n",
    "TotalTrades = df_stats.loc[:, 'count'].sum()\n",
    "AvgWinPct = round(df_stats.loc['Win', 'count'] * 100 / TotalTrades, 2)\n",
    "AvgLossPct = round(df_stats.loc['Loss', 'count'] * 100  / TotalTrades, 2)\n",
    "AvgWinLossRatio = round(abs(AvgWin / AvgLoss), 2)\n",
    "TradedDays = len(df_resample[df_resample['Volume'] > 0])\n",
    "AvgHold = round(df_resample['AvgHold'].mean(), 2)\n",
    "Sharpe = round(np.sqrt(252) * df_resample['NetPnl'].mean() / df_resample['NetPnl'].std(), 2)\n",
    "MaxDD = round(df_resample['Drawdown'].min(), 2)\n",
    "MeanDD = round(df_resample['Drawdown'].mean(), 2)\n",
    "MaxDDPct = round(MaxDD * 100 / PnL, 2)\n",
    "MeanDDPct =round( MeanDD * 100 / PnL, 2)\n",
    "BestDay = round(df_resample['NetPnl'].max(), 0)\n",
    "WorstDay = round(df_resample['NetPnl'].min(), 0)\n",
    "ProfitableDaysPct = round(len(df_resample[df_resample['NetPnl'] > 0]) * 100 / len(df_resample), 2)\n",
    "WorstTradeMAE = round(df_resample['MinMAE'].min(), 2)"
   ]
  },
  {
   "cell_type": "code",
   "execution_count": 76,
   "metadata": {},
   "outputs": [
    {
     "data": {
      "text/html": [
       "<div>\n",
       "<style scoped>\n",
       "    .dataframe tbody tr th:only-of-type {\n",
       "        vertical-align: middle;\n",
       "    }\n",
       "\n",
       "    .dataframe tbody tr th {\n",
       "        vertical-align: top;\n",
       "    }\n",
       "\n",
       "    .dataframe thead th {\n",
       "        text-align: right;\n",
       "    }\n",
       "</style>\n",
       "<table border=\"1\" class=\"dataframe\">\n",
       "  <thead>\n",
       "    <tr style=\"text-align: right;\">\n",
       "      <th></th>\n",
       "      <th>PnL</th>\n",
       "      <th>PPS</th>\n",
       "      <th>Turnover</th>\n",
       "      <th>TradedSymbols</th>\n",
       "      <th>AvgWin</th>\n",
       "      <th>AvgLoss</th>\n",
       "      <th>AvgWin%</th>\n",
       "      <th>AvgLoss%</th>\n",
       "      <th>WinToLossRatio</th>\n",
       "      <th>TradedDays</th>\n",
       "      <th>AvgHold</th>\n",
       "      <th>BestDay</th>\n",
       "      <th>WorstDay</th>\n",
       "      <th>ProfitableDays%</th>\n",
       "      <th>Sharpe</th>\n",
       "      <th>MaxDD</th>\n",
       "      <th>MeanDD</th>\n",
       "      <th>MaxDD%</th>\n",
       "      <th>MeanDD%</th>\n",
       "      <th>WorstTradeMAE</th>\n",
       "    </tr>\n",
       "  </thead>\n",
       "  <tbody>\n",
       "    <tr>\n",
       "      <th>0</th>\n",
       "      <td>27910.0</td>\n",
       "      <td>0.05945</td>\n",
       "      <td>1.079306e+06</td>\n",
       "      <td>388</td>\n",
       "      <td>48.09</td>\n",
       "      <td>-27.4</td>\n",
       "      <td>62.76</td>\n",
       "      <td>32.96</td>\n",
       "      <td>1.76</td>\n",
       "      <td>162</td>\n",
       "      <td>39.99</td>\n",
       "      <td>4927.0</td>\n",
       "      <td>-261.0</td>\n",
       "      <td>75.93</td>\n",
       "      <td>4.92</td>\n",
       "      <td>-461.87</td>\n",
       "      <td>-48.9</td>\n",
       "      <td>-1.65</td>\n",
       "      <td>-0.18</td>\n",
       "      <td>-351.97</td>\n",
       "    </tr>\n",
       "  </tbody>\n",
       "</table>\n",
       "</div>"
      ],
      "text/plain": [
       "       PnL      PPS      Turnover  TradedSymbols  AvgWin  AvgLoss  AvgWin%  \\\n",
       "0  27910.0  0.05945  1.079306e+06            388   48.09    -27.4    62.76   \n",
       "\n",
       "   AvgLoss%  WinToLossRatio  TradedDays  AvgHold  BestDay  WorstDay  \\\n",
       "0     32.96            1.76         162    39.99   4927.0    -261.0   \n",
       "\n",
       "   ProfitableDays%  Sharpe   MaxDD  MeanDD  MaxDD%  MeanDD%  WorstTradeMAE  \n",
       "0            75.93    4.92 -461.87   -48.9   -1.65    -0.18        -351.97  "
      ]
     },
     "execution_count": 76,
     "metadata": {},
     "output_type": "execute_result"
    }
   ],
   "source": [
    "ratios = []\n",
    "ratios.append({'PnL': PnL, \n",
    "               'PPS': PPS, \n",
    "               'Turnover': Turnover, \n",
    "               'TradedSymbols': TradedSymbols, \n",
    "               'AvgWin': AvgWin, \n",
    "               'AvgLoss': AvgLoss, \n",
    "               'AvgWin%': AvgWinPct, \n",
    "               'AvgLoss%': AvgLossPct, \n",
    "               'WinToLossRatio': AvgWinLossRatio, \n",
    "               'TradedDays': TradedDays, \n",
    "               'AvgHold': AvgHold, \n",
    "               'BestDay': BestDay, \n",
    "               'WorstDay': WorstDay, \n",
    "               'ProfitableDays%': ProfitableDaysPct, \n",
    "               'Sharpe': Sharpe, \n",
    "               'MaxDD': MaxDD, \n",
    "               'MeanDD': MeanDD, \n",
    "               'MaxDD%': MaxDDPct, \n",
    "               'MeanDD%': MeanDDPct, \n",
    "               'WorstTradeMAE': WorstTradeMAE})\n",
    "\n",
    "df_ratios = pd.DataFrame(ratios)\n",
    "df_ratios"
   ]
  },
  {
   "cell_type": "markdown",
   "metadata": {},
   "source": [
    "### Plot <a class=\"anchor\" id=\"tenth-bullet-plot\"></a> "
   ]
  },
  {
   "cell_type": "code",
   "execution_count": 77,
   "metadata": {},
   "outputs": [
    {
     "data": {
      "text/plain": [
       "<AxesSubplot:xlabel='timeindex'>"
      ]
     },
     "execution_count": 77,
     "metadata": {},
     "output_type": "execute_result"
    },
    {
     "data": {
      "image/png": "[encoded data removed]",
      "text/plain": [
       "<Figure size 1440x864 with 2 Axes>"
      ]
     },
     "metadata": {
      "needs_background": "light"
     },
     "output_type": "display_data"
    }
   ],
   "source": [
    "fig, (ax1, ax2) = plt.subplots(2, 1, sharex=True, figsize=(20, 12))\n",
    "df_resample[['CumGrossPnl', 'CumNetPnl']].plot(ax=ax1)\n",
    "df_resample['Drawdown'].plot(ax=ax2)"
   ]
  },
  {
   "cell_type": "markdown",
   "metadata": {},
   "source": [
    "## Table of contents:\n",
    "* [Libraries, functions, constants](#first-bullet)\n",
    "* [Peak at data](#second-bullet)\n",
    "* [Commissions](#third-bullet)\n",
    "    * [Plot](#third-bullet-plot)\n",
    "    * [Sharpe](#third-bullet-sharpe)\n",
    "* [Price and position size analysis](#fourth-bullet)\n",
    "    * [Bins](#fourth-bullet-bins)\n",
    "    * [Plot](#fourth-bullet-plot)\n",
    "    * [Sharpe](#fourth-bullet-sharpe)\n",
    "* [Imbalance delta analysis](#fifth-bullet)\n",
    "    * [Bins](#fifth-bullet-bins)\n",
    "    * [Plot](#fifth-bullet-plot)\n",
    "    * [Sharpe](#fifth-bullet-sharpe)\n",
    "* [Close status analysis](#sixth-bullet)\n",
    "    * [Plot](#sixth-bullet-plot)\n",
    "    * [Sharpe](#sixth-bullet-sharpe)\n",
    "* [MAE/MFE](#seventh-bullet)\n",
    "    * [Plot](#seventh-bullet-plot)\n",
    "    * [Stop loss](#seventh-bullet-sl)\n",
    "* [MOC print imapct ](#eigth-bullet)\n",
    "* [Seasonality analysis](#nineth-bullet)\n",
    "    * [Bins](#nineth-bullet-bins)\n",
    "    * [Plot](#nineth-bullet-plot)\n",
    "    * [Sharpe](#nineth-bullet-sharpe)\n",
    "* [Finally](#tenth-bullet)\n",
    "    * [Ratios](#tenth-bullet-ratios)\n",
    "    * [Plot](#tenth-bullet-plot)"
   ]
  },
  {
   "cell_type": "code",
   "execution_count": null,
   "metadata": {},
   "outputs": [],
   "source": []
  }
 ],
 "metadata": {
  "kernelspec": {
   "display_name": "moc_imbalance_flip",
   "language": "python",
   "name": "moc_imbalance_flip"
  },
  "language_info": {
   "codemirror_mode": {
    "name": "ipython",
    "version": 3
   },
   "file_extension": ".py",
   "mimetype": "text/x-python",
   "name": "python",
   "nbconvert_exporter": "python",
   "pygments_lexer": "ipython3",
   "version": "3.9.0"
  }
 },
 "nbformat": 4,
 "nbformat_minor": 4
}
