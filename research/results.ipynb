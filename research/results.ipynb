{
 "cells": [
  {
   "cell_type": "code",
   "execution_count": 71,
   "metadata": {},
   "outputs": [],
   "source": [
    "import pandas as pd\n",
    "import matplotlib.pyplot as plt\n",
    "import os\n",
    "from sklearn.linear_model import LinearRegression\n",
    "\n",
    "%matplotlib inline\n",
    "# %matplotlib notebook\n",
    "# %matplotlib notebook\n",
    "plt.rcParams['figure.figsize'] = [6, 3]"
   ]
  },
  {
   "cell_type": "code",
   "execution_count": 72,
   "metadata": {},
   "outputs": [],
   "source": [
    "def plot_scatter(stat, ax, xcolumn, ycolumn):    \n",
    "    ax.scatter(stat[xcolumn].values, stat[ycolumn].values)\n",
    "    ax.plot(stat[xcolumn], linear_regression(stat, xcolumn, ycolumn), color='red')\n",
    "\n",
    "    ax.set_xlabel(xcolumn, fontsize=12)\n",
    "    ax.set_ylabel(ycolumn, fontsize=12)\n",
    "    \n",
    "    ax.hlines(0, stat[xcolumn].min(), stat[xcolumn].max(), linestyles='dashed', alpha=0.3)"
   ]
  },
  {
   "cell_type": "code",
   "execution_count": 73,
   "metadata": {},
   "outputs": [],
   "source": [
    "def linear_regression(data, x_name, y_name):\n",
    "    X = data.loc[:, x_name].values.reshape(-1, 1)  # values converts it into a numpy array\n",
    "    Y = data.loc[:, y_name].values.reshape(-1, 1)  # -1 means that calculate the dimension of rows, but have 1 column\n",
    "    linear_regressor = LinearRegression().fit(X, Y)  # create object for the class\n",
    "    print(f'r_sqr value: {linear_regressor.score(X, Y)}')\n",
    "    return linear_regressor.predict(X)"
   ]
  },
  {
   "cell_type": "code",
   "execution_count": 74,
   "metadata": {},
   "outputs": [],
   "source": [
    "path = '/Users/berg/Projects/Atto/moc_imbalance_flip/data/positions'"
   ]
  },
  {
   "cell_type": "code",
   "execution_count": 75,
   "metadata": {},
   "outputs": [
    {
     "data": {
      "text/html": [
       "<div>\n",
       "<style scoped>\n",
       "    .dataframe tbody tr th:only-of-type {\n",
       "        vertical-align: middle;\n",
       "    }\n",
       "\n",
       "    .dataframe tbody tr th {\n",
       "        vertical-align: top;\n",
       "    }\n",
       "\n",
       "    .dataframe thead th {\n",
       "        text-align: right;\n",
       "    }\n",
       "</style>\n",
       "<table border=\"1\" class=\"dataframe\">\n",
       "  <thead>\n",
       "    <tr style=\"text-align: right;\">\n",
       "      <th></th>\n",
       "      <th>date</th>\n",
       "      <th>moc_date</th>\n",
       "      <th>symbol</th>\n",
       "      <th>volume</th>\n",
       "      <th>start</th>\n",
       "      <th>stop</th>\n",
       "      <th>initial_imb</th>\n",
       "      <th>paired_imb</th>\n",
       "      <th>direction</th>\n",
       "      <th>open_price</th>\n",
       "      <th>...</th>\n",
       "      <th>position_size</th>\n",
       "      <th>position_size_bp</th>\n",
       "      <th>reverse_count</th>\n",
       "      <th>imbBeforeReversePct</th>\n",
       "      <th>imbAfterReversePct</th>\n",
       "      <th>deltaImbPct</th>\n",
       "      <th>delta_move</th>\n",
       "      <th>delta_move_pct</th>\n",
       "      <th>position_pnl_bp</th>\n",
       "      <th>position_pnl</th>\n",
       "    </tr>\n",
       "  </thead>\n",
       "  <tbody>\n",
       "    <tr>\n",
       "      <th>0</th>\n",
       "      <td>2020-02-03</td>\n",
       "      <td>2020-02-04</td>\n",
       "      <td>ABBV</td>\n",
       "      <td>7916750</td>\n",
       "      <td>2020-02-03 15:55:00</td>\n",
       "      <td>2020-02-03 15:56:00</td>\n",
       "      <td>9467</td>\n",
       "      <td>777818</td>\n",
       "      <td>Long</td>\n",
       "      <td>82.22</td>\n",
       "      <td>...</td>\n",
       "      <td>500</td>\n",
       "      <td>500.000000</td>\n",
       "      <td>1</td>\n",
       "      <td>-3.729750</td>\n",
       "      <td>0.119582</td>\n",
       "      <td>3.849332</td>\n",
       "      <td>0.05</td>\n",
       "      <td>0.060812</td>\n",
       "      <td>25.000000</td>\n",
       "      <td>25.00</td>\n",
       "    </tr>\n",
       "    <tr>\n",
       "      <th>1</th>\n",
       "      <td>2020-02-03</td>\n",
       "      <td>2020-02-04</td>\n",
       "      <td>ABEV</td>\n",
       "      <td>15315378</td>\n",
       "      <td>2020-02-03 15:59:36</td>\n",
       "      <td>2020-02-03 16:00:00</td>\n",
       "      <td>-111744</td>\n",
       "      <td>270056</td>\n",
       "      <td>Short</td>\n",
       "      <td>4.12</td>\n",
       "      <td>...</td>\n",
       "      <td>407533</td>\n",
       "      <td>12135.922330</td>\n",
       "      <td>1</td>\n",
       "      <td>0.860873</td>\n",
       "      <td>-0.729620</td>\n",
       "      <td>-1.590493</td>\n",
       "      <td>-0.01</td>\n",
       "      <td>-0.242718</td>\n",
       "      <td>-121.359223</td>\n",
       "      <td>-4075.33</td>\n",
       "    </tr>\n",
       "    <tr>\n",
       "      <th>2</th>\n",
       "      <td>2020-02-03</td>\n",
       "      <td>2020-02-04</td>\n",
       "      <td>ACM</td>\n",
       "      <td>1262740</td>\n",
       "      <td>2020-02-03 15:55:00</td>\n",
       "      <td>2020-02-03 15:56:00</td>\n",
       "      <td>12513</td>\n",
       "      <td>380765</td>\n",
       "      <td>Long</td>\n",
       "      <td>47.64</td>\n",
       "      <td>...</td>\n",
       "      <td>803</td>\n",
       "      <td>803.000000</td>\n",
       "      <td>1</td>\n",
       "      <td>-0.533443</td>\n",
       "      <td>0.990940</td>\n",
       "      <td>1.524383</td>\n",
       "      <td>0.01</td>\n",
       "      <td>0.020991</td>\n",
       "      <td>8.030000</td>\n",
       "      <td>8.03</td>\n",
       "    </tr>\n",
       "    <tr>\n",
       "      <th>3</th>\n",
       "      <td>2020-02-03</td>\n",
       "      <td>2020-02-04</td>\n",
       "      <td>ACN</td>\n",
       "      <td>1880650</td>\n",
       "      <td>2020-02-03 15:55:00</td>\n",
       "      <td>2020-02-03 15:56:00</td>\n",
       "      <td>33215</td>\n",
       "      <td>330947</td>\n",
       "      <td>Long</td>\n",
       "      <td>207.69</td>\n",
       "      <td>...</td>\n",
       "      <td>340</td>\n",
       "      <td>240.743416</td>\n",
       "      <td>1</td>\n",
       "      <td>-3.335230</td>\n",
       "      <td>1.766145</td>\n",
       "      <td>5.101375</td>\n",
       "      <td>-0.02</td>\n",
       "      <td>-0.009630</td>\n",
       "      <td>-4.814868</td>\n",
       "      <td>-6.80</td>\n",
       "    </tr>\n",
       "    <tr>\n",
       "      <th>4</th>\n",
       "      <td>2020-02-03</td>\n",
       "      <td>2020-02-04</td>\n",
       "      <td>ADM</td>\n",
       "      <td>2913957</td>\n",
       "      <td>2020-02-03 15:59:07</td>\n",
       "      <td>2020-02-03 16:00:00</td>\n",
       "      <td>1785</td>\n",
       "      <td>423259</td>\n",
       "      <td>Long</td>\n",
       "      <td>44.98</td>\n",
       "      <td>...</td>\n",
       "      <td>3599</td>\n",
       "      <td>1111.605158</td>\n",
       "      <td>1</td>\n",
       "      <td>-1.132995</td>\n",
       "      <td>0.061257</td>\n",
       "      <td>1.194252</td>\n",
       "      <td>-0.02</td>\n",
       "      <td>-0.044464</td>\n",
       "      <td>-22.232103</td>\n",
       "      <td>-71.98</td>\n",
       "    </tr>\n",
       "  </tbody>\n",
       "</table>\n",
       "<p>5 rows × 24 columns</p>\n",
       "</div>"
      ],
      "text/plain": [
       "         date    moc_date symbol    volume                start  \\\n",
       "0  2020-02-03  2020-02-04   ABBV   7916750  2020-02-03 15:55:00   \n",
       "1  2020-02-03  2020-02-04   ABEV  15315378  2020-02-03 15:59:36   \n",
       "2  2020-02-03  2020-02-04    ACM   1262740  2020-02-03 15:55:00   \n",
       "3  2020-02-03  2020-02-04    ACN   1880650  2020-02-03 15:55:00   \n",
       "4  2020-02-03  2020-02-04    ADM   2913957  2020-02-03 15:59:07   \n",
       "\n",
       "                  stop  initial_imb  paired_imb direction  open_price  ...  \\\n",
       "0  2020-02-03 15:56:00         9467      777818      Long       82.22  ...   \n",
       "1  2020-02-03 16:00:00      -111744      270056     Short        4.12  ...   \n",
       "2  2020-02-03 15:56:00        12513      380765      Long       47.64  ...   \n",
       "3  2020-02-03 15:56:00        33215      330947      Long      207.69  ...   \n",
       "4  2020-02-03 16:00:00         1785      423259      Long       44.98  ...   \n",
       "\n",
       "   position_size  position_size_bp reverse_count  imbBeforeReversePct  \\\n",
       "0            500        500.000000             1            -3.729750   \n",
       "1         407533      12135.922330             1             0.860873   \n",
       "2            803        803.000000             1            -0.533443   \n",
       "3            340        240.743416             1            -3.335230   \n",
       "4           3599       1111.605158             1            -1.132995   \n",
       "\n",
       "   imbAfterReversePct  deltaImbPct  delta_move  delta_move_pct  \\\n",
       "0            0.119582     3.849332        0.05        0.060812   \n",
       "1           -0.729620    -1.590493       -0.01       -0.242718   \n",
       "2            0.990940     1.524383        0.01        0.020991   \n",
       "3            1.766145     5.101375       -0.02       -0.009630   \n",
       "4            0.061257     1.194252       -0.02       -0.044464   \n",
       "\n",
       "   position_pnl_bp  position_pnl  \n",
       "0        25.000000         25.00  \n",
       "1      -121.359223      -4075.33  \n",
       "2         8.030000          8.03  \n",
       "3        -4.814868         -6.80  \n",
       "4       -22.232103        -71.98  \n",
       "\n",
       "[5 rows x 24 columns]"
      ]
     },
     "execution_count": 75,
     "metadata": {},
     "output_type": "execute_result"
    }
   ],
   "source": [
    "cwd = os.getcwd()\n",
    "df = pd.read_csv(path + '/hold_60000_volume_2000000_spread_0.2_deltaimb_1_date_2020-11-18.csv', index_col=0)#, parse_dates=True)\n",
    "df.head()"
   ]
  },
  {
   "cell_type": "markdown",
   "metadata": {},
   "source": [
    "## Data overview"
   ]
  },
  {
   "cell_type": "code",
   "execution_count": 76,
   "metadata": {},
   "outputs": [
    {
     "data": {
      "text/html": [
       "<div>\n",
       "<style scoped>\n",
       "    .dataframe tbody tr th:only-of-type {\n",
       "        vertical-align: middle;\n",
       "    }\n",
       "\n",
       "    .dataframe tbody tr th {\n",
       "        vertical-align: top;\n",
       "    }\n",
       "\n",
       "    .dataframe thead th {\n",
       "        text-align: right;\n",
       "    }\n",
       "</style>\n",
       "<table border=\"1\" class=\"dataframe\">\n",
       "  <thead>\n",
       "    <tr style=\"text-align: right;\">\n",
       "      <th></th>\n",
       "      <th>volume</th>\n",
       "      <th>initial_imb</th>\n",
       "      <th>paired_imb</th>\n",
       "      <th>open_price</th>\n",
       "      <th>spread_at_open</th>\n",
       "      <th>close_price</th>\n",
       "      <th>spread_at_close</th>\n",
       "      <th>position_size</th>\n",
       "      <th>position_size_bp</th>\n",
       "      <th>reverse_count</th>\n",
       "      <th>imbBeforeReversePct</th>\n",
       "      <th>imbAfterReversePct</th>\n",
       "      <th>deltaImbPct</th>\n",
       "      <th>delta_move</th>\n",
       "      <th>delta_move_pct</th>\n",
       "      <th>position_pnl_bp</th>\n",
       "      <th>position_pnl</th>\n",
       "    </tr>\n",
       "  </thead>\n",
       "  <tbody>\n",
       "    <tr>\n",
       "      <th>count</th>\n",
       "      <td>1.839700e+04</td>\n",
       "      <td>1.839700e+04</td>\n",
       "      <td>1.839700e+04</td>\n",
       "      <td>18397.000000</td>\n",
       "      <td>18397.000000</td>\n",
       "      <td>18397.000000</td>\n",
       "      <td>18397.000000</td>\n",
       "      <td>1.839700e+04</td>\n",
       "      <td>18397.000000</td>\n",
       "      <td>18397.000000</td>\n",
       "      <td>1.839700e+04</td>\n",
       "      <td>1.839700e+04</td>\n",
       "      <td>1.839700e+04</td>\n",
       "      <td>1.839700e+04</td>\n",
       "      <td>1.839700e+04</td>\n",
       "      <td>1.839700e+04</td>\n",
       "      <td>1.839700e+04</td>\n",
       "    </tr>\n",
       "    <tr>\n",
       "      <th>mean</th>\n",
       "      <td>4.976532e+06</td>\n",
       "      <td>6.798741e+02</td>\n",
       "      <td>6.550178e+05</td>\n",
       "      <td>51.883721</td>\n",
       "      <td>0.021980</td>\n",
       "      <td>51.883579</td>\n",
       "      <td>0.012564</td>\n",
       "      <td>1.402954e+04</td>\n",
       "      <td>2564.205034</td>\n",
       "      <td>2.675001</td>\n",
       "      <td>NaN</td>\n",
       "      <td>NaN</td>\n",
       "      <td>NaN</td>\n",
       "      <td>4.645605e-03</td>\n",
       "      <td>-3.423325e-02</td>\n",
       "      <td>-1.266928e+01</td>\n",
       "      <td>-9.550557e+01</td>\n",
       "    </tr>\n",
       "    <tr>\n",
       "      <th>std</th>\n",
       "      <td>6.372828e+06</td>\n",
       "      <td>1.461589e+05</td>\n",
       "      <td>1.634591e+06</td>\n",
       "      <td>55.689958</td>\n",
       "      <td>0.027392</td>\n",
       "      <td>55.689060</td>\n",
       "      <td>0.029913</td>\n",
       "      <td>5.828751e+04</td>\n",
       "      <td>6761.593170</td>\n",
       "      <td>4.297406</td>\n",
       "      <td>NaN</td>\n",
       "      <td>NaN</td>\n",
       "      <td>NaN</td>\n",
       "      <td>1.641116e-01</td>\n",
       "      <td>3.704323e-01</td>\n",
       "      <td>1.199007e+02</td>\n",
       "      <td>8.179850e+02</td>\n",
       "    </tr>\n",
       "    <tr>\n",
       "      <th>min</th>\n",
       "      <td>0.000000e+00</td>\n",
       "      <td>-4.591336e+06</td>\n",
       "      <td>0.000000e+00</td>\n",
       "      <td>0.120000</td>\n",
       "      <td>0.010000</td>\n",
       "      <td>0.130000</td>\n",
       "      <td>-0.660000</td>\n",
       "      <td>1.000000e+00</td>\n",
       "      <td>1.000000</td>\n",
       "      <td>1.000000</td>\n",
       "      <td>-inf</td>\n",
       "      <td>-inf</td>\n",
       "      <td>-inf</td>\n",
       "      <td>-2.970000e+00</td>\n",
       "      <td>-1.047368e+01</td>\n",
       "      <td>-3.975535e+03</td>\n",
       "      <td>-3.253792e+04</td>\n",
       "    </tr>\n",
       "    <tr>\n",
       "      <th>25%</th>\n",
       "      <td>2.096450e+06</td>\n",
       "      <td>-2.658100e+04</td>\n",
       "      <td>1.561190e+05</td>\n",
       "      <td>14.800000</td>\n",
       "      <td>0.010000</td>\n",
       "      <td>14.810000</td>\n",
       "      <td>0.000000</td>\n",
       "      <td>3.970000e+02</td>\n",
       "      <td>320.000000</td>\n",
       "      <td>1.000000</td>\n",
       "      <td>-9.714219e-01</td>\n",
       "      <td>-8.504376e-01</td>\n",
       "      <td>-1.811392e+00</td>\n",
       "      <td>-3.000000e-02</td>\n",
       "      <td>-1.152738e-01</td>\n",
       "      <td>-3.915000e+01</td>\n",
       "      <td>-5.988000e+01</td>\n",
       "    </tr>\n",
       "    <tr>\n",
       "      <th>50%</th>\n",
       "      <td>3.272747e+06</td>\n",
       "      <td>-1.280000e+02</td>\n",
       "      <td>3.021850e+05</td>\n",
       "      <td>33.240000</td>\n",
       "      <td>0.010000</td>\n",
       "      <td>33.250000</td>\n",
       "      <td>0.010000</td>\n",
       "      <td>1.297000e+03</td>\n",
       "      <td>945.358291</td>\n",
       "      <td>1.000000</td>\n",
       "      <td>3.343209e-03</td>\n",
       "      <td>-4.440639e-03</td>\n",
       "      <td>-1.003163e+00</td>\n",
       "      <td>-8.881784e-16</td>\n",
       "      <td>-1.797932e-14</td>\n",
       "      <td>-7.476249e-12</td>\n",
       "      <td>-8.038104e-11</td>\n",
       "    </tr>\n",
       "    <tr>\n",
       "      <th>75%</th>\n",
       "      <td>5.485268e+06</td>\n",
       "      <td>2.738400e+04</td>\n",
       "      <td>6.036660e+05</td>\n",
       "      <td>66.060000</td>\n",
       "      <td>0.020000</td>\n",
       "      <td>66.090000</td>\n",
       "      <td>0.010000</td>\n",
       "      <td>6.044000e+03</td>\n",
       "      <td>2698.327037</td>\n",
       "      <td>2.000000</td>\n",
       "      <td>9.728777e-01</td>\n",
       "      <td>8.755594e-01</td>\n",
       "      <td>1.814129e+00</td>\n",
       "      <td>3.000000e-02</td>\n",
       "      <td>7.545272e-02</td>\n",
       "      <td>2.008000e+01</td>\n",
       "      <td>2.421000e+01</td>\n",
       "    </tr>\n",
       "    <tr>\n",
       "      <th>max</th>\n",
       "      <td>1.385543e+08</td>\n",
       "      <td>3.451568e+06</td>\n",
       "      <td>5.953006e+07</td>\n",
       "      <td>499.180000</td>\n",
       "      <td>0.200000</td>\n",
       "      <td>499.370000</td>\n",
       "      <td>0.670000</td>\n",
       "      <td>1.363849e+06</td>\n",
       "      <td>294117.647059</td>\n",
       "      <td>55.000000</td>\n",
       "      <td>inf</td>\n",
       "      <td>inf</td>\n",
       "      <td>inf</td>\n",
       "      <td>4.280000e+00</td>\n",
       "      <td>6.331471e+00</td>\n",
       "      <td>3.165736e+03</td>\n",
       "      <td>2.683076e+04</td>\n",
       "    </tr>\n",
       "  </tbody>\n",
       "</table>\n",
       "</div>"
      ],
      "text/plain": [
       "             volume   initial_imb    paired_imb    open_price  spread_at_open  \\\n",
       "count  1.839700e+04  1.839700e+04  1.839700e+04  18397.000000    18397.000000   \n",
       "mean   4.976532e+06  6.798741e+02  6.550178e+05     51.883721        0.021980   \n",
       "std    6.372828e+06  1.461589e+05  1.634591e+06     55.689958        0.027392   \n",
       "min    0.000000e+00 -4.591336e+06  0.000000e+00      0.120000        0.010000   \n",
       "25%    2.096450e+06 -2.658100e+04  1.561190e+05     14.800000        0.010000   \n",
       "50%    3.272747e+06 -1.280000e+02  3.021850e+05     33.240000        0.010000   \n",
       "75%    5.485268e+06  2.738400e+04  6.036660e+05     66.060000        0.020000   \n",
       "max    1.385543e+08  3.451568e+06  5.953006e+07    499.180000        0.200000   \n",
       "\n",
       "        close_price  spread_at_close  position_size  position_size_bp  \\\n",
       "count  18397.000000     18397.000000   1.839700e+04      18397.000000   \n",
       "mean      51.883579         0.012564   1.402954e+04       2564.205034   \n",
       "std       55.689060         0.029913   5.828751e+04       6761.593170   \n",
       "min        0.130000        -0.660000   1.000000e+00          1.000000   \n",
       "25%       14.810000         0.000000   3.970000e+02        320.000000   \n",
       "50%       33.250000         0.010000   1.297000e+03        945.358291   \n",
       "75%       66.090000         0.010000   6.044000e+03       2698.327037   \n",
       "max      499.370000         0.670000   1.363849e+06     294117.647059   \n",
       "\n",
       "       reverse_count  imbBeforeReversePct  imbAfterReversePct   deltaImbPct  \\\n",
       "count   18397.000000         1.839700e+04        1.839700e+04  1.839700e+04   \n",
       "mean        2.675001                  NaN                 NaN           NaN   \n",
       "std         4.297406                  NaN                 NaN           NaN   \n",
       "min         1.000000                 -inf                -inf          -inf   \n",
       "25%         1.000000        -9.714219e-01       -8.504376e-01 -1.811392e+00   \n",
       "50%         1.000000         3.343209e-03       -4.440639e-03 -1.003163e+00   \n",
       "75%         2.000000         9.728777e-01        8.755594e-01  1.814129e+00   \n",
       "max        55.000000                  inf                 inf           inf   \n",
       "\n",
       "         delta_move  delta_move_pct  position_pnl_bp  position_pnl  \n",
       "count  1.839700e+04    1.839700e+04     1.839700e+04  1.839700e+04  \n",
       "mean   4.645605e-03   -3.423325e-02    -1.266928e+01 -9.550557e+01  \n",
       "std    1.641116e-01    3.704323e-01     1.199007e+02  8.179850e+02  \n",
       "min   -2.970000e+00   -1.047368e+01    -3.975535e+03 -3.253792e+04  \n",
       "25%   -3.000000e-02   -1.152738e-01    -3.915000e+01 -5.988000e+01  \n",
       "50%   -8.881784e-16   -1.797932e-14    -7.476249e-12 -8.038104e-11  \n",
       "75%    3.000000e-02    7.545272e-02     2.008000e+01  2.421000e+01  \n",
       "max    4.280000e+00    6.331471e+00     3.165736e+03  2.683076e+04  "
      ]
     },
     "execution_count": 76,
     "metadata": {},
     "output_type": "execute_result"
    }
   ],
   "source": [
    "df.describe()"
   ]
  },
  {
   "cell_type": "markdown",
   "metadata": {},
   "source": [
    "Some zero values in column `volume` even though we have filtered on the query level over `DailyShares` - average volume more than 2 mln shares. Drop these rows."
   ]
  },
  {
   "cell_type": "code",
   "execution_count": 77,
   "metadata": {},
   "outputs": [
    {
     "data": {
      "text/html": [
       "<div>\n",
       "<style scoped>\n",
       "    .dataframe tbody tr th:only-of-type {\n",
       "        vertical-align: middle;\n",
       "    }\n",
       "\n",
       "    .dataframe tbody tr th {\n",
       "        vertical-align: top;\n",
       "    }\n",
       "\n",
       "    .dataframe thead th {\n",
       "        text-align: right;\n",
       "    }\n",
       "</style>\n",
       "<table border=\"1\" class=\"dataframe\">\n",
       "  <thead>\n",
       "    <tr style=\"text-align: right;\">\n",
       "      <th></th>\n",
       "      <th>volume</th>\n",
       "      <th>initial_imb</th>\n",
       "      <th>paired_imb</th>\n",
       "      <th>open_price</th>\n",
       "      <th>spread_at_open</th>\n",
       "      <th>close_price</th>\n",
       "      <th>spread_at_close</th>\n",
       "      <th>position_size</th>\n",
       "      <th>position_size_bp</th>\n",
       "      <th>reverse_count</th>\n",
       "      <th>imbBeforeReversePct</th>\n",
       "      <th>imbAfterReversePct</th>\n",
       "      <th>deltaImbPct</th>\n",
       "      <th>delta_move</th>\n",
       "      <th>delta_move_pct</th>\n",
       "      <th>position_pnl_bp</th>\n",
       "      <th>position_pnl</th>\n",
       "    </tr>\n",
       "  </thead>\n",
       "  <tbody>\n",
       "    <tr>\n",
       "      <th>count</th>\n",
       "      <td>1.837000e+04</td>\n",
       "      <td>1.837000e+04</td>\n",
       "      <td>1.837000e+04</td>\n",
       "      <td>18370.000000</td>\n",
       "      <td>18370.000000</td>\n",
       "      <td>18370.000000</td>\n",
       "      <td>18370.000000</td>\n",
       "      <td>1.837000e+04</td>\n",
       "      <td>18370.000000</td>\n",
       "      <td>18370.000000</td>\n",
       "      <td>18370.000000</td>\n",
       "      <td>18370.000000</td>\n",
       "      <td>18370.000000</td>\n",
       "      <td>1.837000e+04</td>\n",
       "      <td>1.837000e+04</td>\n",
       "      <td>1.837000e+04</td>\n",
       "      <td>1.837000e+04</td>\n",
       "    </tr>\n",
       "    <tr>\n",
       "      <th>mean</th>\n",
       "      <td>4.983847e+06</td>\n",
       "      <td>6.675557e+02</td>\n",
       "      <td>6.559117e+05</td>\n",
       "      <td>51.944277</td>\n",
       "      <td>0.021971</td>\n",
       "      <td>51.944132</td>\n",
       "      <td>0.012550</td>\n",
       "      <td>1.404061e+04</td>\n",
       "      <td>2562.787354</td>\n",
       "      <td>2.677463</td>\n",
       "      <td>-0.122325</td>\n",
       "      <td>0.075230</td>\n",
       "      <td>0.197555</td>\n",
       "      <td>4.703059e-03</td>\n",
       "      <td>-3.365981e-02</td>\n",
       "      <td>-1.256311e+01</td>\n",
       "      <td>-9.539785e+01</td>\n",
       "    </tr>\n",
       "    <tr>\n",
       "      <th>std</th>\n",
       "      <td>6.374651e+06</td>\n",
       "      <td>1.462622e+05</td>\n",
       "      <td>1.635621e+06</td>\n",
       "      <td>55.705631</td>\n",
       "      <td>0.027370</td>\n",
       "      <td>55.704736</td>\n",
       "      <td>0.029904</td>\n",
       "      <td>5.832663e+04</td>\n",
       "      <td>6764.537121</td>\n",
       "      <td>4.300083</td>\n",
       "      <td>7.506272</td>\n",
       "      <td>4.385699</td>\n",
       "      <td>9.849328</td>\n",
       "      <td>1.642079e-01</td>\n",
       "      <td>3.694567e-01</td>\n",
       "      <td>1.198441e+02</td>\n",
       "      <td>8.183874e+02</td>\n",
       "    </tr>\n",
       "    <tr>\n",
       "      <th>min</th>\n",
       "      <td>1.125830e+05</td>\n",
       "      <td>-4.591336e+06</td>\n",
       "      <td>0.000000e+00</td>\n",
       "      <td>0.120000</td>\n",
       "      <td>0.010000</td>\n",
       "      <td>0.130000</td>\n",
       "      <td>-0.660000</td>\n",
       "      <td>1.000000e+00</td>\n",
       "      <td>1.000000</td>\n",
       "      <td>1.000000</td>\n",
       "      <td>-826.165919</td>\n",
       "      <td>-53.923850</td>\n",
       "      <td>-108.393915</td>\n",
       "      <td>-2.970000e+00</td>\n",
       "      <td>-1.047368e+01</td>\n",
       "      <td>-3.975535e+03</td>\n",
       "      <td>-3.253792e+04</td>\n",
       "    </tr>\n",
       "    <tr>\n",
       "      <th>25%</th>\n",
       "      <td>2.100965e+06</td>\n",
       "      <td>-2.664725e+04</td>\n",
       "      <td>1.565902e+05</td>\n",
       "      <td>14.872500</td>\n",
       "      <td>0.010000</td>\n",
       "      <td>14.852500</td>\n",
       "      <td>0.000000</td>\n",
       "      <td>3.962500e+02</td>\n",
       "      <td>320.000000</td>\n",
       "      <td>1.000000</td>\n",
       "      <td>-0.969371</td>\n",
       "      <td>-0.850375</td>\n",
       "      <td>-1.811268</td>\n",
       "      <td>-3.000000e-02</td>\n",
       "      <td>-1.148907e-01</td>\n",
       "      <td>-3.909826e+01</td>\n",
       "      <td>-5.980000e+01</td>\n",
       "    </tr>\n",
       "    <tr>\n",
       "      <th>50%</th>\n",
       "      <td>3.278201e+06</td>\n",
       "      <td>-1.380000e+02</td>\n",
       "      <td>3.027420e+05</td>\n",
       "      <td>33.290000</td>\n",
       "      <td>0.010000</td>\n",
       "      <td>33.300000</td>\n",
       "      <td>0.010000</td>\n",
       "      <td>1.296000e+03</td>\n",
       "      <td>945.089792</td>\n",
       "      <td>1.000000</td>\n",
       "      <td>0.003916</td>\n",
       "      <td>-0.004940</td>\n",
       "      <td>-1.003525</td>\n",
       "      <td>-2.220446e-16</td>\n",
       "      <td>-1.156036e-14</td>\n",
       "      <td>-3.415490e-12</td>\n",
       "      <td>-3.415490e-12</td>\n",
       "    </tr>\n",
       "    <tr>\n",
       "      <th>75%</th>\n",
       "      <td>5.488139e+06</td>\n",
       "      <td>2.739800e+04</td>\n",
       "      <td>6.041848e+05</td>\n",
       "      <td>66.202500</td>\n",
       "      <td>0.020000</td>\n",
       "      <td>66.195000</td>\n",
       "      <td>0.010000</td>\n",
       "      <td>6.047000e+03</td>\n",
       "      <td>2696.871629</td>\n",
       "      <td>2.000000</td>\n",
       "      <td>0.972438</td>\n",
       "      <td>0.872571</td>\n",
       "      <td>1.812005</td>\n",
       "      <td>3.000000e-02</td>\n",
       "      <td>7.548238e-02</td>\n",
       "      <td>2.017228e+01</td>\n",
       "      <td>2.435000e+01</td>\n",
       "    </tr>\n",
       "    <tr>\n",
       "      <th>max</th>\n",
       "      <td>1.385543e+08</td>\n",
       "      <td>3.451568e+06</td>\n",
       "      <td>5.953006e+07</td>\n",
       "      <td>499.180000</td>\n",
       "      <td>0.200000</td>\n",
       "      <td>499.370000</td>\n",
       "      <td>0.670000</td>\n",
       "      <td>1.363849e+06</td>\n",
       "      <td>294117.647059</td>\n",
       "      <td>55.000000</td>\n",
       "      <td>81.669285</td>\n",
       "      <td>381.543117</td>\n",
       "      <td>827.447462</td>\n",
       "      <td>4.280000e+00</td>\n",
       "      <td>6.331471e+00</td>\n",
       "      <td>3.165736e+03</td>\n",
       "      <td>2.683076e+04</td>\n",
       "    </tr>\n",
       "  </tbody>\n",
       "</table>\n",
       "</div>"
      ],
      "text/plain": [
       "             volume   initial_imb    paired_imb    open_price  spread_at_open  \\\n",
       "count  1.837000e+04  1.837000e+04  1.837000e+04  18370.000000    18370.000000   \n",
       "mean   4.983847e+06  6.675557e+02  6.559117e+05     51.944277        0.021971   \n",
       "std    6.374651e+06  1.462622e+05  1.635621e+06     55.705631        0.027370   \n",
       "min    1.125830e+05 -4.591336e+06  0.000000e+00      0.120000        0.010000   \n",
       "25%    2.100965e+06 -2.664725e+04  1.565902e+05     14.872500        0.010000   \n",
       "50%    3.278201e+06 -1.380000e+02  3.027420e+05     33.290000        0.010000   \n",
       "75%    5.488139e+06  2.739800e+04  6.041848e+05     66.202500        0.020000   \n",
       "max    1.385543e+08  3.451568e+06  5.953006e+07    499.180000        0.200000   \n",
       "\n",
       "        close_price  spread_at_close  position_size  position_size_bp  \\\n",
       "count  18370.000000     18370.000000   1.837000e+04      18370.000000   \n",
       "mean      51.944132         0.012550   1.404061e+04       2562.787354   \n",
       "std       55.704736         0.029904   5.832663e+04       6764.537121   \n",
       "min        0.130000        -0.660000   1.000000e+00          1.000000   \n",
       "25%       14.852500         0.000000   3.962500e+02        320.000000   \n",
       "50%       33.300000         0.010000   1.296000e+03        945.089792   \n",
       "75%       66.195000         0.010000   6.047000e+03       2696.871629   \n",
       "max      499.370000         0.670000   1.363849e+06     294117.647059   \n",
       "\n",
       "       reverse_count  imbBeforeReversePct  imbAfterReversePct   deltaImbPct  \\\n",
       "count   18370.000000         18370.000000        18370.000000  18370.000000   \n",
       "mean        2.677463            -0.122325            0.075230      0.197555   \n",
       "std         4.300083             7.506272            4.385699      9.849328   \n",
       "min         1.000000          -826.165919          -53.923850   -108.393915   \n",
       "25%         1.000000            -0.969371           -0.850375     -1.811268   \n",
       "50%         1.000000             0.003916           -0.004940     -1.003525   \n",
       "75%         2.000000             0.972438            0.872571      1.812005   \n",
       "max        55.000000            81.669285          381.543117    827.447462   \n",
       "\n",
       "         delta_move  delta_move_pct  position_pnl_bp  position_pnl  \n",
       "count  1.837000e+04    1.837000e+04     1.837000e+04  1.837000e+04  \n",
       "mean   4.703059e-03   -3.365981e-02    -1.256311e+01 -9.539785e+01  \n",
       "std    1.642079e-01    3.694567e-01     1.198441e+02  8.183874e+02  \n",
       "min   -2.970000e+00   -1.047368e+01    -3.975535e+03 -3.253792e+04  \n",
       "25%   -3.000000e-02   -1.148907e-01    -3.909826e+01 -5.980000e+01  \n",
       "50%   -2.220446e-16   -1.156036e-14    -3.415490e-12 -3.415490e-12  \n",
       "75%    3.000000e-02    7.548238e-02     2.017228e+01  2.435000e+01  \n",
       "max    4.280000e+00    6.331471e+00     3.165736e+03  2.683076e+04  "
      ]
     },
     "execution_count": 77,
     "metadata": {},
     "output_type": "execute_result"
    }
   ],
   "source": [
    "df = df[df['volume']>0]\n",
    "df.describe()"
   ]
  },
  {
   "cell_type": "code",
   "execution_count": 78,
   "metadata": {},
   "outputs": [
    {
     "data": {
      "text/plain": [
       "array([[<AxesSubplot:title={'center':'volume'}>,\n",
       "        <AxesSubplot:title={'center':'deltaImbPct'}>,\n",
       "        <AxesSubplot:title={'center':'spread_at_open'}>],\n",
       "       [<AxesSubplot:title={'center':'position_size_bp'}>,\n",
       "        <AxesSubplot:title={'center':'delta_move'}>,\n",
       "        <AxesSubplot:title={'center':'position_pnl_bp'}>]], dtype=object)"
      ]
     },
     "execution_count": 78,
     "metadata": {},
     "output_type": "execute_result"
    },
    {
     "data": {
      "image/png": "[encoded data removed]",
      "text/plain": [
       "<Figure size 720x432 with 6 Axes>"
      ]
     },
     "metadata": {
      "needs_background": "light"
     },
     "output_type": "display_data"
    }
   ],
   "source": [
    "df.hist(column=['volume', 'deltaImbPct', 'spread_at_open', 'position_size_bp', 'delta_move', 'position_pnl_bp'], layout=(2,3), figsize=(10,6))"
   ]
  },
  {
   "cell_type": "markdown",
   "metadata": {},
   "source": [
    "Now min `volume` is more than 100k. It is still far below our threshold at 2 mln. But let's leave it as it is until we can prove some reliable relationship between pnl and volume. \n",
    "\n",
    "At least there is `spread_at_open` column which is complementary and far more important and it distributes as expected with max spread at 20 cents. Let's check other important columns. \n",
    "\n",
    "The cheapest stock `open_price` was at 12 cents and the most expensive at 499 dollars. \n",
    "\n",
    "`deltaImbPct` has some tails but 25 and 75 percentiles are okay.\n",
    "\n",
    "`deltaMove` which is a proxy of our pnl looks good, from -2.97 to 4.28 dollars. \n",
    "\n",
    "`position_size_bp` and `position_size` are subjects for deeper investigation. Max values are equal to 1.3 mln and 300k shares respectively seems a \"little bit\" risky and may skew our `position_pnl_bp` and `position_pnl` significantly. Before we dive deeper into this analysis, it is worth mentioning how I calculate these columns:\n",
    "`position_size` is simply Bid/Aks size depending on direction of a position.\n",
    "`position_size_bp` is *min* value among two: `position_size` or bp (buying power, default 50k) divided by `open_price`. In this case price is proxy for volatility. The assumption is the more expensive stock the higher is volatility. It is true for most cases. But even with this limitation, it seems like we get some outliers that may skew the results as we can see that *mean* `delta_move` is positive and `pnl`s are highly negative. Meaning that **sizing is highly important!**"
   ]
  },
  {
   "cell_type": "code",
   "execution_count": 79,
   "metadata": {},
   "outputs": [],
   "source": [
    "# Add absolute columns  \n",
    "df[['abs_deltaImbPct', 'abs_imbBeforeReversePct', 'abs_imbAfterReversePct', 'abs_position_pnl_bp', 'abs_delta_move']] = df[['deltaImbPct', 'imbBeforeReversePct', 'imbAfterReversePct', 'position_pnl_bp', 'delta_move']].apply(lambda column: abs(column), axis=0)"
   ]
  },
  {
   "cell_type": "markdown",
   "metadata": {},
   "source": [
    "## Price and size analysis"
   ]
  },
  {
   "cell_type": "markdown",
   "metadata": {},
   "source": [
    "Let's check relation between `position_size_bp` and `position_pnl_bp`. What I expect to see is obviously with the rise of size there is the rise of absolute pnl"
   ]
  },
  {
   "cell_type": "code",
   "execution_count": 80,
   "metadata": {},
   "outputs": [
    {
     "name": "stdout",
     "output_type": "stream",
     "text": [
      "r_sqr value: 0.3394726086104327\n",
      "r_sqr value: 0.24064710430451763\n"
     ]
    },
    {
     "data": {
      "image/png": "[encoded data removed]",
      "text/plain": [
       "<Figure size 360x576 with 2 Axes>"
      ]
     },
     "metadata": {
      "needs_background": "light"
     },
     "output_type": "display_data"
    }
   ],
   "source": [
    "fig, (ax1, ax2) = plt.subplots(2, 1, sharex=True, figsize=(5,8))\n",
    "plot_scatter(df, ax1, 'position_size_bp', 'abs_position_pnl_bp')\n",
    "plot_scatter(df, ax2, 'position_size_bp', 'position_pnl_bp')"
   ]
  },
  {
   "cell_type": "markdown",
   "metadata": {},
   "source": [
    "Wow! From the first scatter plot we realize that there is a relationship between size and pnl. But what is more interesting is that we get a bunch of losses where the `position_size_bp` is more than 50k. This may be due to such *phenomenon as we trade cheap stocks around let's say 1 dollar price and we lose 1 or a few cents which lead to huge losses.* "
   ]
  },
  {
   "cell_type": "markdown",
   "metadata": {},
   "source": [
    "What I will do next is to confirm the hypothesis above. I want to find out if cheaper price leads to more negative pnl and vice versa. In other words, I want to see more clearly how the average pnl changes with the size. For that, I will use binning - define the arbitrary number of quantiles and let pandas figure out how to divide up the data. "
   ]
  },
  {
   "cell_type": "code",
   "execution_count": 81,
   "metadata": {},
   "outputs": [
    {
     "data": {
      "text/html": [
       "<div>\n",
       "<style scoped>\n",
       "    .dataframe tbody tr th:only-of-type {\n",
       "        vertical-align: middle;\n",
       "    }\n",
       "\n",
       "    .dataframe tbody tr th {\n",
       "        vertical-align: top;\n",
       "    }\n",
       "\n",
       "    .dataframe thead th {\n",
       "        text-align: right;\n",
       "    }\n",
       "</style>\n",
       "<table border=\"1\" class=\"dataframe\">\n",
       "  <thead>\n",
       "    <tr style=\"text-align: right;\">\n",
       "      <th></th>\n",
       "      <th>count</th>\n",
       "      <th>avg_pnl</th>\n",
       "      <th>sum_pnl</th>\n",
       "      <th>min_size</th>\n",
       "      <th>max_size</th>\n",
       "      <th>quantile10_size</th>\n",
       "      <th>quantile90_size</th>\n",
       "      <th>avg_size</th>\n",
       "      <th>min_price</th>\n",
       "      <th>max_price</th>\n",
       "      <th>quantile10_price</th>\n",
       "      <th>quantile90_price</th>\n",
       "      <th>avg_price</th>\n",
       "    </tr>\n",
       "    <tr>\n",
       "      <th>size_group</th>\n",
       "      <th></th>\n",
       "      <th></th>\n",
       "      <th></th>\n",
       "      <th></th>\n",
       "      <th></th>\n",
       "      <th></th>\n",
       "      <th></th>\n",
       "      <th></th>\n",
       "      <th></th>\n",
       "      <th></th>\n",
       "      <th></th>\n",
       "      <th></th>\n",
       "      <th></th>\n",
       "    </tr>\n",
       "  </thead>\n",
       "  <tbody>\n",
       "    <tr>\n",
       "      <th>1</th>\n",
       "      <td>1844</td>\n",
       "      <td>2.879141</td>\n",
       "      <td>5309.136410</td>\n",
       "      <td>1.000000</td>\n",
       "      <td>150.000000</td>\n",
       "      <td>32.300000</td>\n",
       "      <td>121.000000</td>\n",
       "      <td>93.185984</td>\n",
       "      <td>0.46</td>\n",
       "      <td>499.18</td>\n",
       "      <td>33.643</td>\n",
       "      <td>214.918</td>\n",
       "      <td>112.445011</td>\n",
       "    </tr>\n",
       "    <tr>\n",
       "      <th>2</th>\n",
       "      <td>1830</td>\n",
       "      <td>5.178988</td>\n",
       "      <td>9477.547191</td>\n",
       "      <td>151.000000</td>\n",
       "      <td>272.672738</td>\n",
       "      <td>181.084426</td>\n",
       "      <td>248.000000</td>\n",
       "      <td>207.473590</td>\n",
       "      <td>0.25</td>\n",
       "      <td>327.02</td>\n",
       "      <td>33.769</td>\n",
       "      <td>227.439</td>\n",
       "      <td>117.907710</td>\n",
       "    </tr>\n",
       "    <tr>\n",
       "      <th>3</th>\n",
       "      <td>1837</td>\n",
       "      <td>2.312780</td>\n",
       "      <td>4248.577749</td>\n",
       "      <td>273.000000</td>\n",
       "      <td>401.574171</td>\n",
       "      <td>299.976005</td>\n",
       "      <td>400.000000</td>\n",
       "      <td>336.185767</td>\n",
       "      <td>0.17</td>\n",
       "      <td>183.12</td>\n",
       "      <td>26.244</td>\n",
       "      <td>155.008</td>\n",
       "      <td>83.104110</td>\n",
       "    </tr>\n",
       "    <tr>\n",
       "      <th>4</th>\n",
       "      <td>1838</td>\n",
       "      <td>1.822222</td>\n",
       "      <td>3349.244055</td>\n",
       "      <td>401.670951</td>\n",
       "      <td>629.000000</td>\n",
       "      <td>422.000000</td>\n",
       "      <td>601.000000</td>\n",
       "      <td>517.547554</td>\n",
       "      <td>0.17</td>\n",
       "      <td>124.48</td>\n",
       "      <td>21.600</td>\n",
       "      <td>104.012</td>\n",
       "      <td>63.874075</td>\n",
       "    </tr>\n",
       "    <tr>\n",
       "      <th>5</th>\n",
       "      <td>1836</td>\n",
       "      <td>1.940448</td>\n",
       "      <td>3562.663319</td>\n",
       "      <td>629.009938</td>\n",
       "      <td>945.000000</td>\n",
       "      <td>660.033003</td>\n",
       "      <td>903.000000</td>\n",
       "      <td>782.338792</td>\n",
       "      <td>0.28</td>\n",
       "      <td>79.49</td>\n",
       "      <td>19.835</td>\n",
       "      <td>71.615</td>\n",
       "      <td>47.987206</td>\n",
       "    </tr>\n",
       "    <tr>\n",
       "      <th>6</th>\n",
       "      <td>1862</td>\n",
       "      <td>-0.123536</td>\n",
       "      <td>-230.023383</td>\n",
       "      <td>945.179584</td>\n",
       "      <td>1400.000000</td>\n",
       "      <td>991.099926</td>\n",
       "      <td>1360.900000</td>\n",
       "      <td>1177.281409</td>\n",
       "      <td>0.49</td>\n",
       "      <td>52.90</td>\n",
       "      <td>18.054</td>\n",
       "      <td>48.689</td>\n",
       "      <td>35.393695</td>\n",
       "    </tr>\n",
       "    <tr>\n",
       "      <th>7</th>\n",
       "      <td>1812</td>\n",
       "      <td>-4.411484</td>\n",
       "      <td>-7993.609539</td>\n",
       "      <td>1400.168020</td>\n",
       "      <td>2146.844139</td>\n",
       "      <td>1454.333915</td>\n",
       "      <td>2062.621211</td>\n",
       "      <td>1743.019347</td>\n",
       "      <td>0.29</td>\n",
       "      <td>35.71</td>\n",
       "      <td>15.042</td>\n",
       "      <td>33.820</td>\n",
       "      <td>25.677848</td>\n",
       "    </tr>\n",
       "    <tr>\n",
       "      <th>8</th>\n",
       "      <td>1839</td>\n",
       "      <td>-10.306731</td>\n",
       "      <td>-18954.078301</td>\n",
       "      <td>2148.000000</td>\n",
       "      <td>3410.641201</td>\n",
       "      <td>2247.191011</td>\n",
       "      <td>3234.152652</td>\n",
       "      <td>2718.238409</td>\n",
       "      <td>0.34</td>\n",
       "      <td>23.27</td>\n",
       "      <td>11.544</td>\n",
       "      <td>21.892</td>\n",
       "      <td>17.195421</td>\n",
       "    </tr>\n",
       "    <tr>\n",
       "      <th>9</th>\n",
       "      <td>1835</td>\n",
       "      <td>-24.350129</td>\n",
       "      <td>-44682.486776</td>\n",
       "      <td>3412.969283</td>\n",
       "      <td>5700.000000</td>\n",
       "      <td>3584.229391</td>\n",
       "      <td>5319.148936</td>\n",
       "      <td>4436.097538</td>\n",
       "      <td>0.41</td>\n",
       "      <td>14.65</td>\n",
       "      <td>8.504</td>\n",
       "      <td>13.770</td>\n",
       "      <td>10.806796</td>\n",
       "    </tr>\n",
       "    <tr>\n",
       "      <th>10</th>\n",
       "      <td>1837</td>\n",
       "      <td>-100.637623</td>\n",
       "      <td>-184871.314130</td>\n",
       "      <td>5701.254276</td>\n",
       "      <td>294117.647059</td>\n",
       "      <td>6203.473945</td>\n",
       "      <td>22563.287269</td>\n",
       "      <td>13626.654291</td>\n",
       "      <td>0.12</td>\n",
       "      <td>8.77</td>\n",
       "      <td>1.960</td>\n",
       "      <td>7.930</td>\n",
       "      <td>4.923881</td>\n",
       "    </tr>\n",
       "  </tbody>\n",
       "</table>\n",
       "</div>"
      ],
      "text/plain": [
       "            count     avg_pnl        sum_pnl     min_size       max_size  \\\n",
       "size_group                                                                 \n",
       "1            1844    2.879141    5309.136410     1.000000     150.000000   \n",
       "2            1830    5.178988    9477.547191   151.000000     272.672738   \n",
       "3            1837    2.312780    4248.577749   273.000000     401.574171   \n",
       "4            1838    1.822222    3349.244055   401.670951     629.000000   \n",
       "5            1836    1.940448    3562.663319   629.009938     945.000000   \n",
       "6            1862   -0.123536    -230.023383   945.179584    1400.000000   \n",
       "7            1812   -4.411484   -7993.609539  1400.168020    2146.844139   \n",
       "8            1839  -10.306731  -18954.078301  2148.000000    3410.641201   \n",
       "9            1835  -24.350129  -44682.486776  3412.969283    5700.000000   \n",
       "10           1837 -100.637623 -184871.314130  5701.254276  294117.647059   \n",
       "\n",
       "            quantile10_size  quantile90_size      avg_size  min_price  \\\n",
       "size_group                                                              \n",
       "1                 32.300000       121.000000     93.185984       0.46   \n",
       "2                181.084426       248.000000    207.473590       0.25   \n",
       "3                299.976005       400.000000    336.185767       0.17   \n",
       "4                422.000000       601.000000    517.547554       0.17   \n",
       "5                660.033003       903.000000    782.338792       0.28   \n",
       "6                991.099926      1360.900000   1177.281409       0.49   \n",
       "7               1454.333915      2062.621211   1743.019347       0.29   \n",
       "8               2247.191011      3234.152652   2718.238409       0.34   \n",
       "9               3584.229391      5319.148936   4436.097538       0.41   \n",
       "10              6203.473945     22563.287269  13626.654291       0.12   \n",
       "\n",
       "            max_price  quantile10_price  quantile90_price   avg_price  \n",
       "size_group                                                             \n",
       "1              499.18            33.643           214.918  112.445011  \n",
       "2              327.02            33.769           227.439  117.907710  \n",
       "3              183.12            26.244           155.008   83.104110  \n",
       "4              124.48            21.600           104.012   63.874075  \n",
       "5               79.49            19.835            71.615   47.987206  \n",
       "6               52.90            18.054            48.689   35.393695  \n",
       "7               35.71            15.042            33.820   25.677848  \n",
       "8               23.27            11.544            21.892   17.195421  \n",
       "9               14.65             8.504            13.770   10.806796  \n",
       "10               8.77             1.960             7.930    4.923881  "
      ]
     },
     "execution_count": 81,
     "metadata": {},
     "output_type": "execute_result"
    }
   ],
   "source": [
    "# Pnl and size bins\n",
    "size_groups = 10\n",
    "df['size_group'] = pd.qcut(df['position_size_bp'], size_groups, labels=list(range(1, size_groups+1)))\n",
    "df_size_group = pd.DataFrame()\n",
    "df_size_group['count'] = df.groupby('size_group')['position_pnl_bp'].count()\n",
    "df_size_group['avg_pnl'] = df.groupby('size_group')['position_pnl_bp'].mean()\n",
    "df_size_group['sum_pnl'] = df.groupby('size_group')['position_pnl_bp'].sum()\n",
    "df_size_group['min_size'] = df.groupby('size_group')['position_size_bp'].min()\n",
    "df_size_group['max_size'] = df.groupby('size_group')['position_size_bp'].max()\n",
    "df_size_group['quantile10_size'] = df.groupby('size_group')['position_size_bp'].quantile(0.1)\n",
    "df_size_group['quantile90_size'] = df.groupby('size_group')['position_size_bp'].quantile(0.9)\n",
    "df_size_group['avg_size'] = df.groupby('size_group')['position_size_bp'].mean()\n",
    "df_size_group['min_price'] = df.groupby('size_group')['open_price'].min()\n",
    "df_size_group['max_price'] = df.groupby('size_group')['open_price'].max()\n",
    "df_size_group['quantile10_price'] = df.groupby('size_group')['open_price'].quantile(0.1)\n",
    "df_size_group['quantile90_price'] = df.groupby('size_group')['open_price'].quantile(0.9)\n",
    "df_size_group['avg_price'] = df.groupby('size_group')['open_price'].mean()\n",
    "df_size_group"
   ]
  },
  {
   "cell_type": "code",
   "execution_count": 82,
   "metadata": {},
   "outputs": [
    {
     "data": {
      "text/plain": [
       "<matplotlib.collections.LineCollection at 0x132941910>"
      ]
     },
     "execution_count": 82,
     "metadata": {},
     "output_type": "execute_result"
    },
    {
     "data": {
      "image/png": "[encoded data removed]",
      "text/plain": [
       "<Figure size 360x288 with 1 Axes>"
      ]
     },
     "metadata": {
      "needs_background": "light"
     },
     "output_type": "display_data"
    }
   ],
   "source": [
    "# Plot\n",
    "fig, (ax1) = plt.subplots(1, 1, figsize=(5,4))\n",
    "df_size_group['avg_pnl'].plot.bar(ax=ax1)\n",
    "ax1.hlines(0, 0, 10, linestyles='dashed', alpha=0.3)"
   ]
  },
  {
   "cell_type": "markdown",
   "metadata": {},
   "source": [
    "There is an equal number of observations/positions in each bin. And that the higher size in cheaper stocks leads to highly negative results. So, let's define our threshold. The first 5 groups are positive on pnl. I will take 90% percentile of size as my upper threshold for volume and 10% percentile of price as my bottom threshold for price.\n",
    "If we round these numbers we will get: **max_volume = 900** shares and **min_price = 20 dollars**."
   ]
  },
  {
   "cell_type": "code",
   "execution_count": 83,
   "metadata": {},
   "outputs": [],
   "source": [
    "# Filter\n",
    "max_volume = 900 \n",
    "min_price = 20 \n",
    "df_filter_vp = df[(df['position_size_bp'] <= max_volume) & (df['open_price'] >= min_price)].copy()"
   ]
  },
  {
   "cell_type": "code",
   "execution_count": 84,
   "metadata": {},
   "outputs": [
    {
     "data": {
      "text/plain": [
       "<AxesSubplot:>"
      ]
     },
     "execution_count": 84,
     "metadata": {},
     "output_type": "execute_result"
    },
    {
     "data": {
      "image/png": "[encoded data removed]",
      "text/plain": [
       "<Figure size 432x216 with 1 Axes>"
      ]
     },
     "metadata": {
      "needs_background": "light"
     },
     "output_type": "display_data"
    }
   ],
   "source": [
    "# Plot\n",
    "fig, ax = plt.subplots(1,1)\n",
    "df_filter_vp['position_pnl_bp'].cumsum().plot(ax=ax)"
   ]
  },
  {
   "cell_type": "code",
   "execution_count": 86,
   "metadata": {},
   "outputs": [
    {
     "name": "stdout",
     "output_type": "stream",
     "text": [
      "Sharpe with next filters: max position size 900 shares, min price $20 is \n",
      "0.04708252847368983\n"
     ]
    }
   ],
   "source": [
    "sharpe_vp = df_filter_vp['position_pnl_bp'].mean()/df_filter_vp['position_pnl_bp'].std()\n",
    "print('Sharpe with next filters: max position size {} shares, min price ${} is \\n{}'.format(max_volume, min_price, sharpe_vp))"
   ]
  },
  {
   "cell_type": "markdown",
   "metadata": {},
   "source": [
    "## Imbalance delta analysis"
   ]
  },
  {
   "cell_type": "markdown",
   "metadata": {},
   "source": [
    "Let's apply same analysis to see if `abs_deltaImbPct`"
   ]
  },
  {
   "cell_type": "code",
   "execution_count": 87,
   "metadata": {},
   "outputs": [
    {
     "data": {
      "text/html": [
       "<div>\n",
       "<style scoped>\n",
       "    .dataframe tbody tr th:only-of-type {\n",
       "        vertical-align: middle;\n",
       "    }\n",
       "\n",
       "    .dataframe tbody tr th {\n",
       "        vertical-align: top;\n",
       "    }\n",
       "\n",
       "    .dataframe thead th {\n",
       "        text-align: right;\n",
       "    }\n",
       "</style>\n",
       "<table border=\"1\" class=\"dataframe\">\n",
       "  <thead>\n",
       "    <tr style=\"text-align: right;\">\n",
       "      <th></th>\n",
       "      <th>count</th>\n",
       "      <th>avg_pnl</th>\n",
       "      <th>sum_pnl</th>\n",
       "      <th>min_size</th>\n",
       "      <th>max_size</th>\n",
       "      <th>quantile10_size</th>\n",
       "      <th>quantile90_size</th>\n",
       "    </tr>\n",
       "    <tr>\n",
       "      <th>imb_group</th>\n",
       "      <th></th>\n",
       "      <th></th>\n",
       "      <th></th>\n",
       "      <th></th>\n",
       "      <th></th>\n",
       "      <th></th>\n",
       "      <th></th>\n",
       "    </tr>\n",
       "  </thead>\n",
       "  <tbody>\n",
       "    <tr>\n",
       "      <th>1</th>\n",
       "      <td>1021</td>\n",
       "      <td>-3.245416</td>\n",
       "      <td>-3313.569979</td>\n",
       "      <td>1.000117</td>\n",
       "      <td>1.119787</td>\n",
       "      <td>1.011212</td>\n",
       "      <td>1.106505</td>\n",
       "    </tr>\n",
       "    <tr>\n",
       "      <th>2</th>\n",
       "      <td>1056</td>\n",
       "      <td>-1.157116</td>\n",
       "      <td>-1221.914193</td>\n",
       "      <td>1.120054</td>\n",
       "      <td>1.283195</td>\n",
       "      <td>1.132189</td>\n",
       "      <td>1.263865</td>\n",
       "    </tr>\n",
       "    <tr>\n",
       "      <th>3</th>\n",
       "      <td>1068</td>\n",
       "      <td>2.384674</td>\n",
       "      <td>2546.831572</td>\n",
       "      <td>1.283991</td>\n",
       "      <td>1.502186</td>\n",
       "      <td>1.305342</td>\n",
       "      <td>1.477096</td>\n",
       "    </tr>\n",
       "    <tr>\n",
       "      <th>4</th>\n",
       "      <td>1081</td>\n",
       "      <td>-0.118828</td>\n",
       "      <td>-128.453099</td>\n",
       "      <td>1.503855</td>\n",
       "      <td>1.811666</td>\n",
       "      <td>1.528658</td>\n",
       "      <td>1.774887</td>\n",
       "    </tr>\n",
       "    <tr>\n",
       "      <th>5</th>\n",
       "      <td>1026</td>\n",
       "      <td>1.650784</td>\n",
       "      <td>1693.704648</td>\n",
       "      <td>1.811977</td>\n",
       "      <td>2.282558</td>\n",
       "      <td>1.842466</td>\n",
       "      <td>2.232356</td>\n",
       "    </tr>\n",
       "    <tr>\n",
       "      <th>6</th>\n",
       "      <td>1080</td>\n",
       "      <td>2.199509</td>\n",
       "      <td>2375.469661</td>\n",
       "      <td>2.283403</td>\n",
       "      <td>3.062763</td>\n",
       "      <td>2.343639</td>\n",
       "      <td>2.946430</td>\n",
       "    </tr>\n",
       "    <tr>\n",
       "      <th>7</th>\n",
       "      <td>1056</td>\n",
       "      <td>9.390150</td>\n",
       "      <td>9915.998396</td>\n",
       "      <td>3.063999</td>\n",
       "      <td>4.912963</td>\n",
       "      <td>3.174607</td>\n",
       "      <td>4.642808</td>\n",
       "    </tr>\n",
       "    <tr>\n",
       "      <th>8</th>\n",
       "      <td>1015</td>\n",
       "      <td>15.601299</td>\n",
       "      <td>15835.318885</td>\n",
       "      <td>4.914437</td>\n",
       "      <td>155.659856</td>\n",
       "      <td>5.281031</td>\n",
       "      <td>17.660246</td>\n",
       "    </tr>\n",
       "  </tbody>\n",
       "</table>\n",
       "</div>"
      ],
      "text/plain": [
       "           count    avg_pnl       sum_pnl  min_size    max_size  \\\n",
       "imb_group                                                         \n",
       "1           1021  -3.245416  -3313.569979  1.000117    1.119787   \n",
       "2           1056  -1.157116  -1221.914193  1.120054    1.283195   \n",
       "3           1068   2.384674   2546.831572  1.283991    1.502186   \n",
       "4           1081  -0.118828   -128.453099  1.503855    1.811666   \n",
       "5           1026   1.650784   1693.704648  1.811977    2.282558   \n",
       "6           1080   2.199509   2375.469661  2.283403    3.062763   \n",
       "7           1056   9.390150   9915.998396  3.063999    4.912963   \n",
       "8           1015  15.601299  15835.318885  4.914437  155.659856   \n",
       "\n",
       "           quantile10_size  quantile90_size  \n",
       "imb_group                                    \n",
       "1                 1.011212         1.106505  \n",
       "2                 1.132189         1.263865  \n",
       "3                 1.305342         1.477096  \n",
       "4                 1.528658         1.774887  \n",
       "5                 1.842466         2.232356  \n",
       "6                 2.343639         2.946430  \n",
       "7                 3.174607         4.642808  \n",
       "8                 5.281031        17.660246  "
      ]
     },
     "execution_count": 87,
     "metadata": {},
     "output_type": "execute_result"
    }
   ],
   "source": [
    "# Pnl and size bins\n",
    "imb_groups = 8\n",
    "df_filter_vp['imb_group'] = pd.qcut(df['abs_deltaImbPct'], imb_groups, labels=list(range(1, imb_groups+1)))\n",
    "df_imb_group = pd.DataFrame()\n",
    "df_imb_group['count'] = df_filter_vp.groupby('imb_group')['position_pnl_bp'].count()\n",
    "df_imb_group['avg_pnl'] = df_filter_vp.groupby('imb_group')['position_pnl_bp'].mean()\n",
    "df_imb_group['sum_pnl'] = df_filter_vp.groupby('imb_group')['position_pnl_bp'].sum()\n",
    "df_imb_group['min_size'] = df_filter_vp.groupby('imb_group')['abs_deltaImbPct'].min()\n",
    "df_imb_group['max_size'] = df_filter_vp.groupby('imb_group')['abs_deltaImbPct'].max()\n",
    "df_imb_group['quantile10_size'] = df_filter_vp.groupby('imb_group')['abs_deltaImbPct'].quantile(0.1)\n",
    "df_imb_group['quantile90_size'] = df_filter_vp.groupby('imb_group')['abs_deltaImbPct'].quantile(0.9)\n",
    "\n",
    "df_imb_group"
   ]
  },
  {
   "cell_type": "code",
   "execution_count": 88,
   "metadata": {},
   "outputs": [
    {
     "data": {
      "text/plain": [
       "<matplotlib.collections.LineCollection at 0x1329952b0>"
      ]
     },
     "execution_count": 88,
     "metadata": {},
     "output_type": "execute_result"
    },
    {
     "data": {
      "image/png": "[encoded data removed]",
      "text/plain": [
       "<Figure size 360x288 with 1 Axes>"
      ]
     },
     "metadata": {
      "needs_background": "light"
     },
     "output_type": "display_data"
    }
   ],
   "source": [
    "# Plot\n",
    "fig, (ax1) = plt.subplots(1, 1, figsize=(5,4))\n",
    "df_imb_group['avg_pnl'].plot.bar(ax=ax1)\n",
    "ax1.hlines(0, 0, 8, linestyles='dashed', alpha=0.3)"
   ]
  },
  {
   "cell_type": "markdown",
   "metadata": {},
   "source": [
    "Awesome! Another clear confirmation of our hypothesis. With more significant reversal we get better and better pnl. From group 5 the pnl becomes consistently positive. From group 7 it becomes much better. So, we can take both into consideration. The last one can be more conservative one. Let's define our thresholds for `abs_deltaImbPct`: **min_deltaImbPct = 1.8** and **min_deltaImbPct_conservative = 3**"
   ]
  },
  {
   "cell_type": "code",
   "execution_count": 89,
   "metadata": {},
   "outputs": [],
   "source": [
    "# Filter\n",
    "min_deltaImbPct = 1.8\n",
    "min_deltaImbPct_conservative = 3\n",
    "df_filter_vpi = df_filter_vp[df_filter_vp['abs_deltaImbPct'] > min_deltaImbPct].copy()\n",
    "df_filter_vpi_conservative = df_filter_vp[df_filter_vp['abs_deltaImbPct'] > min_deltaImbPct_conservative].copy()"
   ]
  },
  {
   "cell_type": "code",
   "execution_count": 90,
   "metadata": {},
   "outputs": [
    {
     "data": {
      "text/plain": [
       "<AxesSubplot:>"
      ]
     },
     "execution_count": 90,
     "metadata": {},
     "output_type": "execute_result"
    },
    {
     "data": {
      "image/png": "[encoded data removed]",
      "text/plain": [
       "<Figure size 720x288 with 2 Axes>"
      ]
     },
     "metadata": {
      "needs_background": "light"
     },
     "output_type": "display_data"
    }
   ],
   "source": [
    "# Plot\n",
    "fig, (ax1, ax2) = plt.subplots(1,2, figsize=(10,4))\n",
    "df_filter_vpi['position_pnl_bp'].cumsum().plot(ax=ax1)\n",
    "df_filter_vpi_conservative['position_pnl_bp'].cumsum().plot(ax=ax2)"
   ]
  },
  {
   "cell_type": "code",
   "execution_count": 91,
   "metadata": {},
   "outputs": [
    {
     "name": "stdout",
     "output_type": "stream",
     "text": [
      "Sharpe with next filters: max position size 900 shares, min price $20, min delta imbalance pct 1.8% is \n",
      "0.04708252847368983\n",
      "Sharpe with next filters: max position size 900 shares, min price $20, min delta imbalance pct 3% is \n",
      "0.14562435663911028\n"
     ]
    }
   ],
   "source": [
    "sharpe_vpi = df_filter_vpi['position_pnl_bp'].mean()/df_filter_vpi['position_pnl_bp'].std()\n",
    "sharpe_vpi_conservative = df_filter_vpi_conservative['position_pnl_bp'].mean()/df_filter_vpi_conservative['position_pnl_bp'].std()\n",
    "print('Sharpe with next filters: max position size {} shares, min price ${}, min delta imbalance pct {}% is \\n{}'.format(max_volume, min_price, min_deltaImbPct, sharpe_vp))\n",
    "print('Sharpe with next filters: max position size {} shares, min price ${}, min delta imbalance pct {}% is \\n{}'.format(max_volume, min_price, min_deltaImbPct_conservative, sharpe_vpi_conservative))"
   ]
  },
  {
   "cell_type": "markdown",
   "metadata": {},
   "source": [
    "## Close status analysis"
   ]
  },
  {
   "cell_type": "markdown",
   "metadata": {},
   "source": [
    "There are two types of close statuses: moc and market. Moc is used when the position is entered later then 59th minute. As holding period is 1 min it means that there is no enough time to close on market. With moc order we don't pay spread. Consequently, we expect better avg pnl.   "
   ]
  },
  {
   "cell_type": "code",
   "execution_count": 94,
   "metadata": {},
   "outputs": [
    {
     "data": {
      "text/html": [
       "<div>\n",
       "<style scoped>\n",
       "    .dataframe tbody tr th:only-of-type {\n",
       "        vertical-align: middle;\n",
       "    }\n",
       "\n",
       "    .dataframe tbody tr th {\n",
       "        vertical-align: top;\n",
       "    }\n",
       "\n",
       "    .dataframe thead th {\n",
       "        text-align: right;\n",
       "    }\n",
       "</style>\n",
       "<table border=\"1\" class=\"dataframe\">\n",
       "  <thead>\n",
       "    <tr style=\"text-align: right;\">\n",
       "      <th></th>\n",
       "      <th>sum_pnl</th>\n",
       "      <th>avg_pnl</th>\n",
       "      <th>count</th>\n",
       "    </tr>\n",
       "    <tr>\n",
       "      <th>close_status</th>\n",
       "      <th></th>\n",
       "      <th></th>\n",
       "      <th></th>\n",
       "    </tr>\n",
       "  </thead>\n",
       "  <tbody>\n",
       "    <tr>\n",
       "      <th>market</th>\n",
       "      <td>-2250.228893</td>\n",
       "      <td>-0.843414</td>\n",
       "      <td>2668</td>\n",
       "    </tr>\n",
       "    <tr>\n",
       "      <th>moc</th>\n",
       "      <td>32443.483906</td>\n",
       "      <td>21.012619</td>\n",
       "      <td>1544</td>\n",
       "    </tr>\n",
       "  </tbody>\n",
       "</table>\n",
       "</div>"
      ],
      "text/plain": [
       "                   sum_pnl    avg_pnl  count\n",
       "close_status                                \n",
       "market        -2250.228893  -0.843414   2668\n",
       "moc           32443.483906  21.012619   1544"
      ]
     },
     "execution_count": 94,
     "metadata": {},
     "output_type": "execute_result"
    }
   ],
   "source": [
    "df_close_status_group = pd.DataFrame() \n",
    "df_close_status_group['sum_pnl'] = df_filter_vpi.groupby('close_status')['position_pnl_bp'].sum()\n",
    "df_close_status_group['avg_pnl'] = df_filter_vpi.groupby('close_status')['position_pnl_bp'].mean()\n",
    "df_close_status_group['count'] = df_filter_vpi.groupby('close_status')['position_pnl_bp'].count()\n",
    "df_close_status_group"
   ]
  },
  {
   "cell_type": "markdown",
   "metadata": {},
   "source": [
    "As expected, trades after 15:59 are much more profitable. The same moment, trades \"on market\" are negative on average. Also, it is worht mentioning that number of trades with moc status are twice less than on market. It is important point when we take into consideration commissions."
   ]
  },
  {
   "cell_type": "code",
   "execution_count": 67,
   "metadata": {},
   "outputs": [],
   "source": [
    "# Filter\n",
    "close_status = 'moc'\n",
    "df_filter_vpis = df_filter_vpi[df_filter_vpi['close_status']==close_status].copy()\n",
    "df_filter_vpis_conservative = df_filter_vpi_conservative[df_filter_vpi_conservative['close_status']==close_status].copy()"
   ]
  },
  {
   "cell_type": "code",
   "execution_count": 68,
   "metadata": {},
   "outputs": [
    {
     "data": {
      "text/plain": [
       "<AxesSubplot:>"
      ]
     },
     "execution_count": 68,
     "metadata": {},
     "output_type": "execute_result"
    },
    {
     "data": {
      "image/png": "[encoded data removed]",
      "text/plain": [
       "<Figure size 720x288 with 2 Axes>"
      ]
     },
     "metadata": {
      "needs_background": "light"
     },
     "output_type": "display_data"
    }
   ],
   "source": [
    "# Plot\n",
    "fig, (ax1, ax2) = plt.subplots(1, 2, figsize=(10,4))\n",
    "df_filter_vpis['position_pnl_bp'].cumsum().plot(ax=ax1)\n",
    "df_filter_vpis_conservative['position_pnl_bp'].cumsum().plot(ax=ax2)"
   ]
  },
  {
   "cell_type": "code",
   "execution_count": 70,
   "metadata": {},
   "outputs": [
    {
     "name": "stdout",
     "output_type": "stream",
     "text": [
      "Sharpe with next filters: max position size 900 shares, min price $20, min delta imbalance pct 1.8%, close status moc is \n",
      "0.25197150650900413\n",
      "Sharpe with next filters: max position size 900 shares, min price $20, min delta imbalance pct 3%, close status moc is \n",
      "0.28802776256622625\n"
     ]
    }
   ],
   "source": [
    "sharpe_vpis = df_filter_vpis['position_pnl_bp'].mean() / df_filter_vpis['position_pnl_bp'].std()\n",
    "sharpe_vpis_conservative = df_filter_vpis_conservative['position_pnl_bp'].mean() / df_filter_vpis_conservative['position_pnl_bp'].std()\n",
    "print('Sharpe with next filters: max position size {} shares, min price ${}, min delta imbalance pct {}%, close status {} is \\n{}'.format(max_volume, min_price, min_deltaImbPct, close_status, sharpe_vpis))\n",
    "print('Sharpe with next filters: max position size {} shares, min price ${}, min delta imbalance pct {}%, close status {} is \\n{}'.format(max_volume, min_price, min_deltaImbPct_conservative, close_status, sharpe_vpis_conservative))"
   ]
  },
  {
   "cell_type": "markdown",
   "metadata": {},
   "source": [
    "## Seasonality analysis"
   ]
  },
  {
   "cell_type": "markdown",
   "metadata": {},
   "source": [
    "And as a lst part of analysis I want to do seasonality analysis. What I mean is usually on Friday the moc trading is more active due to final trading day of the week and some triple and quadruple witchings. I expect to see higher pnl on average on Fridays.  "
   ]
  },
  {
   "cell_type": "code",
   "execution_count": 58,
   "metadata": {},
   "outputs": [],
   "source": [
    "df_filter_vpis['timeindex'] = pd.to_datetime(df_filter_vpis['date'])\n",
    "df_filter_vpis['day_name'] = df_filter_vpis['timeindex'].map(lambda row: row.strftime(\"%A\"))"
   ]
  },
  {
   "cell_type": "code",
   "execution_count": 59,
   "metadata": {},
   "outputs": [
    {
     "data": {
      "text/html": [
       "<div>\n",
       "<style scoped>\n",
       "    .dataframe tbody tr th:only-of-type {\n",
       "        vertical-align: middle;\n",
       "    }\n",
       "\n",
       "    .dataframe tbody tr th {\n",
       "        vertical-align: top;\n",
       "    }\n",
       "\n",
       "    .dataframe thead th {\n",
       "        text-align: right;\n",
       "    }\n",
       "</style>\n",
       "<table border=\"1\" class=\"dataframe\">\n",
       "  <thead>\n",
       "    <tr style=\"text-align: right;\">\n",
       "      <th></th>\n",
       "      <th>count</th>\n",
       "      <th>avg_pnl</th>\n",
       "      <th>sum_pnl</th>\n",
       "    </tr>\n",
       "    <tr>\n",
       "      <th>day_name</th>\n",
       "      <th></th>\n",
       "      <th></th>\n",
       "      <th></th>\n",
       "    </tr>\n",
       "  </thead>\n",
       "  <tbody>\n",
       "    <tr>\n",
       "      <th>Monday</th>\n",
       "      <td>376</td>\n",
       "      <td>18.413453</td>\n",
       "      <td>6923.458485</td>\n",
       "    </tr>\n",
       "    <tr>\n",
       "      <th>Tuesday</th>\n",
       "      <td>282</td>\n",
       "      <td>30.805905</td>\n",
       "      <td>8687.265305</td>\n",
       "    </tr>\n",
       "    <tr>\n",
       "      <th>Wednesday</th>\n",
       "      <td>244</td>\n",
       "      <td>14.236869</td>\n",
       "      <td>3473.795928</td>\n",
       "    </tr>\n",
       "    <tr>\n",
       "      <th>Thursday</th>\n",
       "      <td>264</td>\n",
       "      <td>13.570369</td>\n",
       "      <td>3582.577352</td>\n",
       "    </tr>\n",
       "    <tr>\n",
       "      <th>Friday</th>\n",
       "      <td>378</td>\n",
       "      <td>25.863457</td>\n",
       "      <td>9776.386838</td>\n",
       "    </tr>\n",
       "  </tbody>\n",
       "</table>\n",
       "</div>"
      ],
      "text/plain": [
       "           count    avg_pnl      sum_pnl\n",
       "day_name                                \n",
       "Monday       376  18.413453  6923.458485\n",
       "Tuesday      282  30.805905  8687.265305\n",
       "Wednesday    244  14.236869  3473.795928\n",
       "Thursday     264  13.570369  3582.577352\n",
       "Friday       378  25.863457  9776.386838"
      ]
     },
     "execution_count": 59,
     "metadata": {},
     "output_type": "execute_result"
    }
   ],
   "source": [
    "df_day_group = pd.DataFrame()\n",
    "day_names = ['Monday', 'Tuesday', 'Wednesday', 'Thursday', 'Friday']\n",
    "df_day_group['count'] = df_filter_vpis.groupby('day_name')['position_pnl_bp'].count().reindex(day_names)\n",
    "df_day_group['avg_pnl'] = df_filter_vpis.groupby('day_name')['position_pnl_bp'].mean().reindex(day_names)\n",
    "df_day_group['sum_pnl'] = df_filter_vpis.groupby('day_name')['position_pnl_bp'].sum().reindex(day_names)\n",
    "df_day_group"
   ]
  },
  {
   "cell_type": "code",
   "execution_count": 60,
   "metadata": {},
   "outputs": [
    {
     "data": {
      "image/png": "[encoded data removed]",
      "text/plain": [
       "<Figure size 360x288 with 1 Axes>"
      ]
     },
     "metadata": {
      "needs_background": "light"
     },
     "output_type": "display_data"
    }
   ],
   "source": [
    "# Plot\n",
    "fig, ax = plt.subplots(1, 1, figsize=(5,4))\n",
    "df_day_group['avg_pnl'].plot.bar(ax=ax)\n",
    "fig.tight_layout()"
   ]
  },
  {
   "cell_type": "markdown",
   "metadata": {},
   "source": [
    "And again we got the confirmation of hypothesis. Friday seems to be the most active due to number of trades and most profitable day by a wide margin."
   ]
  },
  {
   "cell_type": "code",
   "execution_count": 61,
   "metadata": {},
   "outputs": [],
   "source": [
    "# Filter\n",
    "day_filter = 'Friday'\n",
    "df_filter_vpisd = df_filter_vpis[df_filter_vpis['day_name']==day_filter].copy()"
   ]
  },
  {
   "cell_type": "code",
   "execution_count": 62,
   "metadata": {},
   "outputs": [
    {
     "data": {
      "text/plain": [
       "<AxesSubplot:>"
      ]
     },
     "execution_count": 62,
     "metadata": {},
     "output_type": "execute_result"
    },
    {
     "data": {
      "image/png": "[encoded data removed]",
      "text/plain": [
       "<Figure size 432x216 with 1 Axes>"
      ]
     },
     "metadata": {
      "needs_background": "light"
     },
     "output_type": "display_data"
    }
   ],
   "source": [
    "# Plot\n",
    "fig, ax = plt.subplots(1,1)\n",
    "df_filter_vpisd['position_pnl_bp'].cumsum().plot(ax=ax)"
   ]
  },
  {
   "cell_type": "code",
   "execution_count": 63,
   "metadata": {},
   "outputs": [
    {
     "name": "stdout",
     "output_type": "stream",
     "text": [
      "Sharpe with next filters: max position size 900 shares, min price $20, min delta imbalance pct 1.8%, close status moc, day Friday is \n",
      "0.3350914206034773\n"
     ]
    }
   ],
   "source": [
    "sharpe_vpisd = df_filter_vpisd['position_pnl_bp'].mean()/df_filter_vpisd['position_pnl_bp'].std()\n",
    "print('Sharpe with next filters: max position size {} shares, min price ${}, min delta imbalance pct {}%, close status {}, day {} is \\n{}'.format(max_volume, min_price, min_deltaImbPct, close_status, day_filter, sharpe_vpisd))"
   ]
  },
  {
   "cell_type": "markdown",
   "metadata": {},
   "source": [
    "And this is another significant improvement of sharpe."
   ]
  },
  {
   "cell_type": "code",
   "execution_count": 64,
   "metadata": {},
   "outputs": [],
   "source": [
    "df_filter_vpisd_resample = pd.DataFrame()\n",
    "df_filter_vpisd_copy = df_filter_vpisd.copy()\n",
    "df_filter_vpisd_copy.set_index('timeindex', inplace=True)\n",
    "df_filter_vpisd_resample['sum'] = df_filter_vpisd_copy['position_pnl_bp'].resample('D').sum()\n",
    "df_filter_vpisd_resample['cum_sum'] = df_filter_vpisd_resample['sum'].cumsum().fillna(0)"
   ]
  },
  {
   "cell_type": "code",
   "execution_count": 65,
   "metadata": {},
   "outputs": [
    {
     "data": {
      "text/plain": [
       "<AxesSubplot:xlabel='timeindex'>"
      ]
     },
     "execution_count": 65,
     "metadata": {},
     "output_type": "execute_result"
    },
    {
     "data": {
      "image/png": "[encoded data removed]",
      "text/plain": [
       "<Figure size 432x216 with 1 Axes>"
      ]
     },
     "metadata": {
      "needs_background": "light"
     },
     "output_type": "display_data"
    }
   ],
   "source": [
    "fig, ax = plt.subplots(1, 1)\n",
    "df_filter_vpisd_resample['cum_sum'].plot(ax=ax)"
   ]
  },
  {
   "cell_type": "code",
   "execution_count": null,
   "metadata": {},
   "outputs": [],
   "source": []
  }
 ],
 "metadata": {
  "kernelspec": {
   "display_name": "moc_imbalance_flip",
   "language": "python",
   "name": "moc_imbalance_flip"
  },
  "language_info": {
   "codemirror_mode": {
    "name": "ipython",
    "version": 3
   },
   "file_extension": ".py",
   "mimetype": "text/x-python",
   "name": "python",
   "nbconvert_exporter": "python",
   "pygments_lexer": "ipython3",
   "version": "3.9.0"
  }
 },
 "nbformat": 4,
 "nbformat_minor": 4
}
