{
 "cells": [
  {
   "cell_type": "markdown",
   "metadata": {},
   "source": [
    "## Table of contents:\n",
    "* [Libraries, functions, constants](#first-bullet)\n",
    "* [Peak at data](#second-bullet)\n",
    "* [Commissions](#third-bullet)\n",
    "    * [Plot](#third-bullet-plot)\n",
    "    * [Sharpe](#third-bullet-sharpe)\n",
    "* [Price and position size analysis](#fourth-bullet)\n",
    "    * [Bins](#fourth-bullet-bins)\n",
    "    * [Plot](#fourth-bullet-plot)\n",
    "    * [Sharpe](#fourth-bullet-sharpe)\n",
    "* [Imbalance delta analysis](#fifth-bullet)\n",
    "    * [Bins](#fifth-bullet-bins)\n",
    "    * [Plot](#fifth-bullet-plot)\n",
    "    * [Sharpe](#fifth-bullet-sharpe)\n",
    "* [Close status analysis](#sixth-bullet)\n",
    "    * [Plot](#sixth-bullet-plot)\n",
    "    * [Sharpe](#sixth-bullet-sharpe)\n",
    "* [MAE/MFE](#seventh-bullet)\n",
    "    * [Plot](#seventh-bullet-plot)\n",
    "    * [Stop loss](#seventh-bullet-sl)\n",
    "* [MOC print imapct ](#eigth-bullet)\n",
    "* [Seasonality analysis](#nineth-bullet)\n",
    "    * [Bins](#nineth-bullet-bins)\n",
    "    * [Plot](#nineth-bullet-plot)\n",
    "    * [Sharpe](#nineth-bullet-sharpe)\n",
    "* [Finally](#tenth-bullet)\n",
    "    * [Ratios](#tenth-bullet-ratios)\n",
    "    * [Plot](#tenth-bullet-plot)"
   ]
  },
  {
   "cell_type": "markdown",
   "metadata": {},
   "source": [
    "## Libraries, functions, constants <a class=\"anchor\" id=\"first-bullet\"></a> "
   ]
  },
  {
   "cell_type": "code",
   "execution_count": 28,
   "metadata": {},
   "outputs": [],
   "source": [
    "import pandas as pd\n",
    "import numpy as np\n",
    "import matplotlib.pyplot as plt\n",
    "import os\n",
    "from sklearn.linear_model import LinearRegression\n",
    "\n",
    "%matplotlib inline\n",
    "plt.rcParams['figure.figsize'] = [6, 3]"
   ]
  },
  {
   "cell_type": "code",
   "execution_count": 29,
   "metadata": {},
   "outputs": [],
   "source": [
    "def plot_scatter(stat, ax, xcolumn, ycolumn):    \n",
    "    ax.scatter(stat[xcolumn].values, stat[ycolumn].values)\n",
    "    ax.plot(stat[xcolumn], linear_regression(stat, xcolumn, ycolumn), color='red')\n",
    "\n",
    "    ax.set_xlabel(xcolumn, fontsize=12)\n",
    "    ax.set_ylabel(ycolumn, fontsize=12)\n",
    "    \n",
    "    ax.hlines(0, stat[xcolumn].min(), stat[xcolumn].max(), linestyles='dashed', alpha=0.3)"
   ]
  },
  {
   "cell_type": "code",
   "execution_count": 30,
   "metadata": {},
   "outputs": [],
   "source": [
    "def linear_regression(data, x_name, y_name):\n",
    "    X = data.loc[:, x_name].values.reshape(-1, 1)  # values converts it into a numpy array\n",
    "    Y = data.loc[:, y_name].values.reshape(-1, 1)  # -1 means that calculate the dimension of rows, but have 1 column\n",
    "    linear_regressor = LinearRegression().fit(X, Y)  # create object for the class\n",
    "    print(f'r_sqr value: {linear_regressor.score(X, Y)}')\n",
    "    return linear_regressor.predict(X)"
   ]
  },
  {
   "cell_type": "code",
   "execution_count": 39,
   "metadata": {},
   "outputs": [],
   "source": [
    "path = '/Users/berg/Projects/Atto/moc_imbalance_flip/data/positions'"
   ]
  },
  {
   "cell_type": "code",
   "execution_count": 40,
   "metadata": {},
   "outputs": [
    {
     "data": {
      "text/html": [
       "<div>\n",
       "<style scoped>\n",
       "    .dataframe tbody tr th:only-of-type {\n",
       "        vertical-align: middle;\n",
       "    }\n",
       "\n",
       "    .dataframe tbody tr th {\n",
       "        vertical-align: top;\n",
       "    }\n",
       "\n",
       "    .dataframe thead th {\n",
       "        text-align: right;\n",
       "    }\n",
       "</style>\n",
       "<table border=\"1\" class=\"dataframe\">\n",
       "  <thead>\n",
       "    <tr style=\"text-align: right;\">\n",
       "      <th></th>\n",
       "      <th>date</th>\n",
       "      <th>symbol</th>\n",
       "      <th>volume</th>\n",
       "      <th>start</th>\n",
       "      <th>stop</th>\n",
       "      <th>initial_imb</th>\n",
       "      <th>paired_imb</th>\n",
       "      <th>direction</th>\n",
       "      <th>open_price</th>\n",
       "      <th>spread_at_open</th>\n",
       "      <th>...</th>\n",
       "      <th>min_pnl_time</th>\n",
       "      <th>min_pnl_price</th>\n",
       "      <th>size</th>\n",
       "      <th>reverse_count</th>\n",
       "      <th>imbBeforeReversePct</th>\n",
       "      <th>imbAfterReversePct</th>\n",
       "      <th>deltaImbPct</th>\n",
       "      <th>delta_move</th>\n",
       "      <th>delta_move_pct</th>\n",
       "      <th>pnl</th>\n",
       "    </tr>\n",
       "  </thead>\n",
       "  <tbody>\n",
       "    <tr>\n",
       "      <th>0</th>\n",
       "      <td>03.02.2020</td>\n",
       "      <td>ABBV</td>\n",
       "      <td>7916750</td>\n",
       "      <td>03.02.2020 15:55</td>\n",
       "      <td>03.02.2020 15:56</td>\n",
       "      <td>-295275</td>\n",
       "      <td>777818</td>\n",
       "      <td>Long</td>\n",
       "      <td>82.22</td>\n",
       "      <td>0.01</td>\n",
       "      <td>...</td>\n",
       "      <td>2020-02-03 15:55:24.399114</td>\n",
       "      <td>82.21</td>\n",
       "      <td>500.000000</td>\n",
       "      <td>1</td>\n",
       "      <td>-3.73</td>\n",
       "      <td>0.12</td>\n",
       "      <td>3.85</td>\n",
       "      <td>0.05</td>\n",
       "      <td>0.060812</td>\n",
       "      <td>25.000000</td>\n",
       "    </tr>\n",
       "    <tr>\n",
       "      <th>1</th>\n",
       "      <td>03.02.2020</td>\n",
       "      <td>ABEV</td>\n",
       "      <td>15315378</td>\n",
       "      <td>03.02.2020 15:59</td>\n",
       "      <td>03.02.2020 16:00</td>\n",
       "      <td>131846</td>\n",
       "      <td>270056</td>\n",
       "      <td>Short</td>\n",
       "      <td>4.12</td>\n",
       "      <td>0.01</td>\n",
       "      <td>...</td>\n",
       "      <td>2020-02-03 15:59:36.912007</td>\n",
       "      <td>4.13</td>\n",
       "      <td>12135.922330</td>\n",
       "      <td>1</td>\n",
       "      <td>0.86</td>\n",
       "      <td>-0.73</td>\n",
       "      <td>-1.59</td>\n",
       "      <td>-0.01</td>\n",
       "      <td>-0.242718</td>\n",
       "      <td>-121.359223</td>\n",
       "    </tr>\n",
       "    <tr>\n",
       "      <th>2</th>\n",
       "      <td>03.02.2020</td>\n",
       "      <td>ACM</td>\n",
       "      <td>1262740</td>\n",
       "      <td>03.02.2020 15:55</td>\n",
       "      <td>03.02.2020 15:56</td>\n",
       "      <td>-6736</td>\n",
       "      <td>380765</td>\n",
       "      <td>Long</td>\n",
       "      <td>47.64</td>\n",
       "      <td>0.02</td>\n",
       "      <td>...</td>\n",
       "      <td>2020-02-03 15:55:00.157709</td>\n",
       "      <td>47.62</td>\n",
       "      <td>803.000000</td>\n",
       "      <td>1</td>\n",
       "      <td>-0.53</td>\n",
       "      <td>0.99</td>\n",
       "      <td>1.52</td>\n",
       "      <td>0.01</td>\n",
       "      <td>0.020991</td>\n",
       "      <td>8.030000</td>\n",
       "    </tr>\n",
       "    <tr>\n",
       "      <th>3</th>\n",
       "      <td>03.02.2020</td>\n",
       "      <td>ACN</td>\n",
       "      <td>1880650</td>\n",
       "      <td>03.02.2020 15:55</td>\n",
       "      <td>03.02.2020 15:56</td>\n",
       "      <td>-62724</td>\n",
       "      <td>330947</td>\n",
       "      <td>Long</td>\n",
       "      <td>207.69</td>\n",
       "      <td>0.03</td>\n",
       "      <td>...</td>\n",
       "      <td>2020-02-03 15:55:39.332526</td>\n",
       "      <td>207.63</td>\n",
       "      <td>240.743416</td>\n",
       "      <td>1</td>\n",
       "      <td>-3.34</td>\n",
       "      <td>1.77</td>\n",
       "      <td>5.10</td>\n",
       "      <td>-0.02</td>\n",
       "      <td>-0.009630</td>\n",
       "      <td>-4.814868</td>\n",
       "    </tr>\n",
       "    <tr>\n",
       "      <th>4</th>\n",
       "      <td>03.02.2020</td>\n",
       "      <td>ADM</td>\n",
       "      <td>2913957</td>\n",
       "      <td>03.02.2020 15:59</td>\n",
       "      <td>03.02.2020 16:00</td>\n",
       "      <td>-33015</td>\n",
       "      <td>423259</td>\n",
       "      <td>Long</td>\n",
       "      <td>44.98</td>\n",
       "      <td>0.01</td>\n",
       "      <td>...</td>\n",
       "      <td>2020-02-03 15:59:51.124806</td>\n",
       "      <td>44.95</td>\n",
       "      <td>1111.605158</td>\n",
       "      <td>1</td>\n",
       "      <td>-1.13</td>\n",
       "      <td>0.06</td>\n",
       "      <td>1.19</td>\n",
       "      <td>-0.02</td>\n",
       "      <td>-0.044464</td>\n",
       "      <td>-22.232103</td>\n",
       "    </tr>\n",
       "  </tbody>\n",
       "</table>\n",
       "<p>5 rows × 26 columns</p>\n",
       "</div>"
      ],
      "text/plain": [
       "         date symbol    volume             start              stop  \\\n",
       "0  03.02.2020   ABBV   7916750  03.02.2020 15:55  03.02.2020 15:56   \n",
       "1  03.02.2020   ABEV  15315378  03.02.2020 15:59  03.02.2020 16:00   \n",
       "2  03.02.2020    ACM   1262740  03.02.2020 15:55  03.02.2020 15:56   \n",
       "3  03.02.2020    ACN   1880650  03.02.2020 15:55  03.02.2020 15:56   \n",
       "4  03.02.2020    ADM   2913957  03.02.2020 15:59  03.02.2020 16:00   \n",
       "\n",
       "   initial_imb  paired_imb direction  open_price  spread_at_open  ...  \\\n",
       "0      -295275      777818      Long       82.22            0.01  ...   \n",
       "1       131846      270056     Short        4.12            0.01  ...   \n",
       "2        -6736      380765      Long       47.64            0.02  ...   \n",
       "3       -62724      330947      Long      207.69            0.03  ...   \n",
       "4       -33015      423259      Long       44.98            0.01  ...   \n",
       "\n",
       "                 min_pnl_time  min_pnl_price          size  reverse_count  \\\n",
       "0  2020-02-03 15:55:24.399114          82.21    500.000000              1   \n",
       "1  2020-02-03 15:59:36.912007           4.13  12135.922330              1   \n",
       "2  2020-02-03 15:55:00.157709          47.62    803.000000              1   \n",
       "3  2020-02-03 15:55:39.332526         207.63    240.743416              1   \n",
       "4  2020-02-03 15:59:51.124806          44.95   1111.605158              1   \n",
       "\n",
       "  imbBeforeReversePct  imbAfterReversePct deltaImbPct  delta_move  \\\n",
       "0               -3.73                0.12        3.85        0.05   \n",
       "1                0.86               -0.73       -1.59       -0.01   \n",
       "2               -0.53                0.99        1.52        0.01   \n",
       "3               -3.34                1.77        5.10       -0.02   \n",
       "4               -1.13                0.06        1.19       -0.02   \n",
       "\n",
       "   delta_move_pct         pnl  \n",
       "0        0.060812   25.000000  \n",
       "1       -0.242718 -121.359223  \n",
       "2        0.020991    8.030000  \n",
       "3       -0.009630   -4.814868  \n",
       "4       -0.044464  -22.232103  \n",
       "\n",
       "[5 rows x 26 columns]"
      ]
     },
     "execution_count": 40,
     "metadata": {},
     "output_type": "execute_result"
    }
   ],
   "source": [
    "cwd = os.getcwd()\n",
    "df = pd.read_csv(path + '/hold_60000_volume_2000000_spread_0.2_deltaimb_1_date_2020-11-18.csv', index_col=0)#, parse_dates=True)\n",
    "df.head()"
   ]
  },
  {
   "cell_type": "markdown",
   "metadata": {},
   "source": [
    "## Peak at data <a class=\"anchor\" id=\"second-bullet\"></a> "
   ]
  },
  {
   "cell_type": "code",
   "execution_count": 41,
   "metadata": {},
   "outputs": [
    {
     "data": {
      "text/html": [
       "<div>\n",
       "<style scoped>\n",
       "    .dataframe tbody tr th:only-of-type {\n",
       "        vertical-align: middle;\n",
       "    }\n",
       "\n",
       "    .dataframe tbody tr th {\n",
       "        vertical-align: top;\n",
       "    }\n",
       "\n",
       "    .dataframe thead th {\n",
       "        text-align: right;\n",
       "    }\n",
       "</style>\n",
       "<table border=\"1\" class=\"dataframe\">\n",
       "  <thead>\n",
       "    <tr style=\"text-align: right;\">\n",
       "      <th></th>\n",
       "      <th>volume</th>\n",
       "      <th>initial_imb</th>\n",
       "      <th>paired_imb</th>\n",
       "      <th>open_price</th>\n",
       "      <th>spread_at_open</th>\n",
       "      <th>close_price</th>\n",
       "      <th>moc_close_price</th>\n",
       "      <th>spread_at_close</th>\n",
       "      <th>max_pnl_price</th>\n",
       "      <th>min_pnl_price</th>\n",
       "      <th>size</th>\n",
       "      <th>reverse_count</th>\n",
       "      <th>delta_move</th>\n",
       "      <th>delta_move_pct</th>\n",
       "      <th>pnl</th>\n",
       "    </tr>\n",
       "  </thead>\n",
       "  <tbody>\n",
       "    <tr>\n",
       "      <th>count</th>\n",
       "      <td>1.827200e+04</td>\n",
       "      <td>1.827200e+04</td>\n",
       "      <td>1.827200e+04</td>\n",
       "      <td>18272.000000</td>\n",
       "      <td>18272.000000</td>\n",
       "      <td>18272.000000</td>\n",
       "      <td>7012.000000</td>\n",
       "      <td>18272.000000</td>\n",
       "      <td>18272.000000</td>\n",
       "      <td>18272.000000</td>\n",
       "      <td>18272.000000</td>\n",
       "      <td>18272.000000</td>\n",
       "      <td>18272.000000</td>\n",
       "      <td>18272.000000</td>\n",
       "      <td>18272.000000</td>\n",
       "    </tr>\n",
       "    <tr>\n",
       "      <th>mean</th>\n",
       "      <td>4.968126e+06</td>\n",
       "      <td>-1.755282e+03</td>\n",
       "      <td>6.481711e+05</td>\n",
       "      <td>51.878833</td>\n",
       "      <td>0.022011</td>\n",
       "      <td>51.877531</td>\n",
       "      <td>56.300354</td>\n",
       "      <td>0.012640</td>\n",
       "      <td>51.879858</td>\n",
       "      <td>51.876805</td>\n",
       "      <td>2563.840072</td>\n",
       "      <td>2.667032</td>\n",
       "      <td>0.004440</td>\n",
       "      <td>-0.034710</td>\n",
       "      <td>-12.817141</td>\n",
       "    </tr>\n",
       "    <tr>\n",
       "      <th>std</th>\n",
       "      <td>6.365875e+06</td>\n",
       "      <td>2.817047e+05</td>\n",
       "      <td>1.603483e+06</td>\n",
       "      <td>55.688884</td>\n",
       "      <td>0.027448</td>\n",
       "      <td>55.688939</td>\n",
       "      <td>59.569731</td>\n",
       "      <td>0.029991</td>\n",
       "      <td>55.692392</td>\n",
       "      <td>55.685884</td>\n",
       "      <td>6775.742064</td>\n",
       "      <td>4.291945</td>\n",
       "      <td>0.163193</td>\n",
       "      <td>0.365299</td>\n",
       "      <td>115.587907</td>\n",
       "    </tr>\n",
       "    <tr>\n",
       "      <th>min</th>\n",
       "      <td>0.000000e+00</td>\n",
       "      <td>-8.983242e+06</td>\n",
       "      <td>0.000000e+00</td>\n",
       "      <td>0.120000</td>\n",
       "      <td>0.010000</td>\n",
       "      <td>0.000000</td>\n",
       "      <td>0.164000</td>\n",
       "      <td>-0.660000</td>\n",
       "      <td>0.120000</td>\n",
       "      <td>0.000000</td>\n",
       "      <td>1.000000</td>\n",
       "      <td>1.000000</td>\n",
       "      <td>-2.970000</td>\n",
       "      <td>-10.473684</td>\n",
       "      <td>-3975.535168</td>\n",
       "    </tr>\n",
       "    <tr>\n",
       "      <th>25%</th>\n",
       "      <td>2.090950e+06</td>\n",
       "      <td>-3.065800e+04</td>\n",
       "      <td>1.557460e+05</td>\n",
       "      <td>14.790000</td>\n",
       "      <td>0.010000</td>\n",
       "      <td>14.805000</td>\n",
       "      <td>16.125000</td>\n",
       "      <td>0.000000</td>\n",
       "      <td>14.787500</td>\n",
       "      <td>14.797500</td>\n",
       "      <td>320.975916</td>\n",
       "      <td>1.000000</td>\n",
       "      <td>-0.030000</td>\n",
       "      <td>-0.115473</td>\n",
       "      <td>-39.203922</td>\n",
       "    </tr>\n",
       "    <tr>\n",
       "      <th>50%</th>\n",
       "      <td>3.268440e+06</td>\n",
       "      <td>1.320000e+02</td>\n",
       "      <td>3.010480e+05</td>\n",
       "      <td>33.225000</td>\n",
       "      <td>0.010000</td>\n",
       "      <td>33.240000</td>\n",
       "      <td>36.350000</td>\n",
       "      <td>0.010000</td>\n",
       "      <td>33.245000</td>\n",
       "      <td>33.220000</td>\n",
       "      <td>946.163316</td>\n",
       "      <td>1.000000</td>\n",
       "      <td>-0.010000</td>\n",
       "      <td>-0.006349</td>\n",
       "      <td>-0.200000</td>\n",
       "    </tr>\n",
       "    <tr>\n",
       "      <th>75%</th>\n",
       "      <td>5.482336e+06</td>\n",
       "      <td>3.223550e+04</td>\n",
       "      <td>6.021305e+05</td>\n",
       "      <td>66.070000</td>\n",
       "      <td>0.020000</td>\n",
       "      <td>66.130000</td>\n",
       "      <td>71.660000</td>\n",
       "      <td>0.010000</td>\n",
       "      <td>66.092500</td>\n",
       "      <td>66.077500</td>\n",
       "      <td>2699.784017</td>\n",
       "      <td>2.000000</td>\n",
       "      <td>0.030000</td>\n",
       "      <td>0.075010</td>\n",
       "      <td>20.000000</td>\n",
       "    </tr>\n",
       "    <tr>\n",
       "      <th>max</th>\n",
       "      <td>1.385543e+08</td>\n",
       "      <td>1.491420e+07</td>\n",
       "      <td>5.953006e+07</td>\n",
       "      <td>499.180000</td>\n",
       "      <td>0.200000</td>\n",
       "      <td>499.370000</td>\n",
       "      <td>424.480000</td>\n",
       "      <td>0.670000</td>\n",
       "      <td>498.920000</td>\n",
       "      <td>499.500000</td>\n",
       "      <td>294117.647100</td>\n",
       "      <td>55.000000</td>\n",
       "      <td>4.280000</td>\n",
       "      <td>4.134995</td>\n",
       "      <td>1904.000000</td>\n",
       "    </tr>\n",
       "  </tbody>\n",
       "</table>\n",
       "</div>"
      ],
      "text/plain": [
       "             volume   initial_imb    paired_imb    open_price  spread_at_open  \\\n",
       "count  1.827200e+04  1.827200e+04  1.827200e+04  18272.000000    18272.000000   \n",
       "mean   4.968126e+06 -1.755282e+03  6.481711e+05     51.878833        0.022011   \n",
       "std    6.365875e+06  2.817047e+05  1.603483e+06     55.688884        0.027448   \n",
       "min    0.000000e+00 -8.983242e+06  0.000000e+00      0.120000        0.010000   \n",
       "25%    2.090950e+06 -3.065800e+04  1.557460e+05     14.790000        0.010000   \n",
       "50%    3.268440e+06  1.320000e+02  3.010480e+05     33.225000        0.010000   \n",
       "75%    5.482336e+06  3.223550e+04  6.021305e+05     66.070000        0.020000   \n",
       "max    1.385543e+08  1.491420e+07  5.953006e+07    499.180000        0.200000   \n",
       "\n",
       "        close_price  moc_close_price  spread_at_close  max_pnl_price  \\\n",
       "count  18272.000000      7012.000000     18272.000000   18272.000000   \n",
       "mean      51.877531        56.300354         0.012640      51.879858   \n",
       "std       55.688939        59.569731         0.029991      55.692392   \n",
       "min        0.000000         0.164000        -0.660000       0.120000   \n",
       "25%       14.805000        16.125000         0.000000      14.787500   \n",
       "50%       33.240000        36.350000         0.010000      33.245000   \n",
       "75%       66.130000        71.660000         0.010000      66.092500   \n",
       "max      499.370000       424.480000         0.670000     498.920000   \n",
       "\n",
       "       min_pnl_price           size  reverse_count    delta_move  \\\n",
       "count   18272.000000   18272.000000   18272.000000  18272.000000   \n",
       "mean       51.876805    2563.840072       2.667032      0.004440   \n",
       "std        55.685884    6775.742064       4.291945      0.163193   \n",
       "min         0.000000       1.000000       1.000000     -2.970000   \n",
       "25%        14.797500     320.975916       1.000000     -0.030000   \n",
       "50%        33.220000     946.163316       1.000000     -0.010000   \n",
       "75%        66.077500    2699.784017       2.000000      0.030000   \n",
       "max       499.500000  294117.647100      55.000000      4.280000   \n",
       "\n",
       "       delta_move_pct           pnl  \n",
       "count    18272.000000  18272.000000  \n",
       "mean        -0.034710    -12.817141  \n",
       "std          0.365299    115.587907  \n",
       "min        -10.473684  -3975.535168  \n",
       "25%         -0.115473    -39.203922  \n",
       "50%         -0.006349     -0.200000  \n",
       "75%          0.075010     20.000000  \n",
       "max          4.134995   1904.000000  "
      ]
     },
     "execution_count": 41,
     "metadata": {},
     "output_type": "execute_result"
    }
   ],
   "source": [
    "df.describe()"
   ]
  },
  {
   "cell_type": "markdown",
   "metadata": {},
   "source": [
    "Some zero values in column `volume` even though we have filtered on the query level over `DailyShares` - average volume more than 2 mln shares. Drop these rows."
   ]
  },
  {
   "cell_type": "code",
   "execution_count": 42,
   "metadata": {},
   "outputs": [
    {
     "data": {
      "text/html": [
       "<div>\n",
       "<style scoped>\n",
       "    .dataframe tbody tr th:only-of-type {\n",
       "        vertical-align: middle;\n",
       "    }\n",
       "\n",
       "    .dataframe tbody tr th {\n",
       "        vertical-align: top;\n",
       "    }\n",
       "\n",
       "    .dataframe thead th {\n",
       "        text-align: right;\n",
       "    }\n",
       "</style>\n",
       "<table border=\"1\" class=\"dataframe\">\n",
       "  <thead>\n",
       "    <tr style=\"text-align: right;\">\n",
       "      <th></th>\n",
       "      <th>volume</th>\n",
       "      <th>initial_imb</th>\n",
       "      <th>paired_imb</th>\n",
       "      <th>open_price</th>\n",
       "      <th>spread_at_open</th>\n",
       "      <th>close_price</th>\n",
       "      <th>moc_close_price</th>\n",
       "      <th>spread_at_close</th>\n",
       "      <th>max_pnl_price</th>\n",
       "      <th>min_pnl_price</th>\n",
       "      <th>size</th>\n",
       "      <th>reverse_count</th>\n",
       "      <th>delta_move</th>\n",
       "      <th>delta_move_pct</th>\n",
       "      <th>pnl</th>\n",
       "    </tr>\n",
       "  </thead>\n",
       "  <tbody>\n",
       "    <tr>\n",
       "      <th>count</th>\n",
       "      <td>1.824500e+04</td>\n",
       "      <td>1.824500e+04</td>\n",
       "      <td>1.824500e+04</td>\n",
       "      <td>18245.000000</td>\n",
       "      <td>18245.000000</td>\n",
       "      <td>18245.000000</td>\n",
       "      <td>7006.000000</td>\n",
       "      <td>18245.000000</td>\n",
       "      <td>18245.000000</td>\n",
       "      <td>18245.000000</td>\n",
       "      <td>18245.000000</td>\n",
       "      <td>18245.000000</td>\n",
       "      <td>18245.000000</td>\n",
       "      <td>18245.000000</td>\n",
       "      <td>18245.000000</td>\n",
       "    </tr>\n",
       "    <tr>\n",
       "      <th>mean</th>\n",
       "      <td>4.975478e+06</td>\n",
       "      <td>-1.762015e+03</td>\n",
       "      <td>6.490609e+05</td>\n",
       "      <td>51.939796</td>\n",
       "      <td>0.022001</td>\n",
       "      <td>51.938499</td>\n",
       "      <td>56.342166</td>\n",
       "      <td>0.012626</td>\n",
       "      <td>51.940841</td>\n",
       "      <td>51.937788</td>\n",
       "      <td>2562.412139</td>\n",
       "      <td>2.669498</td>\n",
       "      <td>0.004498</td>\n",
       "      <td>-0.034134</td>\n",
       "      <td>-12.710461</td>\n",
       "    </tr>\n",
       "    <tr>\n",
       "      <th>std</th>\n",
       "      <td>6.367712e+06</td>\n",
       "      <td>2.819022e+05</td>\n",
       "      <td>1.604497e+06</td>\n",
       "      <td>55.704669</td>\n",
       "      <td>0.027426</td>\n",
       "      <td>55.704723</td>\n",
       "      <td>59.577610</td>\n",
       "      <td>0.029981</td>\n",
       "      <td>55.708174</td>\n",
       "      <td>55.701656</td>\n",
       "      <td>6778.720825</td>\n",
       "      <td>4.294640</td>\n",
       "      <td>0.163290</td>\n",
       "      <td>0.364296</td>\n",
       "      <td>115.522438</td>\n",
       "    </tr>\n",
       "    <tr>\n",
       "      <th>min</th>\n",
       "      <td>1.125830e+05</td>\n",
       "      <td>-8.983242e+06</td>\n",
       "      <td>0.000000e+00</td>\n",
       "      <td>0.120000</td>\n",
       "      <td>0.010000</td>\n",
       "      <td>0.000000</td>\n",
       "      <td>0.164000</td>\n",
       "      <td>-0.660000</td>\n",
       "      <td>0.120000</td>\n",
       "      <td>0.000000</td>\n",
       "      <td>1.000000</td>\n",
       "      <td>1.000000</td>\n",
       "      <td>-2.970000</td>\n",
       "      <td>-10.473684</td>\n",
       "      <td>-3975.535168</td>\n",
       "    </tr>\n",
       "    <tr>\n",
       "      <th>25%</th>\n",
       "      <td>2.097903e+06</td>\n",
       "      <td>-3.072100e+04</td>\n",
       "      <td>1.561170e+05</td>\n",
       "      <td>14.860000</td>\n",
       "      <td>0.010000</td>\n",
       "      <td>14.850000</td>\n",
       "      <td>16.142500</td>\n",
       "      <td>0.000000</td>\n",
       "      <td>14.850000</td>\n",
       "      <td>14.850000</td>\n",
       "      <td>320.430659</td>\n",
       "      <td>1.000000</td>\n",
       "      <td>-0.030000</td>\n",
       "      <td>-0.115119</td>\n",
       "      <td>-39.154268</td>\n",
       "    </tr>\n",
       "    <tr>\n",
       "      <th>50%</th>\n",
       "      <td>3.271776e+06</td>\n",
       "      <td>1.370000e+02</td>\n",
       "      <td>3.017940e+05</td>\n",
       "      <td>33.280000</td>\n",
       "      <td>0.010000</td>\n",
       "      <td>33.290000</td>\n",
       "      <td>36.430000</td>\n",
       "      <td>0.010000</td>\n",
       "      <td>33.310000</td>\n",
       "      <td>33.280000</td>\n",
       "      <td>945.358291</td>\n",
       "      <td>1.000000</td>\n",
       "      <td>-0.010000</td>\n",
       "      <td>-0.005244</td>\n",
       "      <td>-0.100000</td>\n",
       "    </tr>\n",
       "    <tr>\n",
       "      <th>75%</th>\n",
       "      <td>5.484913e+06</td>\n",
       "      <td>3.226100e+04</td>\n",
       "      <td>6.025520e+05</td>\n",
       "      <td>66.220000</td>\n",
       "      <td>0.020000</td>\n",
       "      <td>66.200000</td>\n",
       "      <td>71.750000</td>\n",
       "      <td>0.010000</td>\n",
       "      <td>66.210000</td>\n",
       "      <td>66.240000</td>\n",
       "      <td>2696.871629</td>\n",
       "      <td>2.000000</td>\n",
       "      <td>0.030000</td>\n",
       "      <td>0.075131</td>\n",
       "      <td>20.000000</td>\n",
       "    </tr>\n",
       "    <tr>\n",
       "      <th>max</th>\n",
       "      <td>1.385543e+08</td>\n",
       "      <td>1.491420e+07</td>\n",
       "      <td>5.953006e+07</td>\n",
       "      <td>499.180000</td>\n",
       "      <td>0.200000</td>\n",
       "      <td>499.370000</td>\n",
       "      <td>424.480000</td>\n",
       "      <td>0.670000</td>\n",
       "      <td>498.920000</td>\n",
       "      <td>499.500000</td>\n",
       "      <td>294117.647100</td>\n",
       "      <td>55.000000</td>\n",
       "      <td>4.280000</td>\n",
       "      <td>4.134995</td>\n",
       "      <td>1904.000000</td>\n",
       "    </tr>\n",
       "  </tbody>\n",
       "</table>\n",
       "</div>"
      ],
      "text/plain": [
       "             volume   initial_imb    paired_imb    open_price  spread_at_open  \\\n",
       "count  1.824500e+04  1.824500e+04  1.824500e+04  18245.000000    18245.000000   \n",
       "mean   4.975478e+06 -1.762015e+03  6.490609e+05     51.939796        0.022001   \n",
       "std    6.367712e+06  2.819022e+05  1.604497e+06     55.704669        0.027426   \n",
       "min    1.125830e+05 -8.983242e+06  0.000000e+00      0.120000        0.010000   \n",
       "25%    2.097903e+06 -3.072100e+04  1.561170e+05     14.860000        0.010000   \n",
       "50%    3.271776e+06  1.370000e+02  3.017940e+05     33.280000        0.010000   \n",
       "75%    5.484913e+06  3.226100e+04  6.025520e+05     66.220000        0.020000   \n",
       "max    1.385543e+08  1.491420e+07  5.953006e+07    499.180000        0.200000   \n",
       "\n",
       "        close_price  moc_close_price  spread_at_close  max_pnl_price  \\\n",
       "count  18245.000000      7006.000000     18245.000000   18245.000000   \n",
       "mean      51.938499        56.342166         0.012626      51.940841   \n",
       "std       55.704723        59.577610         0.029981      55.708174   \n",
       "min        0.000000         0.164000        -0.660000       0.120000   \n",
       "25%       14.850000        16.142500         0.000000      14.850000   \n",
       "50%       33.290000        36.430000         0.010000      33.310000   \n",
       "75%       66.200000        71.750000         0.010000      66.210000   \n",
       "max      499.370000       424.480000         0.670000     498.920000   \n",
       "\n",
       "       min_pnl_price           size  reverse_count    delta_move  \\\n",
       "count   18245.000000   18245.000000   18245.000000  18245.000000   \n",
       "mean       51.937788    2562.412139       2.669498      0.004498   \n",
       "std        55.701656    6778.720825       4.294640      0.163290   \n",
       "min         0.000000       1.000000       1.000000     -2.970000   \n",
       "25%        14.850000     320.430659       1.000000     -0.030000   \n",
       "50%        33.280000     945.358291       1.000000     -0.010000   \n",
       "75%        66.240000    2696.871629       2.000000      0.030000   \n",
       "max       499.500000  294117.647100      55.000000      4.280000   \n",
       "\n",
       "       delta_move_pct           pnl  \n",
       "count    18245.000000  18245.000000  \n",
       "mean        -0.034134    -12.710461  \n",
       "std          0.364296    115.522438  \n",
       "min        -10.473684  -3975.535168  \n",
       "25%         -0.115119    -39.154268  \n",
       "50%         -0.005244     -0.100000  \n",
       "75%          0.075131     20.000000  \n",
       "max          4.134995   1904.000000  "
      ]
     },
     "execution_count": 42,
     "metadata": {},
     "output_type": "execute_result"
    }
   ],
   "source": [
    "df = df[df['volume']>0]\n",
    "df.describe()"
   ]
  },
  {
   "cell_type": "code",
   "execution_count": 45,
   "metadata": {},
   "outputs": [
    {
     "data": {
      "text/plain": [
       "date                    object\n",
       "symbol                  object\n",
       "volume                   int64\n",
       "start                   object\n",
       "stop                    object\n",
       "initial_imb              int64\n",
       "paired_imb               int64\n",
       "direction               object\n",
       "open_price             float64\n",
       "spread_at_open         float64\n",
       "close_price            float64\n",
       "moc_close_price        float64\n",
       "close_status            object\n",
       "spread_at_close        float64\n",
       "max_pnl_time            object\n",
       "max_pnl_price          float64\n",
       "min_pnl_time            object\n",
       "min_pnl_price          float64\n",
       "size                   float64\n",
       "reverse_count            int64\n",
       "imbBeforeReversePct    float64\n",
       "imbAfterReversePct     float64\n",
       "deltaImbPct            float64\n",
       "delta_move             float64\n",
       "delta_move_pct         float64\n",
       "pnl                    float64\n",
       "dtype: object"
      ]
     },
     "execution_count": 45,
     "metadata": {},
     "output_type": "execute_result"
    }
   ],
   "source": [
    "df[['imbBeforeReversePct', 'imbAfterReversePct', 'deltaImbPct']] = df[['imbBeforeReversePct', 'imbAfterReversePct', 'deltaImbPct']].astype(float)\n",
    "df.dtypes"
   ]
  },
  {
   "cell_type": "code",
   "execution_count": 46,
   "metadata": {},
   "outputs": [
    {
     "data": {
      "text/plain": [
       "array([[<AxesSubplot:title={'center':'volume'}>,\n",
       "        <AxesSubplot:title={'center':'deltaImbPct'}>,\n",
       "        <AxesSubplot:title={'center':'spread_at_open'}>],\n",
       "       [<AxesSubplot:title={'center':'size'}>,\n",
       "        <AxesSubplot:title={'center':'delta_move'}>,\n",
       "        <AxesSubplot:title={'center':'pnl'}>]], dtype=object)"
      ]
     },
     "execution_count": 46,
     "metadata": {},
     "output_type": "execute_result"
    },
    {
     "data": {
      "image/png": "[encoded data removed]",
      "text/plain": [
       "<Figure size 720x432 with 6 Axes>"
      ]
     },
     "metadata": {
      "needs_background": "light"
     },
     "output_type": "display_data"
    }
   ],
   "source": [
    "df.hist(column=['volume', 'deltaImbPct', 'spread_at_open', 'size', 'delta_move', 'pnl'], layout=(2,3), figsize=(10,6))"
   ]
  },
  {
   "cell_type": "markdown",
   "metadata": {},
   "source": [
    "Now min `volume` is more than 100k. It is still far below our threshold at 2 mln. But let's leave it as it is until we can prove some reliable relationship between pnl and volume. \n",
    "\n",
    "At least there is `spread_at_open` column which is complementary and far more important and it distributes as expected with max spread at 20 cents. Let's check other important columns. \n",
    "\n",
    "The cheapest stock `open_price` was at 12 cents and the most expensive at 499 dollars. \n",
    "\n",
    "`deltaImbPct` has some tails but 25 and 75 percentiles are okay.\n",
    "\n",
    "`deltaMove` which is a proxy of our pnl looks good, from -2.97 to 4.28 dollars. \n",
    "\n",
    "`size` and `position_size` are subjects for deeper investigation. Max values are equal to 1.3 mln and 300k shares respectively seems a \"little bit\" risky and may skew our `pnl` and `position_pnl` significantly. Before we dive deeper into this analysis, it is worth mentioning how I calculate these columns:\n",
    "`position_size` is simply Bid/Aks size depending on direction of a position.\n",
    "`size` is *min* value among two: `position_size` or bp (buying power, default 50k) divided by `open_price`. In this case price is proxy for volatility. The assumption is the more expensive stock the higher is volatility. It is true for most cases. But even with this limitation, it seems like we get some outliers that may skew the results as we can see that *mean* `delta_move` is positive and `pnl`s are highly negative. Meaning that **sizing is highly important!**"
   ]
  },
  {
   "cell_type": "code",
   "execution_count": 48,
   "metadata": {},
   "outputs": [],
   "source": [
    "# Add absolute columns  \n",
    "columns = ['deltaImbPct', 'imbBeforeReversePct', 'imbAfterReversePct', 'pnl', 'delta_move']\n",
    "abs_columns = ['abs_' + str(col) for col in columns]\n",
    "df[abs_columns] = df[columns].abs()"
   ]
  },
  {
   "cell_type": "markdown",
   "metadata": {},
   "source": [
    "## Commissions <a class=\"anchor\" id=\"third-bullet\"></a> "
   ]
  },
  {
   "cell_type": "markdown",
   "metadata": {},
   "source": [
    "Fees = Comm + EcnFee + Sec + Clr + TicketFee\n",
    "\n",
    "Comm = Shares * 0.0004\n",
    "\n",
    "Ecn Remove = Shares * 0.00375\n",
    "\n",
    "Ecn MOC = Shares * 0.001\n",
    "\n",
    "SEC = Notional short * 0.0000221\n",
    "\n",
    "Clr = 0.00032 * Shares\n",
    "\n",
    "Ticket = 0.4$ for side (each symbol)."
   ]
  },
  {
   "cell_type": "code",
   "execution_count": 49,
   "metadata": {},
   "outputs": [],
   "source": [
    "# Commissions\n",
    "df['Comm'] = df['size'] * 0.0004\n",
    "df['Ecn Remove entry'] = df['size'] * 0.00375\n",
    "df['Ecn Remove exit'] = np.where(df['close_status'] == 'market', df['size'] * 0.00375, df['size'] * 0.001)\n",
    "df['Ecn Fee'] = df['Ecn Remove entry'] + df['Ecn Remove exit']\n",
    "df['Sec'] = np.where(df['direction'] == 'Short', df['size'] * 0.0000221, 0.0)\n",
    "df['Clr'] = df['size'] * 0.00032\n",
    "df['Ticket'] = 0.8\n",
    "df['Fees'] = df['Comm'] + df['Ecn Fee'] + df['Sec'] + df['Clr'] + df['Ticket']\n",
    "# Net Pnl\n",
    "df['pnl_net'] = df['pnl'] - df['Fees']"
   ]
  },
  {
   "cell_type": "markdown",
   "metadata": {},
   "source": [
    "First glance at results."
   ]
  },
  {
   "cell_type": "markdown",
   "metadata": {},
   "source": [
    "### Plot <a class=\"anchor\" id=\"third-bullet-plot\"></a> "
   ]
  },
  {
   "cell_type": "code",
   "execution_count": 50,
   "metadata": {},
   "outputs": [
    {
     "data": {
      "text/plain": [
       "<AxesSubplot:>"
      ]
     },
     "execution_count": 50,
     "metadata": {},
     "output_type": "execute_result"
    },
    {
     "data": {
      "image/png": "[encoded data removed]",
      "text/plain": [
       "<Figure size 432x216 with 1 Axes>"
      ]
     },
     "metadata": {
      "needs_background": "light"
     },
     "output_type": "display_data"
    }
   ],
   "source": [
    "fig, ax = plt.subplots(1,1)\n",
    "df['pnl'].cumsum().plot(ax=ax)\n",
    "df['pnl_net'].cumsum().plot(ax=ax)"
   ]
  },
  {
   "cell_type": "markdown",
   "metadata": {},
   "source": [
    "### Sharpe <a class=\"anchor\" id=\"third-bullet-sharpe\"></a> "
   ]
  },
  {
   "cell_type": "code",
   "execution_count": 51,
   "metadata": {},
   "outputs": [
    {
     "name": "stdout",
     "output_type": "stream",
     "text": [
      "Sharpe with no filters is \n",
      "-0.21601989242053676\n"
     ]
    }
   ],
   "source": [
    "sharpe = df['pnl_net'].mean() / df['pnl_net'].std()\n",
    "print('Sharpe with no filters is \\n{}'.format(sharpe))"
   ]
  },
  {
   "cell_type": "markdown",
   "metadata": {},
   "source": [
    "## Worst case scenario"
   ]
  },
  {
   "cell_type": "code",
   "execution_count": 52,
   "metadata": {},
   "outputs": [],
   "source": [
    "k = 4\n",
    "\n",
    "for i in range(1, k):\n",
    "    df['spread_at_open_%d' % i] = df['spread_at_open'] * i\n",
    "    df['delta_move_%d' % i] = df['delta_move'] - df['spread_at_open_%d' % i]\n",
    "    df['pnl_net_%d' % i] = df['delta_move_%d' % i] * df['size']"
   ]
  },
  {
   "cell_type": "markdown",
   "metadata": {},
   "source": [
    "## Price and position size analysis <a class=\"anchor\" id=\"fourth-bullet\"></a> "
   ]
  },
  {
   "cell_type": "markdown",
   "metadata": {},
   "source": [
    "Let's check relation between `size` and `pnl`. What I expect to see is obviously with the rise of size there is the rise of absolute pnl"
   ]
  },
  {
   "cell_type": "code",
   "execution_count": 53,
   "metadata": {},
   "outputs": [
    {
     "name": "stdout",
     "output_type": "stream",
     "text": [
      "r_sqr value: 0.3511742604312228\n",
      "r_sqr value: 0.2483802793601011\n"
     ]
    },
    {
     "data": {
      "image/png": "[encoded data removed]",
      "text/plain": [
       "<Figure size 360x576 with 2 Axes>"
      ]
     },
     "metadata": {
      "needs_background": "light"
     },
     "output_type": "display_data"
    }
   ],
   "source": [
    "fig, (ax1, ax2) = plt.subplots(2, 1, sharex=True, figsize=(5,8))\n",
    "plot_scatter(df, ax1, 'size', 'abs_pnl')\n",
    "plot_scatter(df, ax2, 'size', 'pnl')"
   ]
  },
  {
   "cell_type": "markdown",
   "metadata": {},
   "source": [
    "Wow! From the first scatter plot we realize that there is a relationship between size and pnl. But what is more interesting is that we get a bunch of losses where the `size` is more than 50k. This may be due to such *phenomenon as we trade cheap stocks around let's say 1 dollar price and we lose 1 or a few cents which lead to huge losses.* "
   ]
  },
  {
   "cell_type": "markdown",
   "metadata": {},
   "source": [
    "### Bins <a class=\"anchor\" id=\"fourth-bullet-bins\"></a> "
   ]
  },
  {
   "cell_type": "markdown",
   "metadata": {},
   "source": [
    "What I will do next is to confirm the hypothesis above. I want to find out if cheaper price leads to more negative pnl and vice versa. In other words, I want to see more clearly how the average pnl changes with the size. For that, I will use binning - define the arbitrary number of quantiles and let pandas figure out how to divide up the data. "
   ]
  },
  {
   "cell_type": "code",
   "execution_count": 54,
   "metadata": {},
   "outputs": [
    {
     "data": {
      "text/html": [
       "<div>\n",
       "<style scoped>\n",
       "    .dataframe tbody tr th:only-of-type {\n",
       "        vertical-align: middle;\n",
       "    }\n",
       "\n",
       "    .dataframe tbody tr th {\n",
       "        vertical-align: top;\n",
       "    }\n",
       "\n",
       "    .dataframe thead th {\n",
       "        text-align: right;\n",
       "    }\n",
       "</style>\n",
       "<table border=\"1\" class=\"dataframe\">\n",
       "  <thead>\n",
       "    <tr style=\"text-align: right;\">\n",
       "      <th></th>\n",
       "      <th>count</th>\n",
       "      <th>avg_pnl</th>\n",
       "      <th>sum_pnl</th>\n",
       "      <th>min_size</th>\n",
       "      <th>max_size</th>\n",
       "      <th>quantile10_size</th>\n",
       "      <th>quantile90_size</th>\n",
       "      <th>avg_size</th>\n",
       "      <th>min_price</th>\n",
       "      <th>max_price</th>\n",
       "      <th>quantile10_price</th>\n",
       "      <th>quantile90_price</th>\n",
       "      <th>avg_price</th>\n",
       "    </tr>\n",
       "    <tr>\n",
       "      <th>size_group</th>\n",
       "      <th></th>\n",
       "      <th></th>\n",
       "      <th></th>\n",
       "      <th></th>\n",
       "      <th></th>\n",
       "      <th></th>\n",
       "      <th></th>\n",
       "      <th></th>\n",
       "      <th></th>\n",
       "      <th></th>\n",
       "      <th></th>\n",
       "      <th></th>\n",
       "      <th></th>\n",
       "    </tr>\n",
       "  </thead>\n",
       "  <tbody>\n",
       "    <tr>\n",
       "      <th>1</th>\n",
       "      <td>1836</td>\n",
       "      <td>2.849410</td>\n",
       "      <td>5231.516410</td>\n",
       "      <td>1.000000</td>\n",
       "      <td>150.000000</td>\n",
       "      <td>32.000000</td>\n",
       "      <td>121.000000</td>\n",
       "      <td>93.156293</td>\n",
       "      <td>0.46</td>\n",
       "      <td>499.18</td>\n",
       "      <td>33.425</td>\n",
       "      <td>214.990</td>\n",
       "      <td>112.622331</td>\n",
       "    </tr>\n",
       "    <tr>\n",
       "      <th>2</th>\n",
       "      <td>1813</td>\n",
       "      <td>4.899770</td>\n",
       "      <td>8883.283410</td>\n",
       "      <td>151.000000</td>\n",
       "      <td>273.044998</td>\n",
       "      <td>181.018761</td>\n",
       "      <td>248.000000</td>\n",
       "      <td>207.441631</td>\n",
       "      <td>0.25</td>\n",
       "      <td>327.02</td>\n",
       "      <td>33.914</td>\n",
       "      <td>227.380</td>\n",
       "      <td>117.919950</td>\n",
       "    </tr>\n",
       "    <tr>\n",
       "      <th>3</th>\n",
       "      <td>1833</td>\n",
       "      <td>2.408549</td>\n",
       "      <td>4414.870530</td>\n",
       "      <td>273.403325</td>\n",
       "      <td>402.000000</td>\n",
       "      <td>300.000000</td>\n",
       "      <td>400.000000</td>\n",
       "      <td>336.876953</td>\n",
       "      <td>0.17</td>\n",
       "      <td>182.88</td>\n",
       "      <td>26.078</td>\n",
       "      <td>154.706</td>\n",
       "      <td>82.797791</td>\n",
       "    </tr>\n",
       "    <tr>\n",
       "      <th>4</th>\n",
       "      <td>1816</td>\n",
       "      <td>1.610821</td>\n",
       "      <td>2925.251361</td>\n",
       "      <td>402.187902</td>\n",
       "      <td>629.643622</td>\n",
       "      <td>424.000000</td>\n",
       "      <td>601.000000</td>\n",
       "      <td>518.754637</td>\n",
       "      <td>0.17</td>\n",
       "      <td>124.32</td>\n",
       "      <td>21.600</td>\n",
       "      <td>104.040</td>\n",
       "      <td>63.947368</td>\n",
       "    </tr>\n",
       "    <tr>\n",
       "      <th>5</th>\n",
       "      <td>1826</td>\n",
       "      <td>1.720284</td>\n",
       "      <td>3141.238735</td>\n",
       "      <td>629.722922</td>\n",
       "      <td>945.358291</td>\n",
       "      <td>660.676544</td>\n",
       "      <td>903.179191</td>\n",
       "      <td>783.007922</td>\n",
       "      <td>0.28</td>\n",
       "      <td>79.40</td>\n",
       "      <td>19.800</td>\n",
       "      <td>71.465</td>\n",
       "      <td>47.912700</td>\n",
       "    </tr>\n",
       "    <tr>\n",
       "      <th>6</th>\n",
       "      <td>1847</td>\n",
       "      <td>-0.243757</td>\n",
       "      <td>-450.219397</td>\n",
       "      <td>946.073794</td>\n",
       "      <td>1400.000000</td>\n",
       "      <td>991.906084</td>\n",
       "      <td>1359.882513</td>\n",
       "      <td>1177.455615</td>\n",
       "      <td>0.49</td>\n",
       "      <td>52.85</td>\n",
       "      <td>17.882</td>\n",
       "      <td>48.662</td>\n",
       "      <td>35.388966</td>\n",
       "    </tr>\n",
       "    <tr>\n",
       "      <th>7</th>\n",
       "      <td>1800</td>\n",
       "      <td>-4.735213</td>\n",
       "      <td>-8523.383011</td>\n",
       "      <td>1400.168020</td>\n",
       "      <td>2146.844139</td>\n",
       "      <td>1454.300524</td>\n",
       "      <td>2061.855670</td>\n",
       "      <td>1742.983661</td>\n",
       "      <td>0.29</td>\n",
       "      <td>35.71</td>\n",
       "      <td>15.009</td>\n",
       "      <td>33.821</td>\n",
       "      <td>25.666978</td>\n",
       "    </tr>\n",
       "    <tr>\n",
       "      <th>8</th>\n",
       "      <td>1825</td>\n",
       "      <td>-8.970720</td>\n",
       "      <td>-16371.564819</td>\n",
       "      <td>2148.000000</td>\n",
       "      <td>3409.000000</td>\n",
       "      <td>2247.191011</td>\n",
       "      <td>3229.184496</td>\n",
       "      <td>2717.166388</td>\n",
       "      <td>0.34</td>\n",
       "      <td>23.27</td>\n",
       "      <td>11.512</td>\n",
       "      <td>21.896</td>\n",
       "      <td>17.199315</td>\n",
       "    </tr>\n",
       "    <tr>\n",
       "      <th>9</th>\n",
       "      <td>1824</td>\n",
       "      <td>-24.641359</td>\n",
       "      <td>-44945.838354</td>\n",
       "      <td>3410.641201</td>\n",
       "      <td>5688.282139</td>\n",
       "      <td>3572.194424</td>\n",
       "      <td>5307.855626</td>\n",
       "      <td>4430.249308</td>\n",
       "      <td>0.41</td>\n",
       "      <td>14.66</td>\n",
       "      <td>8.613</td>\n",
       "      <td>13.787</td>\n",
       "      <td>10.831113</td>\n",
       "    </tr>\n",
       "    <tr>\n",
       "      <th>10</th>\n",
       "      <td>1825</td>\n",
       "      <td>-102.031512</td>\n",
       "      <td>-186207.509250</td>\n",
       "      <td>5694.760820</td>\n",
       "      <td>294117.647100</td>\n",
       "      <td>6168.272670</td>\n",
       "      <td>22583.669642</td>\n",
       "      <td>13623.573698</td>\n",
       "      <td>0.12</td>\n",
       "      <td>8.78</td>\n",
       "      <td>1.950</td>\n",
       "      <td>7.950</td>\n",
       "      <td>4.922778</td>\n",
       "    </tr>\n",
       "  </tbody>\n",
       "</table>\n",
       "</div>"
      ],
      "text/plain": [
       "            count     avg_pnl        sum_pnl     min_size       max_size  \\\n",
       "size_group                                                                 \n",
       "1            1836    2.849410    5231.516410     1.000000     150.000000   \n",
       "2            1813    4.899770    8883.283410   151.000000     273.044998   \n",
       "3            1833    2.408549    4414.870530   273.403325     402.000000   \n",
       "4            1816    1.610821    2925.251361   402.187902     629.643622   \n",
       "5            1826    1.720284    3141.238735   629.722922     945.358291   \n",
       "6            1847   -0.243757    -450.219397   946.073794    1400.000000   \n",
       "7            1800   -4.735213   -8523.383011  1400.168020    2146.844139   \n",
       "8            1825   -8.970720  -16371.564819  2148.000000    3409.000000   \n",
       "9            1824  -24.641359  -44945.838354  3410.641201    5688.282139   \n",
       "10           1825 -102.031512 -186207.509250  5694.760820  294117.647100   \n",
       "\n",
       "            quantile10_size  quantile90_size      avg_size  min_price  \\\n",
       "size_group                                                              \n",
       "1                 32.000000       121.000000     93.156293       0.46   \n",
       "2                181.018761       248.000000    207.441631       0.25   \n",
       "3                300.000000       400.000000    336.876953       0.17   \n",
       "4                424.000000       601.000000    518.754637       0.17   \n",
       "5                660.676544       903.179191    783.007922       0.28   \n",
       "6                991.906084      1359.882513   1177.455615       0.49   \n",
       "7               1454.300524      2061.855670   1742.983661       0.29   \n",
       "8               2247.191011      3229.184496   2717.166388       0.34   \n",
       "9               3572.194424      5307.855626   4430.249308       0.41   \n",
       "10              6168.272670     22583.669642  13623.573698       0.12   \n",
       "\n",
       "            max_price  quantile10_price  quantile90_price   avg_price  \n",
       "size_group                                                             \n",
       "1              499.18            33.425           214.990  112.622331  \n",
       "2              327.02            33.914           227.380  117.919950  \n",
       "3              182.88            26.078           154.706   82.797791  \n",
       "4              124.32            21.600           104.040   63.947368  \n",
       "5               79.40            19.800            71.465   47.912700  \n",
       "6               52.85            17.882            48.662   35.388966  \n",
       "7               35.71            15.009            33.821   25.666978  \n",
       "8               23.27            11.512            21.896   17.199315  \n",
       "9               14.66             8.613            13.787   10.831113  \n",
       "10               8.78             1.950             7.950    4.922778  "
      ]
     },
     "execution_count": 54,
     "metadata": {},
     "output_type": "execute_result"
    }
   ],
   "source": [
    "# Pnl and size bins\n",
    "size_groups = 10\n",
    "df['size_group'] = pd.qcut(df['size'], size_groups, labels=list(range(1, size_groups+1)))\n",
    "df_size_group = pd.DataFrame()\n",
    "df_size_group['count'] = df.groupby('size_group')['pnl'].count()\n",
    "df_size_group['avg_pnl'] = df.groupby('size_group')['pnl'].mean()\n",
    "df_size_group['sum_pnl'] = df.groupby('size_group')['pnl'].sum()\n",
    "df_size_group['min_size'] = df.groupby('size_group')['size'].min()\n",
    "df_size_group['max_size'] = df.groupby('size_group')['size'].max()\n",
    "df_size_group['quantile10_size'] = df.groupby('size_group')['size'].quantile(0.1)\n",
    "df_size_group['quantile90_size'] = df.groupby('size_group')['size'].quantile(0.9)\n",
    "df_size_group['avg_size'] = df.groupby('size_group')['size'].mean()\n",
    "df_size_group['min_price'] = df.groupby('size_group')['open_price'].min()\n",
    "df_size_group['max_price'] = df.groupby('size_group')['open_price'].max()\n",
    "df_size_group['quantile10_price'] = df.groupby('size_group')['open_price'].quantile(0.1)\n",
    "df_size_group['quantile90_price'] = df.groupby('size_group')['open_price'].quantile(0.9)\n",
    "df_size_group['avg_price'] = df.groupby('size_group')['open_price'].mean()\n",
    "df_size_group"
   ]
  },
  {
   "cell_type": "code",
   "execution_count": 55,
   "metadata": {},
   "outputs": [
    {
     "data": {
      "text/plain": [
       "<matplotlib.collections.LineCollection at 0x12f537610>"
      ]
     },
     "execution_count": 55,
     "metadata": {},
     "output_type": "execute_result"
    },
    {
     "data": {
      "image/png": "[encoded data removed]",
      "text/plain": [
       "<Figure size 360x288 with 1 Axes>"
      ]
     },
     "metadata": {
      "needs_background": "light"
     },
     "output_type": "display_data"
    }
   ],
   "source": [
    "fig, (ax1) = plt.subplots(1, 1, figsize=(5,4))\n",
    "df_size_group['avg_pnl'].plot.bar(ax=ax1)\n",
    "ax1.hlines(0, 0, 10, linestyles='dashed', alpha=0.3)"
   ]
  },
  {
   "cell_type": "markdown",
   "metadata": {},
   "source": [
    "There is an equal number of observations/positions in each bin. And that the higher size in cheaper stocks leads to highly negative results. So, let's define our threshold. The first 5 groups are positive on pnl. I will take 90% percentile of size as my upper threshold for volume and 10% percentile of price as my bottom threshold for price.\n",
    "If we round these numbers we will get: **max_volume = 900** shares and **min_price = 20 dollars**."
   ]
  },
  {
   "cell_type": "code",
   "execution_count": 56,
   "metadata": {},
   "outputs": [],
   "source": [
    "# Filter\n",
    "max_volume = 900 \n",
    "min_price = 20 \n",
    "df_filter_vp = df[(df['size'] <= max_volume) & (df['open_price'] >= min_price)].copy()"
   ]
  },
  {
   "cell_type": "markdown",
   "metadata": {},
   "source": [
    "### Plot <a class=\"anchor\" id=\"fourth-bullet-plot\"></a> "
   ]
  },
  {
   "cell_type": "code",
   "execution_count": 57,
   "metadata": {},
   "outputs": [
    {
     "data": {
      "text/plain": [
       "<AxesSubplot:>"
      ]
     },
     "execution_count": 57,
     "metadata": {},
     "output_type": "execute_result"
    },
    {
     "data": {
      "image/png": "[encoded data removed]",
      "text/plain": [
       "<Figure size 432x216 with 1 Axes>"
      ]
     },
     "metadata": {
      "needs_background": "light"
     },
     "output_type": "display_data"
    }
   ],
   "source": [
    "fig, ax = plt.subplots(1,1)\n",
    "df_filter_vp['pnl'].cumsum().plot(ax=ax)\n",
    "df_filter_vp['pnl_net'].cumsum().plot(ax=ax)"
   ]
  },
  {
   "cell_type": "markdown",
   "metadata": {},
   "source": [
    "### Sharpe <a class=\"anchor\" id=\"fourth-bullet-sharpe\"></a> "
   ]
  },
  {
   "cell_type": "code",
   "execution_count": 58,
   "metadata": {},
   "outputs": [
    {
     "name": "stdout",
     "output_type": "stream",
     "text": [
      "Sharpe with next filters: max position size 900 shares, min price $20 is \n",
      "-0.003661818624924674\n"
     ]
    }
   ],
   "source": [
    "sharpe_vp = df_filter_vp['pnl_net'].mean() / df_filter_vp['pnl_net'].std()\n",
    "print('Sharpe with next filters: max position size {} shares, min price ${} is \\n{}'.format(max_volume, min_price, sharpe_vp))"
   ]
  },
  {
   "cell_type": "markdown",
   "metadata": {},
   "source": [
    "## Imbalance delta analysis <a class=\"anchor\" id=\"fifth-bullet\"></a> "
   ]
  },
  {
   "cell_type": "markdown",
   "metadata": {},
   "source": [
    "Let's apply same analysis to see if `abs_deltaImbPct`"
   ]
  },
  {
   "cell_type": "markdown",
   "metadata": {},
   "source": [
    "### Bins <a class=\"anchor\" id=\"fifth-bullet-bins\"></a> "
   ]
  },
  {
   "cell_type": "code",
   "execution_count": 59,
   "metadata": {},
   "outputs": [
    {
     "data": {
      "text/html": [
       "<div>\n",
       "<style scoped>\n",
       "    .dataframe tbody tr th:only-of-type {\n",
       "        vertical-align: middle;\n",
       "    }\n",
       "\n",
       "    .dataframe tbody tr th {\n",
       "        vertical-align: top;\n",
       "    }\n",
       "\n",
       "    .dataframe thead th {\n",
       "        text-align: right;\n",
       "    }\n",
       "</style>\n",
       "<table border=\"1\" class=\"dataframe\">\n",
       "  <thead>\n",
       "    <tr style=\"text-align: right;\">\n",
       "      <th></th>\n",
       "      <th>count</th>\n",
       "      <th>avg_pnl</th>\n",
       "      <th>sum_pnl</th>\n",
       "      <th>min_size</th>\n",
       "      <th>max_size</th>\n",
       "      <th>quantile10_size</th>\n",
       "      <th>quantile90_size</th>\n",
       "    </tr>\n",
       "    <tr>\n",
       "      <th>imb_group</th>\n",
       "      <th></th>\n",
       "      <th></th>\n",
       "      <th></th>\n",
       "      <th></th>\n",
       "      <th></th>\n",
       "      <th></th>\n",
       "      <th></th>\n",
       "    </tr>\n",
       "  </thead>\n",
       "  <tbody>\n",
       "    <tr>\n",
       "      <th>1</th>\n",
       "      <td>1063</td>\n",
       "      <td>-3.429071</td>\n",
       "      <td>-3645.102916</td>\n",
       "      <td>1.00</td>\n",
       "      <td>1.12</td>\n",
       "      <td>1.010</td>\n",
       "      <td>1.110</td>\n",
       "    </tr>\n",
       "    <tr>\n",
       "      <th>2</th>\n",
       "      <td>1051</td>\n",
       "      <td>-1.351900</td>\n",
       "      <td>-1420.846889</td>\n",
       "      <td>1.13</td>\n",
       "      <td>1.29</td>\n",
       "      <td>1.140</td>\n",
       "      <td>1.270</td>\n",
       "    </tr>\n",
       "    <tr>\n",
       "      <th>3</th>\n",
       "      <td>1014</td>\n",
       "      <td>2.816565</td>\n",
       "      <td>2855.996641</td>\n",
       "      <td>1.30</td>\n",
       "      <td>1.50</td>\n",
       "      <td>1.310</td>\n",
       "      <td>1.480</td>\n",
       "    </tr>\n",
       "    <tr>\n",
       "      <th>4</th>\n",
       "      <td>1080</td>\n",
       "      <td>-0.271322</td>\n",
       "      <td>-293.028297</td>\n",
       "      <td>1.51</td>\n",
       "      <td>1.81</td>\n",
       "      <td>1.530</td>\n",
       "      <td>1.780</td>\n",
       "    </tr>\n",
       "    <tr>\n",
       "      <th>5</th>\n",
       "      <td>1012</td>\n",
       "      <td>1.450277</td>\n",
       "      <td>1467.680440</td>\n",
       "      <td>1.82</td>\n",
       "      <td>2.28</td>\n",
       "      <td>1.850</td>\n",
       "      <td>2.230</td>\n",
       "    </tr>\n",
       "    <tr>\n",
       "      <th>6</th>\n",
       "      <td>1075</td>\n",
       "      <td>1.842135</td>\n",
       "      <td>1980.295266</td>\n",
       "      <td>2.29</td>\n",
       "      <td>3.07</td>\n",
       "      <td>2.340</td>\n",
       "      <td>2.950</td>\n",
       "    </tr>\n",
       "    <tr>\n",
       "      <th>7</th>\n",
       "      <td>1043</td>\n",
       "      <td>9.546712</td>\n",
       "      <td>9957.220311</td>\n",
       "      <td>3.08</td>\n",
       "      <td>4.91</td>\n",
       "      <td>3.182</td>\n",
       "      <td>4.648</td>\n",
       "    </tr>\n",
       "    <tr>\n",
       "      <th>8</th>\n",
       "      <td>1005</td>\n",
       "      <td>15.496425</td>\n",
       "      <td>15573.906643</td>\n",
       "      <td>4.92</td>\n",
       "      <td>155.66</td>\n",
       "      <td>5.280</td>\n",
       "      <td>17.636</td>\n",
       "    </tr>\n",
       "  </tbody>\n",
       "</table>\n",
       "</div>"
      ],
      "text/plain": [
       "           count    avg_pnl       sum_pnl  min_size  max_size  \\\n",
       "imb_group                                                       \n",
       "1           1063  -3.429071  -3645.102916      1.00      1.12   \n",
       "2           1051  -1.351900  -1420.846889      1.13      1.29   \n",
       "3           1014   2.816565   2855.996641      1.30      1.50   \n",
       "4           1080  -0.271322   -293.028297      1.51      1.81   \n",
       "5           1012   1.450277   1467.680440      1.82      2.28   \n",
       "6           1075   1.842135   1980.295266      2.29      3.07   \n",
       "7           1043   9.546712   9957.220311      3.08      4.91   \n",
       "8           1005  15.496425  15573.906643      4.92    155.66   \n",
       "\n",
       "           quantile10_size  quantile90_size  \n",
       "imb_group                                    \n",
       "1                    1.010            1.110  \n",
       "2                    1.140            1.270  \n",
       "3                    1.310            1.480  \n",
       "4                    1.530            1.780  \n",
       "5                    1.850            2.230  \n",
       "6                    2.340            2.950  \n",
       "7                    3.182            4.648  \n",
       "8                    5.280           17.636  "
      ]
     },
     "execution_count": 59,
     "metadata": {},
     "output_type": "execute_result"
    }
   ],
   "source": [
    "# Pnl and size bins\n",
    "imb_groups = 8\n",
    "df_filter_vp['imb_group'] = pd.qcut(df['abs_deltaImbPct'], imb_groups, labels=list(range(1, imb_groups+1)))\n",
    "df_imb_group = pd.DataFrame()\n",
    "df_imb_group['count'] = df_filter_vp.groupby('imb_group')['pnl'].count()\n",
    "df_imb_group['avg_pnl'] = df_filter_vp.groupby('imb_group')['pnl'].mean()\n",
    "df_imb_group['sum_pnl'] = df_filter_vp.groupby('imb_group')['pnl'].sum()\n",
    "df_imb_group['min_size'] = df_filter_vp.groupby('imb_group')['abs_deltaImbPct'].min()\n",
    "df_imb_group['max_size'] = df_filter_vp.groupby('imb_group')['abs_deltaImbPct'].max()\n",
    "df_imb_group['quantile10_size'] = df_filter_vp.groupby('imb_group')['abs_deltaImbPct'].quantile(0.1)\n",
    "df_imb_group['quantile90_size'] = df_filter_vp.groupby('imb_group')['abs_deltaImbPct'].quantile(0.9)\n",
    "\n",
    "df_imb_group"
   ]
  },
  {
   "cell_type": "code",
   "execution_count": 60,
   "metadata": {},
   "outputs": [
    {
     "data": {
      "text/plain": [
       "<matplotlib.collections.LineCollection at 0x12f64fc40>"
      ]
     },
     "execution_count": 60,
     "metadata": {},
     "output_type": "execute_result"
    },
    {
     "data": {
      "image/png": "[encoded data removed]",
      "text/plain": [
       "<Figure size 360x288 with 1 Axes>"
      ]
     },
     "metadata": {
      "needs_background": "light"
     },
     "output_type": "display_data"
    }
   ],
   "source": [
    "# Plot\n",
    "fig, (ax1) = plt.subplots(1, 1, figsize=(5,4))\n",
    "df_imb_group['avg_pnl'].plot.bar(ax=ax1)\n",
    "ax1.hlines(0, 0, 8, linestyles='dashed', alpha=0.3)"
   ]
  },
  {
   "cell_type": "markdown",
   "metadata": {},
   "source": [
    "Awesome! Another clear confirmation of our hypothesis. With more significant reversal we get better and better pnl. From group 5 the pnl becomes consistently positive. From group 7 it becomes much better. So, we can take both into consideration. The last one can be more conservative one. Let's define our thresholds for `abs_deltaImbPct`: **min_deltaImbPct = 1.8** and **min_deltaImbPct_conservative = 3**"
   ]
  },
  {
   "cell_type": "code",
   "execution_count": 61,
   "metadata": {},
   "outputs": [],
   "source": [
    "# Filter\n",
    "min_deltaImbPct = 1.8\n",
    "min_deltaImbPct_conservative = 3\n",
    "df_filter_vpi = df_filter_vp[df_filter_vp['abs_deltaImbPct'] > min_deltaImbPct].copy()\n",
    "df_filter_vpi_conservative = df_filter_vp[df_filter_vp['abs_deltaImbPct'] > min_deltaImbPct_conservative].copy()"
   ]
  },
  {
   "cell_type": "markdown",
   "metadata": {},
   "source": [
    "### Plot <a class=\"anchor\" id=\"fifth-bullet-plot\"></a> "
   ]
  },
  {
   "cell_type": "code",
   "execution_count": 62,
   "metadata": {},
   "outputs": [
    {
     "data": {
      "text/plain": [
       "<AxesSubplot:>"
      ]
     },
     "execution_count": 62,
     "metadata": {},
     "output_type": "execute_result"
    },
    {
     "data": {
      "image/png": "[encoded data removed]",
      "text/plain": [
       "<Figure size 720x288 with 2 Axes>"
      ]
     },
     "metadata": {
      "needs_background": "light"
     },
     "output_type": "display_data"
    }
   ],
   "source": [
    "fig, (ax1, ax2) = plt.subplots(1,2, figsize=(10,4))\n",
    "df_filter_vpi['pnl'].cumsum().plot(ax=ax1)\n",
    "df_filter_vpi['pnl_net'].cumsum().plot(ax=ax1)\n",
    "df_filter_vpi_conservative['pnl'].cumsum().plot(ax=ax2)\n",
    "df_filter_vpi_conservative['pnl_net'].cumsum().plot(ax=ax2)"
   ]
  },
  {
   "cell_type": "markdown",
   "metadata": {},
   "source": [
    "### Sharpe <a class=\"anchor\" id=\"fifth-bullet-sharpe\"></a> "
   ]
  },
  {
   "cell_type": "code",
   "execution_count": 63,
   "metadata": {},
   "outputs": [
    {
     "name": "stdout",
     "output_type": "stream",
     "text": [
      "Sharpe with next filters: max position size 900 shares, min price $20, min delta imbalance pct 1.8% is \n",
      "0.04998545580071103\n",
      "Sharpe with next filters: max position size 900 shares, min price $20, min delta imbalance pct 3% is \n",
      "0.10606326843998547\n"
     ]
    }
   ],
   "source": [
    "sharpe_vpi = df_filter_vpi['pnl_net'].mean() / df_filter_vpi['pnl_net'].std()\n",
    "sharpe_vpi_conservative = df_filter_vpi_conservative['pnl_net'].mean() / df_filter_vpi_conservative['pnl_net'].std()\n",
    "print('Sharpe with next filters: max position size {} shares, min price ${}, min delta imbalance pct {}% is \\n{}'.format(max_volume, min_price, min_deltaImbPct, sharpe_vpi))\n",
    "print('Sharpe with next filters: max position size {} shares, min price ${}, min delta imbalance pct {}% is \\n{}'.format(max_volume, min_price, min_deltaImbPct_conservative, sharpe_vpi_conservative))"
   ]
  },
  {
   "cell_type": "markdown",
   "metadata": {},
   "source": [
    "## Close status analysis <a class=\"anchor\" id=\"sixth-bullet\"></a> "
   ]
  },
  {
   "cell_type": "markdown",
   "metadata": {},
   "source": [
    "There are two types of close statuses: moc and market. Moc is used when the position is entered later then 59th minute. As holding period is 1 min it means that there is no enough time to close on market. With moc order we don't pay spread. Consequently, we expect better avg pnl.   "
   ]
  },
  {
   "cell_type": "code",
   "execution_count": 64,
   "metadata": {},
   "outputs": [
    {
     "data": {
      "text/html": [
       "<div>\n",
       "<style scoped>\n",
       "    .dataframe tbody tr th:only-of-type {\n",
       "        vertical-align: middle;\n",
       "    }\n",
       "\n",
       "    .dataframe tbody tr th {\n",
       "        vertical-align: top;\n",
       "    }\n",
       "\n",
       "    .dataframe thead th {\n",
       "        text-align: right;\n",
       "    }\n",
       "</style>\n",
       "<table border=\"1\" class=\"dataframe\">\n",
       "  <thead>\n",
       "    <tr style=\"text-align: right;\">\n",
       "      <th></th>\n",
       "      <th>sum_pnl</th>\n",
       "      <th>avg_pnl</th>\n",
       "      <th>count</th>\n",
       "    </tr>\n",
       "    <tr>\n",
       "      <th>close_status</th>\n",
       "      <th></th>\n",
       "      <th></th>\n",
       "      <th></th>\n",
       "    </tr>\n",
       "  </thead>\n",
       "  <tbody>\n",
       "    <tr>\n",
       "      <th>market</th>\n",
       "      <td>-2675.177956</td>\n",
       "      <td>-1.006842</td>\n",
       "      <td>2657</td>\n",
       "    </tr>\n",
       "    <tr>\n",
       "      <th>moc</th>\n",
       "      <td>31844.567281</td>\n",
       "      <td>21.117087</td>\n",
       "      <td>1508</td>\n",
       "    </tr>\n",
       "  </tbody>\n",
       "</table>\n",
       "</div>"
      ],
      "text/plain": [
       "                   sum_pnl    avg_pnl  count\n",
       "close_status                                \n",
       "market        -2675.177956  -1.006842   2657\n",
       "moc           31844.567281  21.117087   1508"
      ]
     },
     "execution_count": 64,
     "metadata": {},
     "output_type": "execute_result"
    }
   ],
   "source": [
    "df_close_status_group = pd.DataFrame() \n",
    "df_close_status_group['sum_pnl'] = df_filter_vpi.groupby('close_status')['pnl'].sum()\n",
    "df_close_status_group['avg_pnl'] = df_filter_vpi.groupby('close_status')['pnl'].mean()\n",
    "df_close_status_group['count'] = df_filter_vpi.groupby('close_status')['pnl'].count()\n",
    "df_close_status_group"
   ]
  },
  {
   "cell_type": "markdown",
   "metadata": {},
   "source": [
    "As expected, trades after 15:59 are much more profitable. The same moment, trades \"on market\" are negative on average. Also, it is worht mentioning that number of trades with moc status are twice less than on market. It is important point when we take into consideration commissions."
   ]
  },
  {
   "cell_type": "code",
   "execution_count": null,
   "metadata": {},
   "outputs": [],
   "source": [
    "# Filter\n",
    "close_status = 'moc'\n",
    "df_filter_vpis = df_filter_vpi[df_filter_vpi['close_status']==close_status].copy()\n",
    "df_filter_vpis_conservative = df_filter_vpi_conservative[df_filter_vpi_conservative['close_status']==close_status].copy()"
   ]
  },
  {
   "cell_type": "markdown",
   "metadata": {},
   "source": [
    "### Plot <a class=\"anchor\" id=\"sixth-bullet-plot\"></a> "
   ]
  },
  {
   "cell_type": "code",
   "execution_count": null,
   "metadata": {},
   "outputs": [],
   "source": [
    "fig, (ax1, ax2) = plt.subplots(1, 2, figsize=(10,4))\n",
    "df_filter_vpis['pnl'].cumsum().plot(ax=ax1)\n",
    "df_filter_vpis['pnl_net'].cumsum().plot(ax=ax1)\n",
    "# df_filter_vpis_conservative['pnl'].cumsum().plot(ax=ax2)\n",
    "df_filter_vpis_conservative[['pnl_net', 'pnl_net_1', 'pnl_net_2', 'pnl_net_3']].cumsum().plot(ax=ax2)"
   ]
  },
  {
   "cell_type": "markdown",
   "metadata": {},
   "source": [
    "### Sharpe <a class=\"anchor\" id=\"sixth-bullet-sharpe\"></a> "
   ]
  },
  {
   "cell_type": "code",
   "execution_count": null,
   "metadata": {},
   "outputs": [],
   "source": [
    "sharpe_vpis = df_filter_vpis['pnl_net'].mean() / df_filter_vpis['pnl_net'].std()\n",
    "sharpe_vpis_conservative = df_filter_vpis_conservative['pnl_net'].mean() / df_filter_vpis_conservative['pnl_net'].std()\n",
    "print('Sharpe with next filters: max position size {} shares, min price ${}, min delta imbalance pct {}%, close status {} is \\n{}'.format(max_volume, min_price, min_deltaImbPct, close_status, sharpe_vpis))\n",
    "print('Sharpe with next filters: max position size {} shares, min price ${}, min delta imbalance pct {}%, close status {} is \\n{}'.format(max_volume, min_price, min_deltaImbPct_conservative, close_status, sharpe_vpis_conservative))"
   ]
  },
  {
   "cell_type": "markdown",
   "metadata": {},
   "source": [
    "## MAE/MFE <a class=\"anchor\" id=\"seventh-bullet\"></a> "
   ]
  },
  {
   "cell_type": "markdown",
   "metadata": {},
   "source": [
    "*Maximum Adverse Excursion (MAE)* - the MAE is the largest experienced loss during a trade; it measures how far price went against you.\n",
    "\n",
    "*Maximum Favorable Excursion (MFE)* - the MFE is the opposite of the MAE and it measures the largest observed profit during a trade.\n",
    "\n",
    "It is useful to understand the MAE and MFE of trades in order to inform the setting of stop and take profit levels. In reality, I find these metrics to be more useful from an academic perspective rather than a practical one, as often the placement of stops and take profit levels is dependent on volatility, and thus examination of MAE and MFE without considering volatility is of limited use. Still, visualizing these metrics can quickly alert you as to whether there is something drastically wrong with your strategy’s exit conditions. \n",
    "\n",
    "Timing columns:`start`, `stop`, `max_pnl_time`, `min_pnl_time`\n",
    "\n",
    "Price column: `open_price`, `close_price`, `max_pnl_price`, `min_pnl_price`"
   ]
  },
  {
   "cell_type": "code",
   "execution_count": null,
   "metadata": {},
   "outputs": [],
   "source": [
    "# MAE\n",
    "df_filter_vpi.loc[df_filter_vpi['direction'] == 'Long', 'delta_move_mae'] = df_filter_vpi['min_pnl_price'] - df_filter_vpi['open_price'] \n",
    "df_filter_vpi.loc[df_filter_vpi['direction'] == 'Short', 'delta_move_mae'] = df_filter_vpi['open_price'] - df_filter_vpi['min_pnl_price']\n",
    "# MFE\n",
    "df_filter_vpi.loc[df_filter_vpi['direction'] == 'Long', 'delta_move_mfe'] = df_filter_vpi['max_pnl_price'] - df_filter_vpi['open_price'] \n",
    "df_filter_vpi.loc[df_filter_vpi['direction'] == 'Short', 'delta_move_mfe'] = df_filter_vpi['open_price'] - df_filter_vpi['max_pnl_price']"
   ]
  },
  {
   "cell_type": "markdown",
   "metadata": {},
   "source": [
    "### Plot <a class=\"anchor\" id=\"seventh-bullet-plot\"></a> "
   ]
  },
  {
   "cell_type": "code",
   "execution_count": null,
   "metadata": {},
   "outputs": [],
   "source": [
    "fig, ax = plt.subplots(1, 1, figsize=(10,8))\n",
    "xcolumn = 'delta_move_mae'\n",
    "ycolumn = 'delta_move'\n",
    "col = np.where(df_filter_vpi[ycolumn].values < 0,'r',np.where(df_filter_vpi[ycolumn].values > 0,'g','b'))\n",
    "ax.scatter(df_filter_vpi[xcolumn].values, df_filter_vpi[ycolumn].values, c=col)\n",
    "ax.set_xlabel(xcolumn, fontsize=12)\n",
    "ax.set_ylabel(ycolumn, fontsize=12)\n",
    "ax.hlines(0, df_filter_vpi[xcolumn].min(), df_filter_vpi[xcolumn].max(), linestyles='dashed', alpha=0.3)\n",
    "ax.vlines(0, df_filter_vpi[ycolumn].min(), df_filter_vpi[ycolumn].max(), linestyles='dashed', alpha=0.3)"
   ]
  },
  {
   "cell_type": "markdown",
   "metadata": {},
   "source": [
    "On the horizontal axis, we have the trade MAE in pct. On the vertical axis, we have the trade final profit in pct. Red dots denote losing trades; green dots denote winning trades. We can see that all the trades that lie above zero on the vertical axis are thus represented as green dots, and those lying below zero as red dots.  Notice that there is a diagonally downwards sloping invisible line that appears to act as a hard limit – there are no red dots below this line. Of course, dots that lie along this line represent trades whose MAE is equal to their final result – that is, they were closed at the worst possible time. \n",
    "\n",
    "...\n",
    "\n",
    "That means that we could make our stop loss slightly wider than this MAE and not stop out any winning trades at all, however, all the losing trades that lost more than X pct would be limited to losing only X pct (plus slippage). "
   ]
  },
  {
   "cell_type": "markdown",
   "metadata": {},
   "source": [
    "The same but in pnl measures. The assumption we make here is that our pnl already incorporates volatility. We could suggest stop loss on pnl as a function of bp (buying power). "
   ]
  },
  {
   "cell_type": "code",
   "execution_count": null,
   "metadata": {},
   "outputs": [],
   "source": [
    "df_filter_vpi['pnl_mae'] = df_filter_vpi['delta_move_mae'] * df_filter_vpi['size']\n",
    "df_filter_vpi['pnl_mfe'] = df_filter_vpi['delta_move_mfe'] * df_filter_vpi['size']"
   ]
  },
  {
   "cell_type": "code",
   "execution_count": null,
   "metadata": {},
   "outputs": [],
   "source": [
    "# Plot\n",
    "fig, ax = plt.subplots(1, 1, figsize=(10,8))\n",
    "xcolumn = 'pnl_mae'\n",
    "ycolumn = 'pnl'\n",
    "col = np.where(df_filter_vpi[ycolumn].values < 0,'r',np.where(df_filter_vpi[ycolumn].values > 0,'g','b'))\n",
    "ax.scatter(df_filter_vpi[xcolumn].values, df_filter_vpi[ycolumn].values, c=col)\n",
    "ax.set_xlabel(xcolumn, fontsize=12)\n",
    "ax.set_ylabel(ycolumn, fontsize=12)\n",
    "ax.hlines(0, df_filter_vpi[xcolumn].min(), df_filter_vpi[xcolumn].max(), linestyles='dashed', alpha=0.3)\n",
    "ax.vlines(0, df_filter_vpi[ycolumn].min(), df_filter_vpi[ycolumn].max(), linestyles='dashed', alpha=0.3)"
   ]
  },
  {
   "cell_type": "markdown",
   "metadata": {},
   "source": [
    "As we have seen on previous ananlysis of close status the **market trades** are negative on average. Let's focus on this part to see if we can make it better with the help of MAE/MFE analysis."
   ]
  },
  {
   "cell_type": "code",
   "execution_count": null,
   "metadata": {},
   "outputs": [],
   "source": [
    "df_filter_vpi_market = df_filter_vpi[df_filter_vpi['close_status']=='market'].copy()\n",
    "print('Count: {}\\nMean: {}\\nSum: {}\\nSharpe: {}'.format(df_filter_vpi_market['pnl_net'].count(), df_filter_vpi_market['pnl_net'].mean(), df_filter_vpi_market['pnl_net'].sum(), df_filter_vpi_market['pnl_net'].mean()/df_filter_vpi_market['pnl_net'].std()))"
   ]
  },
  {
   "cell_type": "markdown",
   "metadata": {},
   "source": [
    "Plot MAE for this dataframe"
   ]
  },
  {
   "cell_type": "code",
   "execution_count": null,
   "metadata": {},
   "outputs": [],
   "source": [
    "# Plot\n",
    "fig, ax = plt.subplots(1, 1, figsize=(10,8))\n",
    "xcolumn = 'pnl_mae'\n",
    "ycolumn = 'pnl'\n",
    "col = np.where(df_filter_vpi_market[ycolumn].values < 0,'r',np.where(df_filter_vpi_market[ycolumn].values > 0,'g','b'))\n",
    "ax.scatter(df_filter_vpi_market[xcolumn].values, df_filter_vpi_market[ycolumn].values, c=col)\n",
    "ax.set_xlabel(xcolumn, fontsize=12)\n",
    "ax.set_ylabel(ycolumn, fontsize=12)\n",
    "ax.hlines(0, df_filter_vpi_market[xcolumn].min(), df_filter_vpi_market[xcolumn].max(), linestyles='dashed', alpha=0.3)\n",
    "ax.vlines(0, df_filter_vpi_market[ycolumn].min(), df_filter_vpi_market[ycolumn].max(), linestyles='dashed', alpha=0.3)"
   ]
  },
  {
   "cell_type": "markdown",
   "metadata": {},
   "source": [
    "### Stop loss <a class=\"anchor\" id=\"seventh-bullet-sl\"></a> "
   ]
  },
  {
   "cell_type": "markdown",
   "metadata": {},
   "source": [
    "Definitely, we have some big losses. Let's imagine that we are going to implement *stop loss*. Green dot that lies the most to the left is trade with the biggest drawdown which is around -200 dollars. This will be our first stop loss.    "
   ]
  },
  {
   "cell_type": "code",
   "execution_count": null,
   "metadata": {},
   "outputs": [],
   "source": [
    "stop_loss = -250\n",
    "colname = 'pnl_stop{}'.format(stop_loss)\n",
    "df_filter_vpi_market[colname] = np.where(df_filter_vpi_market['pnl_mae'] < stop_loss, stop_loss, df_filter_vpi_market['pnl'])"
   ]
  },
  {
   "cell_type": "code",
   "execution_count": null,
   "metadata": {},
   "outputs": [],
   "source": [
    "# Plot\n",
    "fig, ax = plt.subplots(1, 1, figsize=(10,8))\n",
    "xcolumn = 'pnl_mae'\n",
    "ycolumn = colname\n",
    "col = np.where(df_filter_vpi_market[ycolumn].values < 0,'r',np.where(df_filter_vpi_market[ycolumn].values > 0,'g','b'))\n",
    "ax.scatter(df_filter_vpi_market[xcolumn].values, df_filter_vpi_market[ycolumn].values, c=col)\n",
    "ax.set_xlabel(xcolumn, fontsize=12)\n",
    "ax.set_ylabel(ycolumn, fontsize=12)\n",
    "ax.hlines(0, df_filter_vpi_market[xcolumn].min(), df_filter_vpi_market[xcolumn].max(), linestyles='dashed', alpha=0.3)\n",
    "ax.vlines(0, df_filter_vpi_market[ycolumn].min(), df_filter_vpi_market[ycolumn].max(), linestyles='dashed', alpha=0.3)\n",
    "ax.vlines(stop_loss, df_filter_vpi_market[ycolumn].min(), df_filter_vpi_market[ycolumn].max(), linestyles='dashed', alpha=0.3)"
   ]
  },
  {
   "cell_type": "markdown",
   "metadata": {},
   "source": [
    "All our green dots remained green. We just limited losses to 250 dollars. Check sharpe"
   ]
  },
  {
   "cell_type": "code",
   "execution_count": null,
   "metadata": {},
   "outputs": [],
   "source": [
    "print('Count: {}\\nMean: {}\\nSum: {}\\nSharpe: {}'.format(df_filter_vpi_market[colname].count(), df_filter_vpi_market[colname].mean(), df_filter_vpi_market[colname].sum(), df_filter_vpi_market[colname].mean()/df_filter_vpi_market[colname].std()))"
   ]
  },
  {
   "cell_type": "markdown",
   "metadata": {},
   "source": [
    "Now we are at break even. Let's see what happens if we sacrifice some profitable trades in the sake of cutting more losses. New stop loss -120 dollars."
   ]
  },
  {
   "cell_type": "code",
   "execution_count": null,
   "metadata": {},
   "outputs": [],
   "source": [
    "stop_loss = -100\n",
    "colname = 'pnl_stop{}'.format(stop_loss)\n",
    "df_filter_vpi_market[colname] = np.where(df_filter_vpi_market['pnl_mae'] < stop_loss, stop_loss, df_filter_vpi_market['pnl'])"
   ]
  },
  {
   "cell_type": "code",
   "execution_count": null,
   "metadata": {},
   "outputs": [],
   "source": [
    "# Plot\n",
    "fig, ax = plt.subplots(1, 1, figsize=(10,8))\n",
    "xcolumn = 'pnl_mae'\n",
    "ycolumn = colname\n",
    "col = np.where(df_filter_vpi_market[ycolumn].values < 0,'r',np.where(df_filter_vpi_market[ycolumn].values > 0,'g','b'))\n",
    "ax.scatter(df_filter_vpi_market[xcolumn].values, df_filter_vpi_market[ycolumn].values, c=col)\n",
    "ax.set_xlabel(xcolumn, fontsize=12)\n",
    "ax.set_ylabel(ycolumn, fontsize=12)\n",
    "ax.hlines(0, df_filter_vpi_market[xcolumn].min(), df_filter_vpi_market[xcolumn].max(), linestyles='dashed', alpha=0.3)\n",
    "ax.vlines(0, df_filter_vpi_market[ycolumn].min(), df_filter_vpi_market[ycolumn].max(), linestyles='dashed', alpha=0.3)\n",
    "ax.vlines(stop_loss, df_filter_vpi_market[ycolumn].min(), df_filter_vpi_market[ycolumn].max(), linestyles='dashed', alpha=0.3)"
   ]
  },
  {
   "cell_type": "code",
   "execution_count": null,
   "metadata": {},
   "outputs": [],
   "source": [
    "print('Count: {}\\nMean: {}\\nSum: {}\\nSharpe: {}'.format(df_filter_vpi_market[colname].count(), df_filter_vpi_market[colname].mean(), df_filter_vpi_market[colname].sum(), df_filter_vpi_market[colname].mean()/df_filter_vpi_market[colname].std()))"
   ]
  },
  {
   "cell_type": "markdown",
   "metadata": {},
   "source": [
    "Again, much better results. But for the moment I will leave it as it is because I don't want to overoptimize. After all, **risk management is important but it doesn't give us an edge**. \n",
    "\n",
    "At this stage of analysis I want to classify my trades according to ..."
   ]
  },
  {
   "cell_type": "code",
   "execution_count": null,
   "metadata": {},
   "outputs": [],
   "source": [
    "df_filter_vpi_market['delta_time_max_min'] = (pd.to_datetime(df_filter_vpi_market['max_pnl_time']) - pd.to_datetime(df_filter_vpi_market['min_pnl_time'])).dt.total_seconds() \n",
    "df_filter_vpi_market['delta_time_max_open'] = (pd.to_datetime(df_filter_vpi_market['max_pnl_time']) - pd.to_datetime(df_filter_vpi_market['start'])).dt.total_seconds() \n",
    "df_filter_vpi_market['delta_time_min_open'] = (pd.to_datetime(df_filter_vpi_market['min_pnl_time']) - pd.to_datetime(df_filter_vpi_market['start'])).dt.total_seconds() \n",
    "df_filter_vpi_market['delta_time_close_open'] = (pd.to_datetime(df_filter_vpi_market['stop']) - pd.to_datetime(df_filter_vpi_market['start'])).dt.total_seconds() "
   ]
  },
  {
   "cell_type": "code",
   "execution_count": null,
   "metadata": {},
   "outputs": [],
   "source": [
    "df_filter_vpi_market[['delta_time_min_open', 'delta_time_max_open']].hist(layout=(1,2),bins=60, figsize=(20,6), sharey=True)\n",
    "plt.tight_layout()"
   ]
  },
  {
   "cell_type": "code",
   "execution_count": null,
   "metadata": {},
   "outputs": [],
   "source": [
    "df_filter_vpi_market['delta_time_min_open_group'] = pd.cut(df_filter_vpi_market['delta_time_min_open'], 12, labels=list(range(1, 13)))\n",
    "df_filter_vpi_market['delta_time_max_open_group'] = pd.cut(df_filter_vpi_market['delta_time_max_open'], 12, labels=list(range(1, 13)))\n",
    "\n",
    "df_delta_time_group = pd.DataFrame()\n",
    "df_delta_time_group['count_mae'] = df_filter_vpi_market.groupby('delta_time_min_open_group')['pnl_mae'].count()\n",
    "df_delta_time_group['mean_mae'] = df_filter_vpi_market.groupby('delta_time_min_open_group')['pnl_mae'].mean()\n",
    "df_delta_time_group['sum_mae'] = df_filter_vpi_market.groupby('delta_time_min_open_group')['pnl_mae'].sum()\n",
    "df_delta_time_group['count_mfe'] = df_filter_vpi_market.groupby('delta_time_max_open_group')['pnl_mfe'].count()\n",
    "df_delta_time_group['mean_mfe'] = df_filter_vpi_market.groupby('delta_time_max_open_group')['pnl_mfe'].mean()\n",
    "df_delta_time_group['sum_mfe'] = df_filter_vpi_market.groupby('delta_time_max_open_group')['pnl_mfe'].sum()\n",
    "df_delta_time_group"
   ]
  },
  {
   "cell_type": "markdown",
   "metadata": {},
   "source": [
    "I see nothing that I can make better with this peace of analysis."
   ]
  },
  {
   "cell_type": "markdown",
   "metadata": {},
   "source": [
    "## MOC print imapct <a class=\"anchor\" id=\"eighth-bullet\"></a> "
   ]
  },
  {
   "cell_type": "markdown",
   "metadata": {},
   "source": [
    "First, let's calculate hypothetical pnl in case we wanted to close position just the moment before market close."
   ]
  },
  {
   "cell_type": "code",
   "execution_count": null,
   "metadata": {},
   "outputs": [],
   "source": [
    "df_filter_vpis['delta_move_no_moc'] = np.where(df_filter_vpis['direction']=='Long', df_filter_vpis['close_price'] - df_filter_vpis['open_price'], df_filter_vpis['open_price'] - df_filter_vpis['close_price'])\n",
    "df_filter_vpis['pnl_no_moc'] = df_filter_vpis['delta_move_no_moc'] * df_filter_vpis['size']\n",
    "df_filter_vpis.loc[df_filter_vpis['direction'] == 'Long', 'delta_move_mfe'] = df_filter_vpis['max_pnl_price'] - df_filter_vpis['open_price'] \n",
    "df_filter_vpis.loc[df_filter_vpis['direction'] == 'Short', 'delta_move_mfe'] = df_filter_vpis['open_price'] - df_filter_vpis['max_pnl_price']\n",
    "df_filter_vpis['pnl_mfe'] = df_filter_vpis['delta_move_mfe'] * df_filter_vpis['size']\n",
    "df_filter_vpis['delta_pnl'] = df_filter_vpis['pnl'] - df_filter_vpis['pnl_no_moc']\n",
    "print('Sum Pnl with moc: {}\\nSum Pnl no moc: {}\\nSum Pnl max: {}'.format(df_filter_vpis['pnl'].sum(), df_filter_vpis['pnl_no_moc'].sum(), df_filter_vpis['pnl_mfe'].sum()))\n",
    "# print(df_filter_vpis.loc[df_filter_vpis['pnl'] > df_filter_vpis['pnl_mfe'],['imbBeforeReversePct', 'imbAfterReversePct']].abs().quantile(0.9))\n",
    "# print(df_filter_vpis.loc[df_filter_vpis['pnl'] > df_filter_vpis['pnl_no_moc'],['imbBeforeReversePct', 'imbAfterReversePct']].abs().quantile(0.9))\n",
    "# print(df_filter_vpis.loc[:,['imbBeforeReversePct', 'imbAfterReversePct']].abs().quantile(0.9))"
   ]
  },
  {
   "cell_type": "markdown",
   "metadata": {},
   "source": [
    "## Seasonality analysis <a class=\"anchor\" id=\"nineth-bullet\"></a> "
   ]
  },
  {
   "cell_type": "markdown",
   "metadata": {},
   "source": [
    "And as a lst part of analysis I want to do seasonality analysis. What I mean is usually on Friday the moc trading is more active due to final trading day of the week and some triple and quadruple witchings. I expect to see higher pnl on average on Fridays.  "
   ]
  },
  {
   "cell_type": "code",
   "execution_count": null,
   "metadata": {},
   "outputs": [],
   "source": [
    "df_filter_vpis['timeindex'] = pd.to_datetime(df_filter_vpis['date'])\n",
    "df_filter_vpis['day_name'] = df_filter_vpis['timeindex'].map(lambda row: row.strftime(\"%A\"))\n",
    "\n",
    "df_filter_vpis_conservative['timeindex'] = pd.to_datetime(df_filter_vpis_conservative['date'])\n",
    "df_filter_vpis_conservative['day_name'] = df_filter_vpis_conservative['timeindex'].map(lambda row: row.strftime(\"%A\"))"
   ]
  },
  {
   "cell_type": "code",
   "execution_count": null,
   "metadata": {},
   "outputs": [],
   "source": [
    "df_day_group = pd.DataFrame()\n",
    "day_names = ['Monday', 'Tuesday', 'Wednesday', 'Thursday', 'Friday']\n",
    "df_day_group['count'] = df_filter_vpis.groupby('day_name')['pnl'].count().reindex(day_names)\n",
    "df_day_group['avg_pnl'] = df_filter_vpis.groupby('day_name')['pnl'].mean().reindex(day_names)\n",
    "df_day_group['sum_pnl'] = df_filter_vpis.groupby('day_name')['pnl'].sum().reindex(day_names)\n",
    "df_day_group"
   ]
  },
  {
   "cell_type": "markdown",
   "metadata": {},
   "source": [
    "### Bins <a class=\"anchor\" id=\"nineth-bullet-bins\"></a> "
   ]
  },
  {
   "cell_type": "code",
   "execution_count": null,
   "metadata": {},
   "outputs": [],
   "source": [
    "fig, ax = plt.subplots(1, 1, figsize=(5,4))\n",
    "df_day_group['avg_pnl'].plot.bar(ax=ax)\n",
    "fig.tight_layout()"
   ]
  },
  {
   "cell_type": "markdown",
   "metadata": {},
   "source": [
    "And again we got the confirmation of hypothesis. Friday seems to be the most active due to number of trades and most profitable day by a wide margin."
   ]
  },
  {
   "cell_type": "code",
   "execution_count": null,
   "metadata": {},
   "outputs": [],
   "source": [
    "# Filter\n",
    "day_filter = 'Friday'\n",
    "df_filter_vpisd = df_filter_vpis[df_filter_vpis['day_name']==day_filter].copy()\n",
    "df_filter_vpisd_conservative = df_filter_vpis_conservative[df_filter_vpis_conservative['day_name']==day_filter].copy()"
   ]
  },
  {
   "cell_type": "markdown",
   "metadata": {},
   "source": [
    "### Plot <a class=\"anchor\" id=\"nineth-bullet-plot\"></a> "
   ]
  },
  {
   "cell_type": "code",
   "execution_count": null,
   "metadata": {},
   "outputs": [],
   "source": [
    "# Plot\n",
    "fig, (ax1, ax2) = plt.subplots(1, 2, figsize=(10,4))\n",
    "df_filter_vpisd[['pnl', 'pnl_net']].cumsum().plot(ax=ax1)\n",
    "df_filter_vpisd_conservative[['pnl', 'pnl_net']].cumsum().plot(ax=ax2)"
   ]
  },
  {
   "cell_type": "markdown",
   "metadata": {},
   "source": [
    "### Sharpe <a class=\"anchor\" id=\"nineth-bullet-sharpe\"></a> "
   ]
  },
  {
   "cell_type": "code",
   "execution_count": null,
   "metadata": {},
   "outputs": [],
   "source": [
    "sharpe_vpisd = df_filter_vpisd['pnl_net'].mean()/df_filter_vpisd['pnl_net'].std()\n",
    "sharpe_vpisd_conservative = df_filter_vpisd_conservative['pnl_net'].mean()/df_filter_vpisd_conservative['pnl_net'].std()\n",
    "print('Sharpe with next filters: max position size {} shares, min price ${}, min delta imbalance pct {}%, close status {}, day {} is \\n{}'.format(max_volume, min_price, min_deltaImbPct, close_status, day_filter, sharpe_vpisd))\n",
    "print('Sharpe with next filters: max position size {} shares, min price ${}, min delta imbalance pct {}%, close status {}, day {} is \\n{}'.format(max_volume, min_price, min_deltaImbPct_conservative, close_status, day_filter, sharpe_vpisd_conservative))"
   ]
  },
  {
   "cell_type": "markdown",
   "metadata": {},
   "source": [
    "And this is another significant improvement of sharpe."
   ]
  },
  {
   "cell_type": "markdown",
   "metadata": {},
   "source": [
    "## Finally <a class=\"anchor\" id=\"tenth-bullet\"></a> "
   ]
  },
  {
   "cell_type": "code",
   "execution_count": null,
   "metadata": {},
   "outputs": [],
   "source": [
    "df_resample = pd.DataFrame()\n",
    "# Copy\n",
    "df_filter_vpis_copy = df_filter_vpis.copy()\n",
    "# Add columns\n",
    "df_filter_vpis_copy.loc[df_filter_vpis_copy['direction'] == 'Long', 'delta_move_mae'] = df_filter_vpis_copy['min_pnl_price'] - df_filter_vpis_copy['open_price'] \n",
    "df_filter_vpis_copy.loc[df_filter_vpis_copy['direction'] == 'Short', 'delta_move_mae'] = df_filter_vpis_copy['open_price'] - df_filter_vpis_copy['min_pnl_price']\n",
    "# Timeindex\n",
    "df_filter_vpis_copy.set_index('timeindex', inplace=True)\n",
    "# Pnl\n",
    "df_resample['GrossPnl'] = df_filter_vpis_copy['pnl'].resample('B').sum()\n",
    "df_resample['NetPnl'] = df_filter_vpis_copy['pnl_net'].resample('B').sum()\n",
    "df_resample['CumGrossPnl'] = df_resample['GrossPnl'].cumsum().fillna(0)\n",
    "df_resample['CumNetPnl'] = df_resample['NetPnl'].cumsum().fillna(0)\n",
    "# Volume\n",
    "df_resample['Volume'] = df_filter_vpis_copy['size'].resample('B').sum()\n",
    "df_resample['Turnover'] = df_resample['Volume'] * 2\n",
    "# Hold\n",
    "df_filter_vpis_copy['delta_time_close_open'] = (pd.to_datetime(df_filter_vpis_copy['stop']) - pd.to_datetime(df_filter_vpis_copy['start'])).dt.total_seconds() \n",
    "df_resample['AvgHold'] = df_filter_vpis_copy['delta_time_close_open'].resample('B').mean()\n",
    "# Symbols\n",
    "TradedSymbols = len(df_filter_vpis_copy['symbol'].unique())\n",
    "# MAE\n",
    "df_filter_vpis_copy['pnl_mae'] = df_filter_vpis_copy['delta_move_mae'] * df_filter_vpis_copy['size']\n",
    "df_resample['MinMAE'] = df_filter_vpis_copy['pnl_mae'].resample('B').min()\n",
    "# Filter zero volume days - no trading\n",
    "df_resample = df_resample[df_resample['Volume'] > 0]\n",
    "# Drawdown\n",
    "df_resample['RollMax'] = df_resample['CumNetPnl'].cummax()\n",
    "df_resample['Drawdown'] = df_resample['CumNetPnl'] - df_resample['RollMax'] #/ df_resample['RollMax']"
   ]
  },
  {
   "cell_type": "code",
   "execution_count": null,
   "metadata": {},
   "outputs": [],
   "source": [
    "df_stats = pd.DataFrame()\n",
    "df_filter_vpis_copy.loc[df_filter_vpis_copy['pnl']<0, 'WinLoss'] = 'Loss'\n",
    "df_filter_vpis_copy.loc[df_filter_vpis_copy['pnl']>0, 'WinLoss'] = 'Win'\n",
    "df_filter_vpis_copy.loc[df_filter_vpis_copy['pnl']==0, 'WinLoss'] = 'Flat'\n",
    "df_stats['count'] = df_filter_vpis_copy.groupby('WinLoss')['pnl'].count()\n",
    "df_stats['avg'] = df_filter_vpis_copy.groupby('WinLoss')['pnl'].mean()"
   ]
  },
  {
   "cell_type": "markdown",
   "metadata": {},
   "source": [
    "### Ratios <a class=\"anchor\" id=\"tenth-bullet-ratios\"></a> "
   ]
  },
  {
   "cell_type": "code",
   "execution_count": null,
   "metadata": {},
   "outputs": [],
   "source": [
    "PnL = round(df_resample['NetPnl'].sum(), 0)\n",
    "PPS = round(df_resample['GrossPnl'].sum() / df_resample['Volume'].sum(), 5)\n",
    "Turnover = df_resample['Turnover'].sum()\n",
    "AvgWin = round(df_stats.loc['Win', 'avg'], 2)\n",
    "AvgLoss = round(df_stats.loc['Loss', 'avg'], 2)\n",
    "TotalTrades = df_stats.loc[:, 'count'].sum()\n",
    "AvgWinPct = round(df_stats.loc['Win', 'count'] * 100 / TotalTrades, 2)\n",
    "AvgLossPct = round(df_stats.loc['Loss', 'count'] * 100  / TotalTrades, 2)\n",
    "AvgWinLossRatio = round(abs(AvgWin / AvgLoss), 2)\n",
    "TradedDays = len(df_resample[df_resample['Volume'] > 0])\n",
    "AvgHold = round(df_resample['AvgHold'].mean(), 2)\n",
    "Sharpe = round(np.sqrt(252) * df_resample['NetPnl'].mean() / df_resample['NetPnl'].std(), 2)\n",
    "MaxDD = round(df_resample['Drawdown'].min(), 2)\n",
    "MeanDD = round(df_resample['Drawdown'].mean(), 2)\n",
    "MaxDDPct = round(MaxDD * 100 / PnL, 2)\n",
    "MeanDDPct =round( MeanDD * 100 / PnL, 2)\n",
    "BestDay = round(df_resample['NetPnl'].max(), 0)\n",
    "WorstDay = round(df_resample['NetPnl'].min(), 0)\n",
    "ProfitableDaysPct = round(len(df_resample[df_resample['NetPnl'] > 0]) * 100 / len(df_resample), 2)\n",
    "WorstTradeMAE = round(df_resample['MinMAE'].min(), 2)"
   ]
  },
  {
   "cell_type": "code",
   "execution_count": null,
   "metadata": {},
   "outputs": [],
   "source": [
    "ratios = []\n",
    "ratios.append({'PnL': PnL, \n",
    "               'PPS': PPS, \n",
    "               'Turnover': Turnover, \n",
    "               'TradedSymbols': TradedSymbols, \n",
    "               'AvgWin': AvgWin, \n",
    "               'AvgLoss': AvgLoss, \n",
    "               'AvgWin%': AvgWinPct, \n",
    "               'AvgLoss%': AvgLossPct, \n",
    "               'WinToLossRatio': AvgWinLossRatio, \n",
    "               'TradedDays': TradedDays, \n",
    "               'AvgHold': AvgHold, \n",
    "               'BestDay': BestDay, \n",
    "               'WorstDay': WorstDay, \n",
    "               'ProfitableDays%': ProfitableDaysPct, \n",
    "               'Sharpe': Sharpe, \n",
    "               'MaxDD': MaxDD, \n",
    "               'MeanDD': MeanDD, \n",
    "               'MaxDD%': MaxDDPct, \n",
    "               'MeanDD%': MeanDDPct, \n",
    "               'WorstTradeMAE': WorstTradeMAE})\n",
    "\n",
    "df_ratios = pd.DataFrame(ratios)\n",
    "df_ratios"
   ]
  },
  {
   "cell_type": "markdown",
   "metadata": {},
   "source": [
    "### Plot <a class=\"anchor\" id=\"tenth-bullet-plot\"></a> "
   ]
  },
  {
   "cell_type": "code",
   "execution_count": null,
   "metadata": {},
   "outputs": [],
   "source": [
    "fig, (ax1, ax2) = plt.subplots(2, 1, sharex=True, figsize=(20, 12))\n",
    "df_resample[['CumGrossPnl', 'CumNetPnl']].plot(ax=ax1)\n",
    "df_resample['Drawdown'].plot(ax=ax2)"
   ]
  },
  {
   "cell_type": "markdown",
   "metadata": {},
   "source": [
    "## Table of contents:\n",
    "* [Libraries, functions, constants](#first-bullet)\n",
    "* [Peak at data](#second-bullet)\n",
    "* [Commissions](#third-bullet)\n",
    "    * [Plot](#third-bullet-plot)\n",
    "    * [Sharpe](#third-bullet-sharpe)\n",
    "* [Price and position size analysis](#fourth-bullet)\n",
    "    * [Bins](#fourth-bullet-bins)\n",
    "    * [Plot](#fourth-bullet-plot)\n",
    "    * [Sharpe](#fourth-bullet-sharpe)\n",
    "* [Imbalance delta analysis](#fifth-bullet)\n",
    "    * [Bins](#fifth-bullet-bins)\n",
    "    * [Plot](#fifth-bullet-plot)\n",
    "    * [Sharpe](#fifth-bullet-sharpe)\n",
    "* [Close status analysis](#sixth-bullet)\n",
    "    * [Plot](#sixth-bullet-plot)\n",
    "    * [Sharpe](#sixth-bullet-sharpe)\n",
    "* [MAE/MFE](#seventh-bullet)\n",
    "    * [Plot](#seventh-bullet-plot)\n",
    "    * [Stop loss](#seventh-bullet-sl)\n",
    "* [MOC print imapct ](#eigth-bullet)\n",
    "* [Seasonality analysis](#nineth-bullet)\n",
    "    * [Bins](#nineth-bullet-bins)\n",
    "    * [Plot](#nineth-bullet-plot)\n",
    "    * [Sharpe](#nineth-bullet-sharpe)\n",
    "* [Finally](#tenth-bullet)\n",
    "    * [Ratios](#tenth-bullet-ratios)\n",
    "    * [Plot](#tenth-bullet-plot)"
   ]
  },
  {
   "cell_type": "code",
   "execution_count": null,
   "metadata": {},
   "outputs": [],
   "source": []
  }
 ],
 "metadata": {
  "kernelspec": {
   "display_name": "moc_imbalance_flip",
   "language": "python",
   "name": "moc_imbalance_flip"
  },
  "language_info": {
   "codemirror_mode": {
    "name": "ipython",
    "version": 3
   },
   "file_extension": ".py",
   "mimetype": "text/x-python",
   "name": "python",
   "nbconvert_exporter": "python",
   "pygments_lexer": "ipython3",
   "version": "3.9.0"
  }
 },
 "nbformat": 4,
 "nbformat_minor": 4
}
